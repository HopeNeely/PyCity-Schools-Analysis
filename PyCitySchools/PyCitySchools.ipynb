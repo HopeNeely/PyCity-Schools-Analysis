{
 "cells": [
  {
   "cell_type": "markdown",
   "metadata": {},
   "source": [
    "# City Schools Pandas Challenge "
   ]
  },
  {
   "cell_type": "markdown",
   "metadata": {},
   "source": [
    "This analysis of the district-wide standardized test results aggregates data containing student's math and reading \n",
    "scores, as well as various information on the schools they attend. The purpose is to showcase obvious trends in school \n",
    "performance."
   ]
  },
  {
   "cell_type": "code",
   "execution_count": 2,
   "metadata": {},
   "outputs": [],
   "source": [
    "# Dependencies\n",
    "import pandas as pd"
   ]
  },
  {
   "cell_type": "code",
   "execution_count": 3,
   "metadata": {},
   "outputs": [],
   "source": [
    "# Store filepath for the school file\n",
    "school_file = \"Resources/schools_complete.csv\""
   ]
  },
  {
   "cell_type": "code",
   "execution_count": 4,
   "metadata": {},
   "outputs": [],
   "source": [
    "#Store filepath for the student file\n",
    "student_file = \"Resources/students_complete.csv\""
   ]
  },
  {
   "cell_type": "code",
   "execution_count": 5,
   "metadata": {},
   "outputs": [
    {
     "data": {
      "text/html": [
       "<div>\n",
       "<style scoped>\n",
       "    .dataframe tbody tr th:only-of-type {\n",
       "        vertical-align: middle;\n",
       "    }\n",
       "\n",
       "    .dataframe tbody tr th {\n",
       "        vertical-align: top;\n",
       "    }\n",
       "\n",
       "    .dataframe thead th {\n",
       "        text-align: right;\n",
       "    }\n",
       "</style>\n",
       "<table border=\"1\" class=\"dataframe\">\n",
       "  <thead>\n",
       "    <tr style=\"text-align: right;\">\n",
       "      <th></th>\n",
       "      <th>School ID</th>\n",
       "      <th>school_name</th>\n",
       "      <th>type</th>\n",
       "      <th>size</th>\n",
       "      <th>budget</th>\n",
       "    </tr>\n",
       "  </thead>\n",
       "  <tbody>\n",
       "    <tr>\n",
       "      <th>0</th>\n",
       "      <td>0</td>\n",
       "      <td>Huang High School</td>\n",
       "      <td>District</td>\n",
       "      <td>2917</td>\n",
       "      <td>1910635</td>\n",
       "    </tr>\n",
       "    <tr>\n",
       "      <th>1</th>\n",
       "      <td>1</td>\n",
       "      <td>Figueroa High School</td>\n",
       "      <td>District</td>\n",
       "      <td>2949</td>\n",
       "      <td>1884411</td>\n",
       "    </tr>\n",
       "    <tr>\n",
       "      <th>2</th>\n",
       "      <td>2</td>\n",
       "      <td>Shelton High School</td>\n",
       "      <td>Charter</td>\n",
       "      <td>1761</td>\n",
       "      <td>1056600</td>\n",
       "    </tr>\n",
       "    <tr>\n",
       "      <th>3</th>\n",
       "      <td>3</td>\n",
       "      <td>Hernandez High School</td>\n",
       "      <td>District</td>\n",
       "      <td>4635</td>\n",
       "      <td>3022020</td>\n",
       "    </tr>\n",
       "    <tr>\n",
       "      <th>4</th>\n",
       "      <td>4</td>\n",
       "      <td>Griffin High School</td>\n",
       "      <td>Charter</td>\n",
       "      <td>1468</td>\n",
       "      <td>917500</td>\n",
       "    </tr>\n",
       "  </tbody>\n",
       "</table>\n",
       "</div>"
      ],
      "text/plain": [
       "   School ID            school_name      type  size   budget\n",
       "0          0      Huang High School  District  2917  1910635\n",
       "1          1   Figueroa High School  District  2949  1884411\n",
       "2          2    Shelton High School   Charter  1761  1056600\n",
       "3          3  Hernandez High School  District  4635  3022020\n",
       "4          4    Griffin High School   Charter  1468   917500"
      ]
     },
     "execution_count": 5,
     "metadata": {},
     "output_type": "execute_result"
    }
   ],
   "source": [
    "# Read the school file with the pandas library\n",
    "school_df = pd.read_csv(school_file)\n",
    "school_df.head()"
   ]
  },
  {
   "cell_type": "code",
   "execution_count": 6,
   "metadata": {},
   "outputs": [
    {
     "data": {
      "text/html": [
       "<div>\n",
       "<style scoped>\n",
       "    .dataframe tbody tr th:only-of-type {\n",
       "        vertical-align: middle;\n",
       "    }\n",
       "\n",
       "    .dataframe tbody tr th {\n",
       "        vertical-align: top;\n",
       "    }\n",
       "\n",
       "    .dataframe thead th {\n",
       "        text-align: right;\n",
       "    }\n",
       "</style>\n",
       "<table border=\"1\" class=\"dataframe\">\n",
       "  <thead>\n",
       "    <tr style=\"text-align: right;\">\n",
       "      <th></th>\n",
       "      <th>Student ID</th>\n",
       "      <th>student_name</th>\n",
       "      <th>gender</th>\n",
       "      <th>grade</th>\n",
       "      <th>school_name</th>\n",
       "      <th>reading_score</th>\n",
       "      <th>math_score</th>\n",
       "    </tr>\n",
       "  </thead>\n",
       "  <tbody>\n",
       "    <tr>\n",
       "      <th>0</th>\n",
       "      <td>0</td>\n",
       "      <td>Paul Bradley</td>\n",
       "      <td>M</td>\n",
       "      <td>9th</td>\n",
       "      <td>Huang High School</td>\n",
       "      <td>66</td>\n",
       "      <td>79</td>\n",
       "    </tr>\n",
       "    <tr>\n",
       "      <th>1</th>\n",
       "      <td>1</td>\n",
       "      <td>Victor Smith</td>\n",
       "      <td>M</td>\n",
       "      <td>12th</td>\n",
       "      <td>Huang High School</td>\n",
       "      <td>94</td>\n",
       "      <td>61</td>\n",
       "    </tr>\n",
       "    <tr>\n",
       "      <th>2</th>\n",
       "      <td>2</td>\n",
       "      <td>Kevin Rodriguez</td>\n",
       "      <td>M</td>\n",
       "      <td>12th</td>\n",
       "      <td>Huang High School</td>\n",
       "      <td>90</td>\n",
       "      <td>60</td>\n",
       "    </tr>\n",
       "    <tr>\n",
       "      <th>3</th>\n",
       "      <td>3</td>\n",
       "      <td>Dr. Richard Scott</td>\n",
       "      <td>M</td>\n",
       "      <td>12th</td>\n",
       "      <td>Huang High School</td>\n",
       "      <td>67</td>\n",
       "      <td>58</td>\n",
       "    </tr>\n",
       "    <tr>\n",
       "      <th>4</th>\n",
       "      <td>4</td>\n",
       "      <td>Bonnie Ray</td>\n",
       "      <td>F</td>\n",
       "      <td>9th</td>\n",
       "      <td>Huang High School</td>\n",
       "      <td>97</td>\n",
       "      <td>84</td>\n",
       "    </tr>\n",
       "  </tbody>\n",
       "</table>\n",
       "</div>"
      ],
      "text/plain": [
       "   Student ID       student_name gender grade        school_name  \\\n",
       "0           0       Paul Bradley      M   9th  Huang High School   \n",
       "1           1       Victor Smith      M  12th  Huang High School   \n",
       "2           2    Kevin Rodriguez      M  12th  Huang High School   \n",
       "3           3  Dr. Richard Scott      M  12th  Huang High School   \n",
       "4           4         Bonnie Ray      F   9th  Huang High School   \n",
       "\n",
       "   reading_score  math_score  \n",
       "0             66          79  \n",
       "1             94          61  \n",
       "2             90          60  \n",
       "3             67          58  \n",
       "4             97          84  "
      ]
     },
     "execution_count": 6,
     "metadata": {},
     "output_type": "execute_result"
    }
   ],
   "source": [
    "# Read the student file with the pandas library\n",
    "student_df = pd.read_csv(student_file)\n",
    "student_df.head()"
   ]
  },
  {
   "cell_type": "markdown",
   "metadata": {},
   "source": [
    "# District Summary"
   ]
  },
  {
   "cell_type": "code",
   "execution_count": 7,
   "metadata": {},
   "outputs": [],
   "source": [
    "# This is a high level snapshot of the district's key metrics."
   ]
  },
  {
   "cell_type": "code",
   "execution_count": 8,
   "metadata": {},
   "outputs": [],
   "source": [
    "#Find district summary information, like total schools\n",
    "total_schools = school_df[\"school_name\"].count()\n",
    "#total_schools"
   ]
  },
  {
   "cell_type": "code",
   "execution_count": 9,
   "metadata": {},
   "outputs": [],
   "source": [
    "total_students = school_df[\"size\"].sum()\n",
    "#total_students"
   ]
  },
  {
   "cell_type": "code",
   "execution_count": 10,
   "metadata": {},
   "outputs": [],
   "source": [
    "total_budget = school_df[\"budget\"].sum()\n",
    "#total_budget"
   ]
  },
  {
   "cell_type": "code",
   "execution_count": 11,
   "metadata": {},
   "outputs": [],
   "source": [
    "average_math_score = student_df[\"math_score\"].mean()\n",
    "#average_math_score"
   ]
  },
  {
   "cell_type": "code",
   "execution_count": 12,
   "metadata": {},
   "outputs": [],
   "source": [
    "average_reading_score = student_df[\"reading_score\"].mean()\n",
    "#average_reading_score"
   ]
  },
  {
   "cell_type": "code",
   "execution_count": 13,
   "metadata": {
    "scrolled": false
   },
   "outputs": [],
   "source": [
    "# Find percent of students passing math, start with total scores:\n",
    "#total_math_score = student_df[\"math_score\"].count()\n",
    "#total_math_score"
   ]
  },
  {
   "cell_type": "code",
   "execution_count": 14,
   "metadata": {},
   "outputs": [],
   "source": [
    "# Create bins to hold pass/fail data for both math and reading\n",
    "bins = [0, 59, 100]\n",
    "\n",
    "bin_names = [\"Fail\", \"Pass\"]"
   ]
  },
  {
   "cell_type": "code",
   "execution_count": 15,
   "metadata": {},
   "outputs": [
    {
     "data": {
      "text/html": [
       "<div>\n",
       "<style scoped>\n",
       "    .dataframe tbody tr th:only-of-type {\n",
       "        vertical-align: middle;\n",
       "    }\n",
       "\n",
       "    .dataframe tbody tr th {\n",
       "        vertical-align: top;\n",
       "    }\n",
       "\n",
       "    .dataframe thead th {\n",
       "        text-align: right;\n",
       "    }\n",
       "</style>\n",
       "<table border=\"1\" class=\"dataframe\">\n",
       "  <thead>\n",
       "    <tr style=\"text-align: right;\">\n",
       "      <th></th>\n",
       "      <th>Student ID</th>\n",
       "      <th>student_name</th>\n",
       "      <th>gender</th>\n",
       "      <th>grade</th>\n",
       "      <th>school_name</th>\n",
       "      <th>reading_score</th>\n",
       "      <th>math_score</th>\n",
       "      <th>math_passfail</th>\n",
       "    </tr>\n",
       "  </thead>\n",
       "  <tbody>\n",
       "    <tr>\n",
       "      <th>0</th>\n",
       "      <td>0</td>\n",
       "      <td>Paul Bradley</td>\n",
       "      <td>M</td>\n",
       "      <td>9th</td>\n",
       "      <td>Huang High School</td>\n",
       "      <td>66</td>\n",
       "      <td>79</td>\n",
       "      <td>Pass</td>\n",
       "    </tr>\n",
       "    <tr>\n",
       "      <th>1</th>\n",
       "      <td>1</td>\n",
       "      <td>Victor Smith</td>\n",
       "      <td>M</td>\n",
       "      <td>12th</td>\n",
       "      <td>Huang High School</td>\n",
       "      <td>94</td>\n",
       "      <td>61</td>\n",
       "      <td>Pass</td>\n",
       "    </tr>\n",
       "    <tr>\n",
       "      <th>2</th>\n",
       "      <td>2</td>\n",
       "      <td>Kevin Rodriguez</td>\n",
       "      <td>M</td>\n",
       "      <td>12th</td>\n",
       "      <td>Huang High School</td>\n",
       "      <td>90</td>\n",
       "      <td>60</td>\n",
       "      <td>Pass</td>\n",
       "    </tr>\n",
       "    <tr>\n",
       "      <th>3</th>\n",
       "      <td>3</td>\n",
       "      <td>Dr. Richard Scott</td>\n",
       "      <td>M</td>\n",
       "      <td>12th</td>\n",
       "      <td>Huang High School</td>\n",
       "      <td>67</td>\n",
       "      <td>58</td>\n",
       "      <td>Fail</td>\n",
       "    </tr>\n",
       "    <tr>\n",
       "      <th>4</th>\n",
       "      <td>4</td>\n",
       "      <td>Bonnie Ray</td>\n",
       "      <td>F</td>\n",
       "      <td>9th</td>\n",
       "      <td>Huang High School</td>\n",
       "      <td>97</td>\n",
       "      <td>84</td>\n",
       "      <td>Pass</td>\n",
       "    </tr>\n",
       "    <tr>\n",
       "      <th>...</th>\n",
       "      <td>...</td>\n",
       "      <td>...</td>\n",
       "      <td>...</td>\n",
       "      <td>...</td>\n",
       "      <td>...</td>\n",
       "      <td>...</td>\n",
       "      <td>...</td>\n",
       "      <td>...</td>\n",
       "    </tr>\n",
       "    <tr>\n",
       "      <th>39165</th>\n",
       "      <td>39165</td>\n",
       "      <td>Donna Howard</td>\n",
       "      <td>F</td>\n",
       "      <td>12th</td>\n",
       "      <td>Thomas High School</td>\n",
       "      <td>99</td>\n",
       "      <td>90</td>\n",
       "      <td>Pass</td>\n",
       "    </tr>\n",
       "    <tr>\n",
       "      <th>39166</th>\n",
       "      <td>39166</td>\n",
       "      <td>Dawn Bell</td>\n",
       "      <td>F</td>\n",
       "      <td>10th</td>\n",
       "      <td>Thomas High School</td>\n",
       "      <td>95</td>\n",
       "      <td>70</td>\n",
       "      <td>Pass</td>\n",
       "    </tr>\n",
       "    <tr>\n",
       "      <th>39167</th>\n",
       "      <td>39167</td>\n",
       "      <td>Rebecca Tanner</td>\n",
       "      <td>F</td>\n",
       "      <td>9th</td>\n",
       "      <td>Thomas High School</td>\n",
       "      <td>73</td>\n",
       "      <td>84</td>\n",
       "      <td>Pass</td>\n",
       "    </tr>\n",
       "    <tr>\n",
       "      <th>39168</th>\n",
       "      <td>39168</td>\n",
       "      <td>Desiree Kidd</td>\n",
       "      <td>F</td>\n",
       "      <td>10th</td>\n",
       "      <td>Thomas High School</td>\n",
       "      <td>99</td>\n",
       "      <td>90</td>\n",
       "      <td>Pass</td>\n",
       "    </tr>\n",
       "    <tr>\n",
       "      <th>39169</th>\n",
       "      <td>39169</td>\n",
       "      <td>Carolyn Jackson</td>\n",
       "      <td>F</td>\n",
       "      <td>11th</td>\n",
       "      <td>Thomas High School</td>\n",
       "      <td>95</td>\n",
       "      <td>75</td>\n",
       "      <td>Pass</td>\n",
       "    </tr>\n",
       "  </tbody>\n",
       "</table>\n",
       "<p>39170 rows × 8 columns</p>\n",
       "</div>"
      ],
      "text/plain": [
       "       Student ID       student_name gender grade         school_name  \\\n",
       "0               0       Paul Bradley      M   9th   Huang High School   \n",
       "1               1       Victor Smith      M  12th   Huang High School   \n",
       "2               2    Kevin Rodriguez      M  12th   Huang High School   \n",
       "3               3  Dr. Richard Scott      M  12th   Huang High School   \n",
       "4               4         Bonnie Ray      F   9th   Huang High School   \n",
       "...           ...                ...    ...   ...                 ...   \n",
       "39165       39165       Donna Howard      F  12th  Thomas High School   \n",
       "39166       39166          Dawn Bell      F  10th  Thomas High School   \n",
       "39167       39167     Rebecca Tanner      F   9th  Thomas High School   \n",
       "39168       39168       Desiree Kidd      F  10th  Thomas High School   \n",
       "39169       39169    Carolyn Jackson      F  11th  Thomas High School   \n",
       "\n",
       "       reading_score  math_score math_passfail  \n",
       "0                 66          79          Pass  \n",
       "1                 94          61          Pass  \n",
       "2                 90          60          Pass  \n",
       "3                 67          58          Fail  \n",
       "4                 97          84          Pass  \n",
       "...              ...         ...           ...  \n",
       "39165             99          90          Pass  \n",
       "39166             95          70          Pass  \n",
       "39167             73          84          Pass  \n",
       "39168             99          90          Pass  \n",
       "39169             95          75          Pass  \n",
       "\n",
       "[39170 rows x 8 columns]"
      ]
     },
     "execution_count": 15,
     "metadata": {},
     "output_type": "execute_result"
    }
   ],
   "source": [
    "# Identify math scores as either pass or fail and add to bins\n",
    "binned_math = pd.cut(student_df['math_score'], bins, labels=bin_names)\n",
    "# Create column in student data frame\n",
    "student_df['math_passfail'] = binned_math\n",
    "student_df"
   ]
  },
  {
   "cell_type": "code",
   "execution_count": 16,
   "metadata": {},
   "outputs": [],
   "source": [
    "# Find total reading scores for percent passing reading function: \n",
    "#total_reading_score = student_df[\"reading_score\"].count()\n",
    "#total_reading_score"
   ]
  },
  {
   "cell_type": "code",
   "execution_count": 17,
   "metadata": {},
   "outputs": [],
   "source": [
    "# Identify reading scores as either pass or fail and add to bins\n",
    "binned_reading = pd.cut(student_df['reading_score'], bins, labels=bin_names)\n",
    "# Create column in student data frame\n",
    "student_df['reading_passfail'] = binned_reading\n",
    "#student_df"
   ]
  },
  {
   "cell_type": "code",
   "execution_count": 18,
   "metadata": {},
   "outputs": [],
   "source": [
    "# Find total number of students with passing math scores\n",
    "math_pass = student_df['math_passfail'].value_counts('Pass')\n",
    "#math_pass"
   ]
  },
  {
   "cell_type": "code",
   "execution_count": 19,
   "metadata": {},
   "outputs": [],
   "source": [
    "# Find total number of students with passing reading scores\n",
    "reading_pass = student_df['reading_passfail'].value_counts('Pass')\n",
    "#reading_pass"
   ]
  },
  {
   "cell_type": "code",
   "execution_count": 20,
   "metadata": {},
   "outputs": [
    {
     "data": {
      "text/html": [
       "<div>\n",
       "<style scoped>\n",
       "    .dataframe tbody tr th:only-of-type {\n",
       "        vertical-align: middle;\n",
       "    }\n",
       "\n",
       "    .dataframe tbody tr th {\n",
       "        vertical-align: top;\n",
       "    }\n",
       "\n",
       "    .dataframe thead th {\n",
       "        text-align: right;\n",
       "    }\n",
       "</style>\n",
       "<table border=\"1\" class=\"dataframe\">\n",
       "  <thead>\n",
       "    <tr style=\"text-align: right;\">\n",
       "      <th></th>\n",
       "      <th>Student ID</th>\n",
       "      <th>student_name</th>\n",
       "      <th>gender</th>\n",
       "      <th>grade</th>\n",
       "      <th>school_name</th>\n",
       "      <th>reading_score</th>\n",
       "      <th>math_score</th>\n",
       "      <th>math_passfail</th>\n",
       "      <th>reading_passfail</th>\n",
       "      <th>overall_passfail</th>\n",
       "    </tr>\n",
       "  </thead>\n",
       "  <tbody>\n",
       "    <tr>\n",
       "      <th>0</th>\n",
       "      <td>0</td>\n",
       "      <td>Paul Bradley</td>\n",
       "      <td>M</td>\n",
       "      <td>9th</td>\n",
       "      <td>Huang High School</td>\n",
       "      <td>66</td>\n",
       "      <td>79</td>\n",
       "      <td>Pass</td>\n",
       "      <td>Pass</td>\n",
       "      <td>PassPass</td>\n",
       "    </tr>\n",
       "    <tr>\n",
       "      <th>1</th>\n",
       "      <td>1</td>\n",
       "      <td>Victor Smith</td>\n",
       "      <td>M</td>\n",
       "      <td>12th</td>\n",
       "      <td>Huang High School</td>\n",
       "      <td>94</td>\n",
       "      <td>61</td>\n",
       "      <td>Pass</td>\n",
       "      <td>Pass</td>\n",
       "      <td>PassPass</td>\n",
       "    </tr>\n",
       "    <tr>\n",
       "      <th>2</th>\n",
       "      <td>2</td>\n",
       "      <td>Kevin Rodriguez</td>\n",
       "      <td>M</td>\n",
       "      <td>12th</td>\n",
       "      <td>Huang High School</td>\n",
       "      <td>90</td>\n",
       "      <td>60</td>\n",
       "      <td>Pass</td>\n",
       "      <td>Pass</td>\n",
       "      <td>PassPass</td>\n",
       "    </tr>\n",
       "    <tr>\n",
       "      <th>3</th>\n",
       "      <td>3</td>\n",
       "      <td>Dr. Richard Scott</td>\n",
       "      <td>M</td>\n",
       "      <td>12th</td>\n",
       "      <td>Huang High School</td>\n",
       "      <td>67</td>\n",
       "      <td>58</td>\n",
       "      <td>Fail</td>\n",
       "      <td>Pass</td>\n",
       "      <td>FailPass</td>\n",
       "    </tr>\n",
       "    <tr>\n",
       "      <th>4</th>\n",
       "      <td>4</td>\n",
       "      <td>Bonnie Ray</td>\n",
       "      <td>F</td>\n",
       "      <td>9th</td>\n",
       "      <td>Huang High School</td>\n",
       "      <td>97</td>\n",
       "      <td>84</td>\n",
       "      <td>Pass</td>\n",
       "      <td>Pass</td>\n",
       "      <td>PassPass</td>\n",
       "    </tr>\n",
       "  </tbody>\n",
       "</table>\n",
       "</div>"
      ],
      "text/plain": [
       "   Student ID       student_name gender grade        school_name  \\\n",
       "0           0       Paul Bradley      M   9th  Huang High School   \n",
       "1           1       Victor Smith      M  12th  Huang High School   \n",
       "2           2    Kevin Rodriguez      M  12th  Huang High School   \n",
       "3           3  Dr. Richard Scott      M  12th  Huang High School   \n",
       "4           4         Bonnie Ray      F   9th  Huang High School   \n",
       "\n",
       "   reading_score  math_score math_passfail reading_passfail overall_passfail  \n",
       "0             66          79          Pass             Pass         PassPass  \n",
       "1             94          61          Pass             Pass         PassPass  \n",
       "2             90          60          Pass             Pass         PassPass  \n",
       "3             67          58          Fail             Pass         FailPass  \n",
       "4             97          84          Pass             Pass         PassPass  "
      ]
     },
     "execution_count": 20,
     "metadata": {},
     "output_type": "execute_result"
    }
   ],
   "source": [
    "#Find % of students overall passing\n",
    "student_df[\"overall_passfail\"] = student_df[\"math_passfail\"].astype(str) + student_df[\"reading_passfail\"].astype(str)\n",
    "student_df.head()"
   ]
  },
  {
   "cell_type": "code",
   "execution_count": 21,
   "metadata": {},
   "outputs": [],
   "source": [
    "overall_pass = student_df['overall_passfail'].value_counts('PassPass')\n",
    "#overall_pass"
   ]
  },
  {
   "cell_type": "code",
   "execution_count": 22,
   "metadata": {},
   "outputs": [
    {
     "data": {
      "text/html": [
       "<div>\n",
       "<style scoped>\n",
       "    .dataframe tbody tr th:only-of-type {\n",
       "        vertical-align: middle;\n",
       "    }\n",
       "\n",
       "    .dataframe tbody tr th {\n",
       "        vertical-align: top;\n",
       "    }\n",
       "\n",
       "    .dataframe thead th {\n",
       "        text-align: right;\n",
       "    }\n",
       "</style>\n",
       "<table border=\"1\" class=\"dataframe\">\n",
       "  <thead>\n",
       "    <tr style=\"text-align: right;\">\n",
       "      <th></th>\n",
       "      <th>Total Schools</th>\n",
       "      <th>Total Students</th>\n",
       "      <th>Total Budget</th>\n",
       "      <th>Average Math Score</th>\n",
       "      <th>Average Reading Score</th>\n",
       "      <th>% Passing Math</th>\n",
       "      <th>% Passing Reading</th>\n",
       "      <th>% Overall Passing</th>\n",
       "    </tr>\n",
       "  </thead>\n",
       "  <tbody>\n",
       "    <tr>\n",
       "      <th>0</th>\n",
       "      <td>15</td>\n",
       "      <td>39170</td>\n",
       "      <td>24649428</td>\n",
       "      <td>78.985371</td>\n",
       "      <td>81.87784</td>\n",
       "      <td>Pass    0.924457\n",
       "Fail    0.075543\n",
       "Name: math_p...</td>\n",
       "      <td>Pass    1.0\n",
       "Fail    0.0\n",
       "Name: reading_passfail...</td>\n",
       "      <td>PassPass    0.924457\n",
       "FailPass    0.075543\n",
       "Name...</td>\n",
       "    </tr>\n",
       "  </tbody>\n",
       "</table>\n",
       "</div>"
      ],
      "text/plain": [
       "   Total Schools  Total Students  Total Budget  Average Math Score  \\\n",
       "0             15           39170      24649428           78.985371   \n",
       "\n",
       "   Average Reading Score                                     % Passing Math  \\\n",
       "0               81.87784  Pass    0.924457\n",
       "Fail    0.075543\n",
       "Name: math_p...   \n",
       "\n",
       "                                   % Passing Reading  \\\n",
       "0  Pass    1.0\n",
       "Fail    0.0\n",
       "Name: reading_passfail...   \n",
       "\n",
       "                                   % Overall Passing  \n",
       "0  PassPass    0.924457\n",
       "FailPass    0.075543\n",
       "Name...  "
      ]
     },
     "execution_count": 22,
     "metadata": {},
     "output_type": "execute_result"
    }
   ],
   "source": [
    "district_summary_df = pd.DataFrame(\n",
    "    {\"Total Schools\": [total_schools], \n",
    "     \"Total Students\": [total_students],\n",
    "     \"Total Budget\": [total_budget],\n",
    "     \"Average Math Score\": [average_math_score],\n",
    "     \"Average Reading Score\": [average_reading_score],\n",
    "     \"% Passing Math\": [math_pass],\n",
    "     \"% Passing Reading\": [reading_pass],\n",
    "     \"% Overall Passing\": [overall_pass]\n",
    "                       })\n",
    "district_summary_df"
   ]
  },
  {
   "cell_type": "markdown",
   "metadata": {},
   "source": [
    "# School Summary"
   ]
  },
  {
   "cell_type": "code",
   "execution_count": 23,
   "metadata": {},
   "outputs": [],
   "source": [
    "# Serves as an overview of key metrics on each school.\n",
    "#School Name\n",
    "#School Type\n",
    "#Total Students\n",
    "#Total School Budget\n",
    "#Per Student Budget\n",
    "#Average Math Score\n",
    "#Average Reading Score\n",
    "#% Passing Math (The percentage of students that passed math.)\n",
    "#% Passing Reading (The percentage of students that passed reading.)\n",
    "#% Overall Passing (The percentage of students that passed math **and** reading.)"
   ]
  },
  {
   "cell_type": "code",
   "execution_count": 24,
   "metadata": {},
   "outputs": [
    {
     "data": {
      "text/html": [
       "<div>\n",
       "<style scoped>\n",
       "    .dataframe tbody tr th:only-of-type {\n",
       "        vertical-align: middle;\n",
       "    }\n",
       "\n",
       "    .dataframe tbody tr th {\n",
       "        vertical-align: top;\n",
       "    }\n",
       "\n",
       "    .dataframe thead th {\n",
       "        text-align: right;\n",
       "    }\n",
       "</style>\n",
       "<table border=\"1\" class=\"dataframe\">\n",
       "  <thead>\n",
       "    <tr style=\"text-align: right;\">\n",
       "      <th></th>\n",
       "      <th>School ID</th>\n",
       "      <th>school_name</th>\n",
       "      <th>type</th>\n",
       "      <th>size</th>\n",
       "      <th>budget</th>\n",
       "      <th>Student ID</th>\n",
       "      <th>student_name</th>\n",
       "      <th>gender</th>\n",
       "      <th>grade</th>\n",
       "      <th>reading_score</th>\n",
       "      <th>math_score</th>\n",
       "      <th>math_passfail</th>\n",
       "      <th>reading_passfail</th>\n",
       "      <th>overall_passfail</th>\n",
       "    </tr>\n",
       "  </thead>\n",
       "  <tbody>\n",
       "    <tr>\n",
       "      <th>0</th>\n",
       "      <td>0</td>\n",
       "      <td>Huang High School</td>\n",
       "      <td>District</td>\n",
       "      <td>2917</td>\n",
       "      <td>1910635</td>\n",
       "      <td>0</td>\n",
       "      <td>Paul Bradley</td>\n",
       "      <td>M</td>\n",
       "      <td>9th</td>\n",
       "      <td>66</td>\n",
       "      <td>79</td>\n",
       "      <td>Pass</td>\n",
       "      <td>Pass</td>\n",
       "      <td>PassPass</td>\n",
       "    </tr>\n",
       "    <tr>\n",
       "      <th>1</th>\n",
       "      <td>0</td>\n",
       "      <td>Huang High School</td>\n",
       "      <td>District</td>\n",
       "      <td>2917</td>\n",
       "      <td>1910635</td>\n",
       "      <td>1</td>\n",
       "      <td>Victor Smith</td>\n",
       "      <td>M</td>\n",
       "      <td>12th</td>\n",
       "      <td>94</td>\n",
       "      <td>61</td>\n",
       "      <td>Pass</td>\n",
       "      <td>Pass</td>\n",
       "      <td>PassPass</td>\n",
       "    </tr>\n",
       "    <tr>\n",
       "      <th>2</th>\n",
       "      <td>0</td>\n",
       "      <td>Huang High School</td>\n",
       "      <td>District</td>\n",
       "      <td>2917</td>\n",
       "      <td>1910635</td>\n",
       "      <td>2</td>\n",
       "      <td>Kevin Rodriguez</td>\n",
       "      <td>M</td>\n",
       "      <td>12th</td>\n",
       "      <td>90</td>\n",
       "      <td>60</td>\n",
       "      <td>Pass</td>\n",
       "      <td>Pass</td>\n",
       "      <td>PassPass</td>\n",
       "    </tr>\n",
       "    <tr>\n",
       "      <th>3</th>\n",
       "      <td>0</td>\n",
       "      <td>Huang High School</td>\n",
       "      <td>District</td>\n",
       "      <td>2917</td>\n",
       "      <td>1910635</td>\n",
       "      <td>3</td>\n",
       "      <td>Dr. Richard Scott</td>\n",
       "      <td>M</td>\n",
       "      <td>12th</td>\n",
       "      <td>67</td>\n",
       "      <td>58</td>\n",
       "      <td>Fail</td>\n",
       "      <td>Pass</td>\n",
       "      <td>FailPass</td>\n",
       "    </tr>\n",
       "    <tr>\n",
       "      <th>4</th>\n",
       "      <td>0</td>\n",
       "      <td>Huang High School</td>\n",
       "      <td>District</td>\n",
       "      <td>2917</td>\n",
       "      <td>1910635</td>\n",
       "      <td>4</td>\n",
       "      <td>Bonnie Ray</td>\n",
       "      <td>F</td>\n",
       "      <td>9th</td>\n",
       "      <td>97</td>\n",
       "      <td>84</td>\n",
       "      <td>Pass</td>\n",
       "      <td>Pass</td>\n",
       "      <td>PassPass</td>\n",
       "    </tr>\n",
       "  </tbody>\n",
       "</table>\n",
       "</div>"
      ],
      "text/plain": [
       "   School ID        school_name      type  size   budget  Student ID  \\\n",
       "0          0  Huang High School  District  2917  1910635           0   \n",
       "1          0  Huang High School  District  2917  1910635           1   \n",
       "2          0  Huang High School  District  2917  1910635           2   \n",
       "3          0  Huang High School  District  2917  1910635           3   \n",
       "4          0  Huang High School  District  2917  1910635           4   \n",
       "\n",
       "        student_name gender grade  reading_score  math_score math_passfail  \\\n",
       "0       Paul Bradley      M   9th             66          79          Pass   \n",
       "1       Victor Smith      M  12th             94          61          Pass   \n",
       "2    Kevin Rodriguez      M  12th             90          60          Pass   \n",
       "3  Dr. Richard Scott      M  12th             67          58          Fail   \n",
       "4         Bonnie Ray      F   9th             97          84          Pass   \n",
       "\n",
       "  reading_passfail overall_passfail  \n",
       "0             Pass         PassPass  \n",
       "1             Pass         PassPass  \n",
       "2             Pass         PassPass  \n",
       "3             Pass         FailPass  \n",
       "4             Pass         PassPass  "
      ]
     },
     "execution_count": 24,
     "metadata": {},
     "output_type": "execute_result"
    }
   ],
   "source": [
    "# Merge school dateframe with student dataframe using an outer join at school name\n",
    "merge_df = pd.merge(school_df, student_df, on=\"school_name\", how=\"outer\")\n",
    "merge_df.head()"
   ]
  },
  {
   "cell_type": "code",
   "execution_count": 25,
   "metadata": {},
   "outputs": [
    {
     "data": {
      "text/html": [
       "<div>\n",
       "<style scoped>\n",
       "    .dataframe tbody tr th:only-of-type {\n",
       "        vertical-align: middle;\n",
       "    }\n",
       "\n",
       "    .dataframe tbody tr th {\n",
       "        vertical-align: top;\n",
       "    }\n",
       "\n",
       "    .dataframe thead th {\n",
       "        text-align: right;\n",
       "    }\n",
       "</style>\n",
       "<table border=\"1\" class=\"dataframe\">\n",
       "  <thead>\n",
       "    <tr style=\"text-align: right;\">\n",
       "      <th></th>\n",
       "      <th>School ID</th>\n",
       "      <th>school_name</th>\n",
       "      <th>type</th>\n",
       "      <th>size</th>\n",
       "      <th>budget</th>\n",
       "      <th>Student ID</th>\n",
       "      <th>student_name</th>\n",
       "      <th>gender</th>\n",
       "      <th>grade</th>\n",
       "      <th>reading_score</th>\n",
       "      <th>math_score</th>\n",
       "      <th>math_passfail</th>\n",
       "      <th>reading_passfail</th>\n",
       "      <th>overall_passfail</th>\n",
       "      <th>Per_Student_Budget</th>\n",
       "    </tr>\n",
       "  </thead>\n",
       "  <tbody>\n",
       "    <tr>\n",
       "      <th>0</th>\n",
       "      <td>0</td>\n",
       "      <td>Huang High School</td>\n",
       "      <td>District</td>\n",
       "      <td>2917</td>\n",
       "      <td>1910635</td>\n",
       "      <td>0</td>\n",
       "      <td>Paul Bradley</td>\n",
       "      <td>M</td>\n",
       "      <td>9th</td>\n",
       "      <td>66</td>\n",
       "      <td>79</td>\n",
       "      <td>Pass</td>\n",
       "      <td>Pass</td>\n",
       "      <td>PassPass</td>\n",
       "      <td>655.0</td>\n",
       "    </tr>\n",
       "    <tr>\n",
       "      <th>1</th>\n",
       "      <td>0</td>\n",
       "      <td>Huang High School</td>\n",
       "      <td>District</td>\n",
       "      <td>2917</td>\n",
       "      <td>1910635</td>\n",
       "      <td>1</td>\n",
       "      <td>Victor Smith</td>\n",
       "      <td>M</td>\n",
       "      <td>12th</td>\n",
       "      <td>94</td>\n",
       "      <td>61</td>\n",
       "      <td>Pass</td>\n",
       "      <td>Pass</td>\n",
       "      <td>PassPass</td>\n",
       "      <td>655.0</td>\n",
       "    </tr>\n",
       "    <tr>\n",
       "      <th>2</th>\n",
       "      <td>0</td>\n",
       "      <td>Huang High School</td>\n",
       "      <td>District</td>\n",
       "      <td>2917</td>\n",
       "      <td>1910635</td>\n",
       "      <td>2</td>\n",
       "      <td>Kevin Rodriguez</td>\n",
       "      <td>M</td>\n",
       "      <td>12th</td>\n",
       "      <td>90</td>\n",
       "      <td>60</td>\n",
       "      <td>Pass</td>\n",
       "      <td>Pass</td>\n",
       "      <td>PassPass</td>\n",
       "      <td>655.0</td>\n",
       "    </tr>\n",
       "    <tr>\n",
       "      <th>3</th>\n",
       "      <td>0</td>\n",
       "      <td>Huang High School</td>\n",
       "      <td>District</td>\n",
       "      <td>2917</td>\n",
       "      <td>1910635</td>\n",
       "      <td>3</td>\n",
       "      <td>Dr. Richard Scott</td>\n",
       "      <td>M</td>\n",
       "      <td>12th</td>\n",
       "      <td>67</td>\n",
       "      <td>58</td>\n",
       "      <td>Fail</td>\n",
       "      <td>Pass</td>\n",
       "      <td>FailPass</td>\n",
       "      <td>655.0</td>\n",
       "    </tr>\n",
       "    <tr>\n",
       "      <th>4</th>\n",
       "      <td>0</td>\n",
       "      <td>Huang High School</td>\n",
       "      <td>District</td>\n",
       "      <td>2917</td>\n",
       "      <td>1910635</td>\n",
       "      <td>4</td>\n",
       "      <td>Bonnie Ray</td>\n",
       "      <td>F</td>\n",
       "      <td>9th</td>\n",
       "      <td>97</td>\n",
       "      <td>84</td>\n",
       "      <td>Pass</td>\n",
       "      <td>Pass</td>\n",
       "      <td>PassPass</td>\n",
       "      <td>655.0</td>\n",
       "    </tr>\n",
       "  </tbody>\n",
       "</table>\n",
       "</div>"
      ],
      "text/plain": [
       "   School ID        school_name      type  size   budget  Student ID  \\\n",
       "0          0  Huang High School  District  2917  1910635           0   \n",
       "1          0  Huang High School  District  2917  1910635           1   \n",
       "2          0  Huang High School  District  2917  1910635           2   \n",
       "3          0  Huang High School  District  2917  1910635           3   \n",
       "4          0  Huang High School  District  2917  1910635           4   \n",
       "\n",
       "        student_name gender grade  reading_score  math_score math_passfail  \\\n",
       "0       Paul Bradley      M   9th             66          79          Pass   \n",
       "1       Victor Smith      M  12th             94          61          Pass   \n",
       "2    Kevin Rodriguez      M  12th             90          60          Pass   \n",
       "3  Dr. Richard Scott      M  12th             67          58          Fail   \n",
       "4         Bonnie Ray      F   9th             97          84          Pass   \n",
       "\n",
       "  reading_passfail overall_passfail  Per_Student_Budget  \n",
       "0             Pass         PassPass               655.0  \n",
       "1             Pass         PassPass               655.0  \n",
       "2             Pass         PassPass               655.0  \n",
       "3             Pass         FailPass               655.0  \n",
       "4             Pass         PassPass               655.0  "
      ]
     },
     "execution_count": 25,
     "metadata": {},
     "output_type": "execute_result"
    }
   ],
   "source": [
    "# Add a column name Per_Student_Budget found by dividing buget by size, or number of students\n",
    "merge_df[\"Per_Student_Budget\"] = merge_df[\"budget\"] / merge_df[\"size\"]\n",
    "merge_df.head()"
   ]
  },
  {
   "cell_type": "code",
   "execution_count": 26,
   "metadata": {},
   "outputs": [
    {
     "data": {
      "text/plain": [
       "School ID               int64\n",
       "school_name            object\n",
       "type                   object\n",
       "size                    int64\n",
       "budget                  int64\n",
       "Student ID              int64\n",
       "student_name           object\n",
       "gender                 object\n",
       "grade                  object\n",
       "reading_score           int64\n",
       "math_score              int64\n",
       "math_passfail          object\n",
       "reading_passfail       object\n",
       "overall_passfail       object\n",
       "Per_Student_Budget    float64\n",
       "dtype: object"
      ]
     },
     "execution_count": 26,
     "metadata": {},
     "output_type": "execute_result"
    }
   ],
   "source": [
    "# Using astype(), convert passfail, binned columns data into string\n",
    "merge_df.loc[:, \"math_passfail\"] = merge_df[\"math_passfail\"].astype(\"str\")\n",
    "merge_df.loc[:, \"reading_passfail\"] = merge_df[\"reading_passfail\"].astype(\"str\")\n",
    "\n",
    "merge_df.dtypes"
   ]
  },
  {
   "cell_type": "code",
   "execution_count": 27,
   "metadata": {},
   "outputs": [],
   "source": [
    "# Use .loc to find data on specific schools\n",
    "huang_df = merge_df.loc[merge_df[\"school_name\"] == \"Huang High School\", [\"school_name\", \"type\", \"size\", \"budget\", \"math_score\", \"reading_score\", \"math_passfail\", \"reading_passfail\", \"overall_passfail\", \"Per_Student_Budget\"]]\n",
    "#huang_df.head()"
   ]
  },
  {
   "cell_type": "code",
   "execution_count": 28,
   "metadata": {},
   "outputs": [
    {
     "data": {
      "text/plain": [
       "array(['Huang High School'], dtype=object)"
      ]
     },
     "execution_count": 28,
     "metadata": {},
     "output_type": "execute_result"
    }
   ],
   "source": [
    "# Gather data from huang_df for the Huang High School Summary Table\n",
    "huang_name = huang_df[\"school_name\"].unique()\n",
    "huang_name"
   ]
  },
  {
   "cell_type": "code",
   "execution_count": 29,
   "metadata": {},
   "outputs": [
    {
     "data": {
      "text/plain": [
       "array(['District'], dtype=object)"
      ]
     },
     "execution_count": 29,
     "metadata": {},
     "output_type": "execute_result"
    }
   ],
   "source": [
    "huang_type = huang_df[\"type\"].unique()\n",
    "huang_type"
   ]
  },
  {
   "cell_type": "code",
   "execution_count": 30,
   "metadata": {},
   "outputs": [
    {
     "data": {
      "text/plain": [
       "array([2917], dtype=int64)"
      ]
     },
     "execution_count": 30,
     "metadata": {},
     "output_type": "execute_result"
    }
   ],
   "source": [
    "huang_size = huang_df[\"size\"].unique()\n",
    "huang_size"
   ]
  },
  {
   "cell_type": "code",
   "execution_count": 31,
   "metadata": {},
   "outputs": [
    {
     "data": {
      "text/plain": [
       "array([1910635], dtype=int64)"
      ]
     },
     "execution_count": 31,
     "metadata": {},
     "output_type": "execute_result"
    }
   ],
   "source": [
    "huang_budget = huang_df[\"budget\"].unique()\n",
    "huang_budget"
   ]
  },
  {
   "cell_type": "code",
   "execution_count": 32,
   "metadata": {},
   "outputs": [
    {
     "data": {
      "text/plain": [
       "76.62941378128214"
      ]
     },
     "execution_count": 32,
     "metadata": {},
     "output_type": "execute_result"
    }
   ],
   "source": [
    "average_math_huang = huang_df[\"math_score\"].mean()\n",
    "average_math_huang"
   ]
  },
  {
   "cell_type": "code",
   "execution_count": 33,
   "metadata": {},
   "outputs": [
    {
     "data": {
      "text/plain": [
       "81.18272197463148"
      ]
     },
     "execution_count": 33,
     "metadata": {},
     "output_type": "execute_result"
    }
   ],
   "source": [
    "average_reading_huang = huang_df[\"reading_score\"].mean()\n",
    "average_reading_huang"
   ]
  },
  {
   "cell_type": "code",
   "execution_count": 34,
   "metadata": {},
   "outputs": [
    {
     "data": {
      "text/plain": [
       "Pass    0.888584\n",
       "Fail    0.111416\n",
       "Name: math_passfail, dtype: float64"
      ]
     },
     "execution_count": 34,
     "metadata": {},
     "output_type": "execute_result"
    }
   ],
   "source": [
    "# Find percent of Huang students with passing math scores\n",
    "math_pass_huang = huang_df['math_passfail'].value_counts('Pass')\n",
    "math_pass_huang"
   ]
  },
  {
   "cell_type": "code",
   "execution_count": 35,
   "metadata": {},
   "outputs": [
    {
     "data": {
      "text/plain": [
       "Pass    1.0\n",
       "Name: reading_passfail, dtype: float64"
      ]
     },
     "execution_count": 35,
     "metadata": {},
     "output_type": "execute_result"
    }
   ],
   "source": [
    "# Find percent of Huang students with passing reading scores\n",
    "reading_pass_huang = huang_df['reading_passfail'].value_counts('Pass')\n",
    "reading_pass_huang"
   ]
  },
  {
   "cell_type": "code",
   "execution_count": 36,
   "metadata": {},
   "outputs": [
    {
     "data": {
      "text/plain": [
       "PassPass    0.888584\n",
       "FailPass    0.111416\n",
       "Name: overall_passfail, dtype: float64"
      ]
     },
     "execution_count": 36,
     "metadata": {},
     "output_type": "execute_result"
    }
   ],
   "source": [
    "overall_pass_huang = huang_df['overall_passfail'].value_counts('PassPass')\n",
    "overall_pass_huang"
   ]
  },
  {
   "cell_type": "code",
   "execution_count": 37,
   "metadata": {},
   "outputs": [
    {
     "data": {
      "text/html": [
       "<div>\n",
       "<style scoped>\n",
       "    .dataframe tbody tr th:only-of-type {\n",
       "        vertical-align: middle;\n",
       "    }\n",
       "\n",
       "    .dataframe tbody tr th {\n",
       "        vertical-align: top;\n",
       "    }\n",
       "\n",
       "    .dataframe thead th {\n",
       "        text-align: right;\n",
       "    }\n",
       "</style>\n",
       "<table border=\"1\" class=\"dataframe\">\n",
       "  <thead>\n",
       "    <tr style=\"text-align: right;\">\n",
       "      <th></th>\n",
       "      <th>School Name</th>\n",
       "      <th>School Type</th>\n",
       "      <th>Total Students</th>\n",
       "      <th>Total School Budget</th>\n",
       "      <th>Average Math Score</th>\n",
       "      <th>Average Reading Score</th>\n",
       "      <th>% Passing Math</th>\n",
       "      <th>% Passing Reading</th>\n",
       "      <th>% Overall Passing</th>\n",
       "    </tr>\n",
       "  </thead>\n",
       "  <tbody>\n",
       "    <tr>\n",
       "      <th>0</th>\n",
       "      <td>Huang High School</td>\n",
       "      <td>District</td>\n",
       "      <td>2917</td>\n",
       "      <td>1910635</td>\n",
       "      <td>76.629414</td>\n",
       "      <td>81.182722</td>\n",
       "      <td>Pass    0.888584\n",
       "Fail    0.111416\n",
       "Name: math_p...</td>\n",
       "      <td>Pass    1.0\n",
       "Name: reading_passfail, dtype: flo...</td>\n",
       "      <td>PassPass    0.888584\n",
       "FailPass    0.111416\n",
       "Name...</td>\n",
       "    </tr>\n",
       "  </tbody>\n",
       "</table>\n",
       "</div>"
      ],
      "text/plain": [
       "         School Name School Type  Total Students  Total School Budget  \\\n",
       "0  Huang High School    District            2917              1910635   \n",
       "\n",
       "   Average Math Score  Average Reading Score  \\\n",
       "0           76.629414              81.182722   \n",
       "\n",
       "                                      % Passing Math  \\\n",
       "0  Pass    0.888584\n",
       "Fail    0.111416\n",
       "Name: math_p...   \n",
       "\n",
       "                                   % Passing Reading  \\\n",
       "0  Pass    1.0\n",
       "Name: reading_passfail, dtype: flo...   \n",
       "\n",
       "                                   % Overall Passing  \n",
       "0  PassPass    0.888584\n",
       "FailPass    0.111416\n",
       "Name...  "
      ]
     },
     "execution_count": 37,
     "metadata": {},
     "output_type": "execute_result"
    }
   ],
   "source": [
    "# Print table with Huang Summary information:\n",
    "huang_summary_df = pd.DataFrame(\n",
    "    {\"School Name\": huang_name, \n",
    "     \"School Type\": huang_type,\n",
    "     \"Total Students\": huang_size,\n",
    "     \"Total School Budget\": huang_budget,\n",
    "     \"Average Math Score\": [average_math_huang],\n",
    "     \"Average Reading Score\": [average_reading_huang],\n",
    "     \"% Passing Math\": [math_pass_huang],\n",
    "     \"% Passing Reading\": [reading_pass_huang],\n",
    "     \"% Overall Passing\": [overall_pass_huang]\n",
    "                       })\n",
    "huang_summary_df"
   ]
  },
  {
   "cell_type": "code",
   "execution_count": 38,
   "metadata": {},
   "outputs": [
    {
     "data": {
      "text/html": [
       "<div>\n",
       "<style scoped>\n",
       "    .dataframe tbody tr th:only-of-type {\n",
       "        vertical-align: middle;\n",
       "    }\n",
       "\n",
       "    .dataframe tbody tr th {\n",
       "        vertical-align: top;\n",
       "    }\n",
       "\n",
       "    .dataframe thead th {\n",
       "        text-align: right;\n",
       "    }\n",
       "</style>\n",
       "<table border=\"1\" class=\"dataframe\">\n",
       "  <thead>\n",
       "    <tr style=\"text-align: right;\">\n",
       "      <th></th>\n",
       "      <th>school_name</th>\n",
       "      <th>type</th>\n",
       "      <th>size</th>\n",
       "      <th>budget</th>\n",
       "      <th>math_score</th>\n",
       "      <th>reading_score</th>\n",
       "      <th>math_passfail</th>\n",
       "      <th>reading_passfail</th>\n",
       "      <th>overall_passfail</th>\n",
       "      <th>Per_Student_Budget</th>\n",
       "    </tr>\n",
       "  </thead>\n",
       "  <tbody>\n",
       "    <tr>\n",
       "      <th>2917</th>\n",
       "      <td>Figueroa High School</td>\n",
       "      <td>District</td>\n",
       "      <td>2949</td>\n",
       "      <td>1884411</td>\n",
       "      <td>87</td>\n",
       "      <td>85</td>\n",
       "      <td>Pass</td>\n",
       "      <td>Pass</td>\n",
       "      <td>PassPass</td>\n",
       "      <td>639.0</td>\n",
       "    </tr>\n",
       "    <tr>\n",
       "      <th>2918</th>\n",
       "      <td>Figueroa High School</td>\n",
       "      <td>District</td>\n",
       "      <td>2949</td>\n",
       "      <td>1884411</td>\n",
       "      <td>84</td>\n",
       "      <td>97</td>\n",
       "      <td>Pass</td>\n",
       "      <td>Pass</td>\n",
       "      <td>PassPass</td>\n",
       "      <td>639.0</td>\n",
       "    </tr>\n",
       "    <tr>\n",
       "      <th>2919</th>\n",
       "      <td>Figueroa High School</td>\n",
       "      <td>District</td>\n",
       "      <td>2949</td>\n",
       "      <td>1884411</td>\n",
       "      <td>77</td>\n",
       "      <td>67</td>\n",
       "      <td>Pass</td>\n",
       "      <td>Pass</td>\n",
       "      <td>PassPass</td>\n",
       "      <td>639.0</td>\n",
       "    </tr>\n",
       "    <tr>\n",
       "      <th>2920</th>\n",
       "      <td>Figueroa High School</td>\n",
       "      <td>District</td>\n",
       "      <td>2949</td>\n",
       "      <td>1884411</td>\n",
       "      <td>64</td>\n",
       "      <td>97</td>\n",
       "      <td>Pass</td>\n",
       "      <td>Pass</td>\n",
       "      <td>PassPass</td>\n",
       "      <td>639.0</td>\n",
       "    </tr>\n",
       "    <tr>\n",
       "      <th>2921</th>\n",
       "      <td>Figueroa High School</td>\n",
       "      <td>District</td>\n",
       "      <td>2949</td>\n",
       "      <td>1884411</td>\n",
       "      <td>64</td>\n",
       "      <td>79</td>\n",
       "      <td>Pass</td>\n",
       "      <td>Pass</td>\n",
       "      <td>PassPass</td>\n",
       "      <td>639.0</td>\n",
       "    </tr>\n",
       "  </tbody>\n",
       "</table>\n",
       "</div>"
      ],
      "text/plain": [
       "               school_name      type  size   budget  math_score  \\\n",
       "2917  Figueroa High School  District  2949  1884411          87   \n",
       "2918  Figueroa High School  District  2949  1884411          84   \n",
       "2919  Figueroa High School  District  2949  1884411          77   \n",
       "2920  Figueroa High School  District  2949  1884411          64   \n",
       "2921  Figueroa High School  District  2949  1884411          64   \n",
       "\n",
       "      reading_score math_passfail reading_passfail overall_passfail  \\\n",
       "2917             85          Pass             Pass         PassPass   \n",
       "2918             97          Pass             Pass         PassPass   \n",
       "2919             67          Pass             Pass         PassPass   \n",
       "2920             97          Pass             Pass         PassPass   \n",
       "2921             79          Pass             Pass         PassPass   \n",
       "\n",
       "      Per_Student_Budget  \n",
       "2917               639.0  \n",
       "2918               639.0  \n",
       "2919               639.0  \n",
       "2920               639.0  \n",
       "2921               639.0  "
      ]
     },
     "execution_count": 38,
     "metadata": {},
     "output_type": "execute_result"
    }
   ],
   "source": [
    "figueroa_df = merge_df.loc[merge_df[\"school_name\"] == \"Figueroa High School\", [\"school_name\", \"type\", \"size\", \"budget\", \"math_score\", \"reading_score\", \"math_passfail\", \"reading_passfail\", \"overall_passfail\", \"Per_Student_Budget\"]]\n",
    "figueroa_df.head()"
   ]
  },
  {
   "cell_type": "code",
   "execution_count": 39,
   "metadata": {},
   "outputs": [
    {
     "data": {
      "text/plain": [
       "array(['Figueroa High School'], dtype=object)"
      ]
     },
     "execution_count": 39,
     "metadata": {},
     "output_type": "execute_result"
    }
   ],
   "source": [
    "# Gather data from huang_df for the Huang High School Summary Table\n",
    "figueroa_name = figueroa_df[\"school_name\"].unique()\n",
    "figueroa_name"
   ]
  },
  {
   "cell_type": "code",
   "execution_count": 40,
   "metadata": {},
   "outputs": [
    {
     "data": {
      "text/plain": [
       "array(['District'], dtype=object)"
      ]
     },
     "execution_count": 40,
     "metadata": {},
     "output_type": "execute_result"
    }
   ],
   "source": [
    "figueroa_type = figueroa_df[\"type\"].unique()\n",
    "figueroa_type"
   ]
  },
  {
   "cell_type": "code",
   "execution_count": 41,
   "metadata": {},
   "outputs": [
    {
     "data": {
      "text/plain": [
       "array([2949], dtype=int64)"
      ]
     },
     "execution_count": 41,
     "metadata": {},
     "output_type": "execute_result"
    }
   ],
   "source": [
    "figueroa_size = figueroa_df[\"size\"].unique()\n",
    "figueroa_size"
   ]
  },
  {
   "cell_type": "code",
   "execution_count": 42,
   "metadata": {},
   "outputs": [
    {
     "data": {
      "text/plain": [
       "array([1884411], dtype=int64)"
      ]
     },
     "execution_count": 42,
     "metadata": {},
     "output_type": "execute_result"
    }
   ],
   "source": [
    "figueroa_budget = figueroa_df[\"budget\"].unique()\n",
    "figueroa_budget"
   ]
  },
  {
   "cell_type": "code",
   "execution_count": 43,
   "metadata": {},
   "outputs": [
    {
     "data": {
      "text/plain": [
       "76.71176670057646"
      ]
     },
     "execution_count": 43,
     "metadata": {},
     "output_type": "execute_result"
    }
   ],
   "source": [
    "average_math_figueroa = figueroa_df[\"math_score\"].mean()\n",
    "average_math_figueroa"
   ]
  },
  {
   "cell_type": "code",
   "execution_count": 44,
   "metadata": {},
   "outputs": [
    {
     "data": {
      "text/plain": [
       "81.15801966768396"
      ]
     },
     "execution_count": 44,
     "metadata": {},
     "output_type": "execute_result"
    }
   ],
   "source": [
    "average_reading_figueroa = figueroa_df[\"reading_score\"].mean()\n",
    "average_reading_figueroa"
   ]
  },
  {
   "cell_type": "code",
   "execution_count": 45,
   "metadata": {},
   "outputs": [
    {
     "data": {
      "text/plain": [
       "Pass    0.884368\n",
       "Fail    0.115632\n",
       "Name: math_passfail, dtype: float64"
      ]
     },
     "execution_count": 45,
     "metadata": {},
     "output_type": "execute_result"
    }
   ],
   "source": [
    "# Find percent of Huang students with passing math scores\n",
    "math_pass_figueroa = figueroa_df['math_passfail'].value_counts('Pass')\n",
    "math_pass_figueroa"
   ]
  },
  {
   "cell_type": "code",
   "execution_count": 46,
   "metadata": {},
   "outputs": [
    {
     "data": {
      "text/plain": [
       "Pass    1.0\n",
       "Name: reading_passfail, dtype: float64"
      ]
     },
     "execution_count": 46,
     "metadata": {},
     "output_type": "execute_result"
    }
   ],
   "source": [
    "# Find percent of Huang students with passing reading scores\n",
    "reading_pass_figueroa = figueroa_df['reading_passfail'].value_counts('Pass')\n",
    "reading_pass_figueroa"
   ]
  },
  {
   "cell_type": "code",
   "execution_count": 47,
   "metadata": {},
   "outputs": [
    {
     "data": {
      "text/plain": [
       "PassPass    0.884368\n",
       "FailPass    0.115632\n",
       "Name: overall_passfail, dtype: float64"
      ]
     },
     "execution_count": 47,
     "metadata": {},
     "output_type": "execute_result"
    }
   ],
   "source": [
    "overall_pass_figueroa = figueroa_df['overall_passfail'].value_counts('PassPass')\n",
    "overall_pass_figueroa"
   ]
  },
  {
   "cell_type": "code",
   "execution_count": 48,
   "metadata": {},
   "outputs": [
    {
     "data": {
      "text/html": [
       "<div>\n",
       "<style scoped>\n",
       "    .dataframe tbody tr th:only-of-type {\n",
       "        vertical-align: middle;\n",
       "    }\n",
       "\n",
       "    .dataframe tbody tr th {\n",
       "        vertical-align: top;\n",
       "    }\n",
       "\n",
       "    .dataframe thead th {\n",
       "        text-align: right;\n",
       "    }\n",
       "</style>\n",
       "<table border=\"1\" class=\"dataframe\">\n",
       "  <thead>\n",
       "    <tr style=\"text-align: right;\">\n",
       "      <th></th>\n",
       "      <th>School Name</th>\n",
       "      <th>School Tyoe</th>\n",
       "      <th>Total Students</th>\n",
       "      <th>Total School Budget</th>\n",
       "      <th>Average Math Score</th>\n",
       "      <th>Average Reading Score</th>\n",
       "      <th>% Passing Math</th>\n",
       "      <th>% Passing Reading</th>\n",
       "      <th>% Overall Passing</th>\n",
       "    </tr>\n",
       "  </thead>\n",
       "  <tbody>\n",
       "    <tr>\n",
       "      <th>0</th>\n",
       "      <td>Figueroa High School</td>\n",
       "      <td>District</td>\n",
       "      <td>2949</td>\n",
       "      <td>1884411</td>\n",
       "      <td>76.711767</td>\n",
       "      <td>81.15802</td>\n",
       "      <td>Pass    0.884368\n",
       "Fail    0.115632\n",
       "Name: math_p...</td>\n",
       "      <td>Pass    1.0\n",
       "Name: reading_passfail, dtype: flo...</td>\n",
       "      <td>PassPass    0.884368\n",
       "FailPass    0.115632\n",
       "Name...</td>\n",
       "    </tr>\n",
       "  </tbody>\n",
       "</table>\n",
       "</div>"
      ],
      "text/plain": [
       "            School Name School Tyoe  Total Students  Total School Budget  \\\n",
       "0  Figueroa High School    District            2949              1884411   \n",
       "\n",
       "   Average Math Score  Average Reading Score  \\\n",
       "0           76.711767               81.15802   \n",
       "\n",
       "                                      % Passing Math  \\\n",
       "0  Pass    0.884368\n",
       "Fail    0.115632\n",
       "Name: math_p...   \n",
       "\n",
       "                                   % Passing Reading  \\\n",
       "0  Pass    1.0\n",
       "Name: reading_passfail, dtype: flo...   \n",
       "\n",
       "                                   % Overall Passing  \n",
       "0  PassPass    0.884368\n",
       "FailPass    0.115632\n",
       "Name...  "
      ]
     },
     "execution_count": 48,
     "metadata": {},
     "output_type": "execute_result"
    }
   ],
   "source": [
    "# Print table with Huang Summary information:\n",
    "figueroa_summary_df = pd.DataFrame(\n",
    "    {\"School Name\": figueroa_name, \n",
    "     \"School Tyoe\": figueroa_type,\n",
    "     \"Total Students\": figueroa_size,\n",
    "     \"Total School Budget\": figueroa_budget,\n",
    "     \"Average Math Score\": [average_math_figueroa],\n",
    "     \"Average Reading Score\": [average_reading_figueroa],\n",
    "     \"% Passing Math\": [math_pass_figueroa],\n",
    "     \"% Passing Reading\": [reading_pass_figueroa],\n",
    "     \"% Overall Passing\": [overall_pass_figueroa]\n",
    "                       })\n",
    "figueroa_summary_df"
   ]
  },
  {
   "cell_type": "code",
   "execution_count": 49,
   "metadata": {},
   "outputs": [
    {
     "data": {
      "text/html": [
       "<div>\n",
       "<style scoped>\n",
       "    .dataframe tbody tr th:only-of-type {\n",
       "        vertical-align: middle;\n",
       "    }\n",
       "\n",
       "    .dataframe tbody tr th {\n",
       "        vertical-align: top;\n",
       "    }\n",
       "\n",
       "    .dataframe thead th {\n",
       "        text-align: right;\n",
       "    }\n",
       "</style>\n",
       "<table border=\"1\" class=\"dataframe\">\n",
       "  <thead>\n",
       "    <tr style=\"text-align: right;\">\n",
       "      <th></th>\n",
       "      <th>school_name</th>\n",
       "      <th>type</th>\n",
       "      <th>size</th>\n",
       "      <th>budget</th>\n",
       "      <th>math_score</th>\n",
       "      <th>reading_score</th>\n",
       "      <th>math_passfail</th>\n",
       "      <th>reading_passfail</th>\n",
       "      <th>overall_passfail</th>\n",
       "      <th>Per_Student_Budget</th>\n",
       "    </tr>\n",
       "  </thead>\n",
       "  <tbody>\n",
       "    <tr>\n",
       "      <th>5866</th>\n",
       "      <td>Shelton High School</td>\n",
       "      <td>Charter</td>\n",
       "      <td>1761</td>\n",
       "      <td>1056600</td>\n",
       "      <td>91</td>\n",
       "      <td>70</td>\n",
       "      <td>Pass</td>\n",
       "      <td>Pass</td>\n",
       "      <td>PassPass</td>\n",
       "      <td>600.0</td>\n",
       "    </tr>\n",
       "    <tr>\n",
       "      <th>5867</th>\n",
       "      <td>Shelton High School</td>\n",
       "      <td>Charter</td>\n",
       "      <td>1761</td>\n",
       "      <td>1056600</td>\n",
       "      <td>71</td>\n",
       "      <td>84</td>\n",
       "      <td>Pass</td>\n",
       "      <td>Pass</td>\n",
       "      <td>PassPass</td>\n",
       "      <td>600.0</td>\n",
       "    </tr>\n",
       "    <tr>\n",
       "      <th>5868</th>\n",
       "      <td>Shelton High School</td>\n",
       "      <td>Charter</td>\n",
       "      <td>1761</td>\n",
       "      <td>1056600</td>\n",
       "      <td>99</td>\n",
       "      <td>95</td>\n",
       "      <td>Pass</td>\n",
       "      <td>Pass</td>\n",
       "      <td>PassPass</td>\n",
       "      <td>600.0</td>\n",
       "    </tr>\n",
       "    <tr>\n",
       "      <th>5869</th>\n",
       "      <td>Shelton High School</td>\n",
       "      <td>Charter</td>\n",
       "      <td>1761</td>\n",
       "      <td>1056600</td>\n",
       "      <td>95</td>\n",
       "      <td>76</td>\n",
       "      <td>Pass</td>\n",
       "      <td>Pass</td>\n",
       "      <td>PassPass</td>\n",
       "      <td>600.0</td>\n",
       "    </tr>\n",
       "    <tr>\n",
       "      <th>5870</th>\n",
       "      <td>Shelton High School</td>\n",
       "      <td>Charter</td>\n",
       "      <td>1761</td>\n",
       "      <td>1056600</td>\n",
       "      <td>82</td>\n",
       "      <td>71</td>\n",
       "      <td>Pass</td>\n",
       "      <td>Pass</td>\n",
       "      <td>PassPass</td>\n",
       "      <td>600.0</td>\n",
       "    </tr>\n",
       "  </tbody>\n",
       "</table>\n",
       "</div>"
      ],
      "text/plain": [
       "              school_name     type  size   budget  math_score  reading_score  \\\n",
       "5866  Shelton High School  Charter  1761  1056600          91             70   \n",
       "5867  Shelton High School  Charter  1761  1056600          71             84   \n",
       "5868  Shelton High School  Charter  1761  1056600          99             95   \n",
       "5869  Shelton High School  Charter  1761  1056600          95             76   \n",
       "5870  Shelton High School  Charter  1761  1056600          82             71   \n",
       "\n",
       "     math_passfail reading_passfail overall_passfail  Per_Student_Budget  \n",
       "5866          Pass             Pass         PassPass               600.0  \n",
       "5867          Pass             Pass         PassPass               600.0  \n",
       "5868          Pass             Pass         PassPass               600.0  \n",
       "5869          Pass             Pass         PassPass               600.0  \n",
       "5870          Pass             Pass         PassPass               600.0  "
      ]
     },
     "execution_count": 49,
     "metadata": {},
     "output_type": "execute_result"
    }
   ],
   "source": [
    "shelton_df = merge_df.loc[merge_df[\"school_name\"] == \"Shelton High School\", [\"school_name\", \"type\", \"size\", \"budget\", \"math_score\", \"reading_score\", \"math_passfail\", \"reading_passfail\", \"overall_passfail\", \"Per_Student_Budget\"]]\n",
    "shelton_df.head()"
   ]
  },
  {
   "cell_type": "code",
   "execution_count": 50,
   "metadata": {},
   "outputs": [
    {
     "data": {
      "text/plain": [
       "array(['Shelton High School'], dtype=object)"
      ]
     },
     "execution_count": 50,
     "metadata": {},
     "output_type": "execute_result"
    }
   ],
   "source": [
    "# Gather data from huang_df for the Huang High School Summary Table\n",
    "shelton_name = shelton_df[\"school_name\"].unique()\n",
    "shelton_name"
   ]
  },
  {
   "cell_type": "code",
   "execution_count": 51,
   "metadata": {},
   "outputs": [
    {
     "data": {
      "text/plain": [
       "array(['Charter'], dtype=object)"
      ]
     },
     "execution_count": 51,
     "metadata": {},
     "output_type": "execute_result"
    }
   ],
   "source": [
    "shelton_type = shelton_df[\"type\"].unique()\n",
    "shelton_type"
   ]
  },
  {
   "cell_type": "code",
   "execution_count": 52,
   "metadata": {},
   "outputs": [
    {
     "data": {
      "text/plain": [
       "array([1761], dtype=int64)"
      ]
     },
     "execution_count": 52,
     "metadata": {},
     "output_type": "execute_result"
    }
   ],
   "source": [
    "shelton_size = shelton_df[\"size\"].unique()\n",
    "shelton_size"
   ]
  },
  {
   "cell_type": "code",
   "execution_count": 53,
   "metadata": {},
   "outputs": [
    {
     "data": {
      "text/plain": [
       "array([1056600], dtype=int64)"
      ]
     },
     "execution_count": 53,
     "metadata": {},
     "output_type": "execute_result"
    }
   ],
   "source": [
    "shelton_budget = shelton_df[\"budget\"].unique()\n",
    "shelton_budget"
   ]
  },
  {
   "cell_type": "code",
   "execution_count": 54,
   "metadata": {},
   "outputs": [
    {
     "data": {
      "text/plain": [
       "83.3594548551959"
      ]
     },
     "execution_count": 54,
     "metadata": {},
     "output_type": "execute_result"
    }
   ],
   "source": [
    "average_math_shelton = shelton_df[\"math_score\"].mean()\n",
    "average_math_shelton"
   ]
  },
  {
   "cell_type": "code",
   "execution_count": 55,
   "metadata": {},
   "outputs": [
    {
     "data": {
      "text/plain": [
       "83.72572402044293"
      ]
     },
     "execution_count": 55,
     "metadata": {},
     "output_type": "execute_result"
    }
   ],
   "source": [
    "average_reading_shelton = shelton_df[\"reading_score\"].mean()\n",
    "average_reading_shelton"
   ]
  },
  {
   "cell_type": "code",
   "execution_count": 56,
   "metadata": {},
   "outputs": [
    {
     "data": {
      "text/plain": [
       "Pass    1.0\n",
       "Name: math_passfail, dtype: float64"
      ]
     },
     "execution_count": 56,
     "metadata": {},
     "output_type": "execute_result"
    }
   ],
   "source": [
    "# Find percent of Huang students with passing math scores\n",
    "math_pass_shelton = shelton_df['math_passfail'].value_counts('Pass')\n",
    "math_pass_shelton"
   ]
  },
  {
   "cell_type": "code",
   "execution_count": 57,
   "metadata": {},
   "outputs": [
    {
     "data": {
      "text/plain": [
       "Pass    1.0\n",
       "Name: reading_passfail, dtype: float64"
      ]
     },
     "execution_count": 57,
     "metadata": {},
     "output_type": "execute_result"
    }
   ],
   "source": [
    "# Find percent of Huang students with passing reading scores\n",
    "reading_pass_shelton = shelton_df['reading_passfail'].value_counts('Pass')\n",
    "reading_pass_shelton"
   ]
  },
  {
   "cell_type": "code",
   "execution_count": 58,
   "metadata": {},
   "outputs": [
    {
     "data": {
      "text/plain": [
       "PassPass    1.0\n",
       "Name: overall_passfail, dtype: float64"
      ]
     },
     "execution_count": 58,
     "metadata": {},
     "output_type": "execute_result"
    }
   ],
   "source": [
    "overall_pass_shelton = shelton_df['overall_passfail'].value_counts('PassPass')\n",
    "overall_pass_shelton"
   ]
  },
  {
   "cell_type": "code",
   "execution_count": 59,
   "metadata": {},
   "outputs": [
    {
     "data": {
      "text/html": [
       "<div>\n",
       "<style scoped>\n",
       "    .dataframe tbody tr th:only-of-type {\n",
       "        vertical-align: middle;\n",
       "    }\n",
       "\n",
       "    .dataframe tbody tr th {\n",
       "        vertical-align: top;\n",
       "    }\n",
       "\n",
       "    .dataframe thead th {\n",
       "        text-align: right;\n",
       "    }\n",
       "</style>\n",
       "<table border=\"1\" class=\"dataframe\">\n",
       "  <thead>\n",
       "    <tr style=\"text-align: right;\">\n",
       "      <th></th>\n",
       "      <th>School Name</th>\n",
       "      <th>School Tyoe</th>\n",
       "      <th>Total Students</th>\n",
       "      <th>Total School Budget</th>\n",
       "      <th>Average Math Score</th>\n",
       "      <th>Average Reading Score</th>\n",
       "      <th>% Passing Math</th>\n",
       "      <th>% Passing Reading</th>\n",
       "      <th>% Overall Passing</th>\n",
       "    </tr>\n",
       "  </thead>\n",
       "  <tbody>\n",
       "    <tr>\n",
       "      <th>0</th>\n",
       "      <td>Shelton High School</td>\n",
       "      <td>Charter</td>\n",
       "      <td>1761</td>\n",
       "      <td>1056600</td>\n",
       "      <td>83.359455</td>\n",
       "      <td>83.725724</td>\n",
       "      <td>Pass    1.0\n",
       "Name: math_passfail, dtype: float64</td>\n",
       "      <td>Pass    1.0\n",
       "Name: reading_passfail, dtype: flo...</td>\n",
       "      <td>PassPass    1.0\n",
       "Name: overall_passfail, dtype:...</td>\n",
       "    </tr>\n",
       "  </tbody>\n",
       "</table>\n",
       "</div>"
      ],
      "text/plain": [
       "           School Name School Tyoe  Total Students  Total School Budget  \\\n",
       "0  Shelton High School     Charter            1761              1056600   \n",
       "\n",
       "   Average Math Score  Average Reading Score  \\\n",
       "0           83.359455              83.725724   \n",
       "\n",
       "                                    % Passing Math  \\\n",
       "0  Pass    1.0\n",
       "Name: math_passfail, dtype: float64   \n",
       "\n",
       "                                   % Passing Reading  \\\n",
       "0  Pass    1.0\n",
       "Name: reading_passfail, dtype: flo...   \n",
       "\n",
       "                                   % Overall Passing  \n",
       "0  PassPass    1.0\n",
       "Name: overall_passfail, dtype:...  "
      ]
     },
     "execution_count": 59,
     "metadata": {},
     "output_type": "execute_result"
    }
   ],
   "source": [
    "# Print table with Huang Summary information:\n",
    "shelton_summary_df = pd.DataFrame(\n",
    "    {\"School Name\": shelton_name, \n",
    "     \"School Tyoe\": shelton_type,\n",
    "     \"Total Students\": shelton_size,\n",
    "     \"Total School Budget\": shelton_budget,\n",
    "     \"Average Math Score\": [average_math_shelton],\n",
    "     \"Average Reading Score\": [average_reading_shelton],\n",
    "     \"% Passing Math\": [math_pass_shelton],\n",
    "     \"% Passing Reading\": [reading_pass_shelton],\n",
    "     \"% Overall Passing\": [overall_pass_shelton]\n",
    "                       })\n",
    "shelton_summary_df"
   ]
  },
  {
   "cell_type": "code",
   "execution_count": 60,
   "metadata": {
    "scrolled": false
   },
   "outputs": [
    {
     "data": {
      "text/html": [
       "<div>\n",
       "<style scoped>\n",
       "    .dataframe tbody tr th:only-of-type {\n",
       "        vertical-align: middle;\n",
       "    }\n",
       "\n",
       "    .dataframe tbody tr th {\n",
       "        vertical-align: top;\n",
       "    }\n",
       "\n",
       "    .dataframe thead th {\n",
       "        text-align: right;\n",
       "    }\n",
       "</style>\n",
       "<table border=\"1\" class=\"dataframe\">\n",
       "  <thead>\n",
       "    <tr style=\"text-align: right;\">\n",
       "      <th></th>\n",
       "      <th>school_name</th>\n",
       "      <th>type</th>\n",
       "      <th>size</th>\n",
       "      <th>budget</th>\n",
       "      <th>math_score</th>\n",
       "      <th>reading_score</th>\n",
       "      <th>math_passfail</th>\n",
       "      <th>reading_passfail</th>\n",
       "      <th>overall_passfail</th>\n",
       "      <th>Per_Student_Budget</th>\n",
       "    </tr>\n",
       "  </thead>\n",
       "  <tbody>\n",
       "    <tr>\n",
       "      <th>7627</th>\n",
       "      <td>Hernandez High School</td>\n",
       "      <td>District</td>\n",
       "      <td>4635</td>\n",
       "      <td>3022020</td>\n",
       "      <td>88</td>\n",
       "      <td>70</td>\n",
       "      <td>Pass</td>\n",
       "      <td>Pass</td>\n",
       "      <td>PassPass</td>\n",
       "      <td>652.0</td>\n",
       "    </tr>\n",
       "    <tr>\n",
       "      <th>7628</th>\n",
       "      <td>Hernandez High School</td>\n",
       "      <td>District</td>\n",
       "      <td>4635</td>\n",
       "      <td>3022020</td>\n",
       "      <td>93</td>\n",
       "      <td>97</td>\n",
       "      <td>Pass</td>\n",
       "      <td>Pass</td>\n",
       "      <td>PassPass</td>\n",
       "      <td>652.0</td>\n",
       "    </tr>\n",
       "    <tr>\n",
       "      <th>7629</th>\n",
       "      <td>Hernandez High School</td>\n",
       "      <td>District</td>\n",
       "      <td>4635</td>\n",
       "      <td>3022020</td>\n",
       "      <td>81</td>\n",
       "      <td>83</td>\n",
       "      <td>Pass</td>\n",
       "      <td>Pass</td>\n",
       "      <td>PassPass</td>\n",
       "      <td>652.0</td>\n",
       "    </tr>\n",
       "    <tr>\n",
       "      <th>7630</th>\n",
       "      <td>Hernandez High School</td>\n",
       "      <td>District</td>\n",
       "      <td>4635</td>\n",
       "      <td>3022020</td>\n",
       "      <td>91</td>\n",
       "      <td>77</td>\n",
       "      <td>Pass</td>\n",
       "      <td>Pass</td>\n",
       "      <td>PassPass</td>\n",
       "      <td>652.0</td>\n",
       "    </tr>\n",
       "    <tr>\n",
       "      <th>7631</th>\n",
       "      <td>Hernandez High School</td>\n",
       "      <td>District</td>\n",
       "      <td>4635</td>\n",
       "      <td>3022020</td>\n",
       "      <td>93</td>\n",
       "      <td>84</td>\n",
       "      <td>Pass</td>\n",
       "      <td>Pass</td>\n",
       "      <td>PassPass</td>\n",
       "      <td>652.0</td>\n",
       "    </tr>\n",
       "  </tbody>\n",
       "</table>\n",
       "</div>"
      ],
      "text/plain": [
       "                school_name      type  size   budget  math_score  \\\n",
       "7627  Hernandez High School  District  4635  3022020          88   \n",
       "7628  Hernandez High School  District  4635  3022020          93   \n",
       "7629  Hernandez High School  District  4635  3022020          81   \n",
       "7630  Hernandez High School  District  4635  3022020          91   \n",
       "7631  Hernandez High School  District  4635  3022020          93   \n",
       "\n",
       "      reading_score math_passfail reading_passfail overall_passfail  \\\n",
       "7627             70          Pass             Pass         PassPass   \n",
       "7628             97          Pass             Pass         PassPass   \n",
       "7629             83          Pass             Pass         PassPass   \n",
       "7630             77          Pass             Pass         PassPass   \n",
       "7631             84          Pass             Pass         PassPass   \n",
       "\n",
       "      Per_Student_Budget  \n",
       "7627               652.0  \n",
       "7628               652.0  \n",
       "7629               652.0  \n",
       "7630               652.0  \n",
       "7631               652.0  "
      ]
     },
     "execution_count": 60,
     "metadata": {},
     "output_type": "execute_result"
    }
   ],
   "source": [
    "hernandez_df = merge_df.loc[merge_df[\"school_name\"] == \"Hernandez High School\", [\"school_name\", \"type\", \"size\", \"budget\", \"math_score\", \"reading_score\", \"math_passfail\", \"reading_passfail\", \"overall_passfail\", \"Per_Student_Budget\"]]\n",
    "hernandez_df.head()"
   ]
  },
  {
   "cell_type": "code",
   "execution_count": 61,
   "metadata": {},
   "outputs": [
    {
     "data": {
      "text/plain": [
       "array(['Hernandez High School'], dtype=object)"
      ]
     },
     "execution_count": 61,
     "metadata": {},
     "output_type": "execute_result"
    }
   ],
   "source": [
    "# Gather data from huang_df for the Huang High School Summary Table\n",
    "hernandez_name = hernandez_df[\"school_name\"].unique()\n",
    "hernandez_name"
   ]
  },
  {
   "cell_type": "code",
   "execution_count": 62,
   "metadata": {},
   "outputs": [
    {
     "data": {
      "text/plain": [
       "array(['District'], dtype=object)"
      ]
     },
     "execution_count": 62,
     "metadata": {},
     "output_type": "execute_result"
    }
   ],
   "source": [
    "hernandez_type = hernandez_df[\"type\"].unique()\n",
    "hernandez_type"
   ]
  },
  {
   "cell_type": "code",
   "execution_count": 63,
   "metadata": {},
   "outputs": [
    {
     "data": {
      "text/plain": [
       "array([4635], dtype=int64)"
      ]
     },
     "execution_count": 63,
     "metadata": {},
     "output_type": "execute_result"
    }
   ],
   "source": [
    "hernandez_size = hernandez_df[\"size\"].unique()\n",
    "hernandez_size"
   ]
  },
  {
   "cell_type": "code",
   "execution_count": 64,
   "metadata": {},
   "outputs": [
    {
     "data": {
      "text/plain": [
       "array([3022020], dtype=int64)"
      ]
     },
     "execution_count": 64,
     "metadata": {},
     "output_type": "execute_result"
    }
   ],
   "source": [
    "hernandez_budget = hernandez_df[\"budget\"].unique()\n",
    "hernandez_budget"
   ]
  },
  {
   "cell_type": "code",
   "execution_count": 65,
   "metadata": {},
   "outputs": [
    {
     "data": {
      "text/plain": [
       "77.28975188781014"
      ]
     },
     "execution_count": 65,
     "metadata": {},
     "output_type": "execute_result"
    }
   ],
   "source": [
    "average_math_hernandez = hernandez_df[\"math_score\"].mean()\n",
    "average_math_hernandez"
   ]
  },
  {
   "cell_type": "code",
   "execution_count": 66,
   "metadata": {},
   "outputs": [
    {
     "data": {
      "text/plain": [
       "80.9344120819849"
      ]
     },
     "execution_count": 66,
     "metadata": {},
     "output_type": "execute_result"
    }
   ],
   "source": [
    "average_reading_hernandez = hernandez_df[\"reading_score\"].mean()\n",
    "average_reading_hernandez"
   ]
  },
  {
   "cell_type": "code",
   "execution_count": 67,
   "metadata": {},
   "outputs": [
    {
     "data": {
      "text/plain": [
       "Pass    0.890831\n",
       "Fail    0.109169\n",
       "Name: math_passfail, dtype: float64"
      ]
     },
     "execution_count": 67,
     "metadata": {},
     "output_type": "execute_result"
    }
   ],
   "source": [
    "# Find percent of Huang students with passing math scores\n",
    "math_pass_hernandez = hernandez_df['math_passfail'].value_counts('Pass')\n",
    "math_pass_hernandez"
   ]
  },
  {
   "cell_type": "code",
   "execution_count": 68,
   "metadata": {},
   "outputs": [
    {
     "data": {
      "text/plain": [
       "Pass    1.0\n",
       "Name: reading_passfail, dtype: float64"
      ]
     },
     "execution_count": 68,
     "metadata": {},
     "output_type": "execute_result"
    }
   ],
   "source": [
    "# Find percent of Huang students with passing reading scores\n",
    "reading_pass_hernandez = hernandez_df['reading_passfail'].value_counts('Pass')\n",
    "reading_pass_hernandez"
   ]
  },
  {
   "cell_type": "code",
   "execution_count": 69,
   "metadata": {},
   "outputs": [
    {
     "data": {
      "text/plain": [
       "PassPass    0.890831\n",
       "FailPass    0.109169\n",
       "Name: overall_passfail, dtype: float64"
      ]
     },
     "execution_count": 69,
     "metadata": {},
     "output_type": "execute_result"
    }
   ],
   "source": [
    "overall_pass_hernandez = hernandez_df['overall_passfail'].value_counts('PassPass')\n",
    "overall_pass_hernandez"
   ]
  },
  {
   "cell_type": "code",
   "execution_count": 70,
   "metadata": {},
   "outputs": [
    {
     "data": {
      "text/html": [
       "<div>\n",
       "<style scoped>\n",
       "    .dataframe tbody tr th:only-of-type {\n",
       "        vertical-align: middle;\n",
       "    }\n",
       "\n",
       "    .dataframe tbody tr th {\n",
       "        vertical-align: top;\n",
       "    }\n",
       "\n",
       "    .dataframe thead th {\n",
       "        text-align: right;\n",
       "    }\n",
       "</style>\n",
       "<table border=\"1\" class=\"dataframe\">\n",
       "  <thead>\n",
       "    <tr style=\"text-align: right;\">\n",
       "      <th></th>\n",
       "      <th>School Name</th>\n",
       "      <th>School Tyoe</th>\n",
       "      <th>Total Students</th>\n",
       "      <th>Total School Budget</th>\n",
       "      <th>Average Math Score</th>\n",
       "      <th>Average Reading Score</th>\n",
       "      <th>% Passing Math</th>\n",
       "      <th>% Passing Reading</th>\n",
       "      <th>% Overall Passing</th>\n",
       "    </tr>\n",
       "  </thead>\n",
       "  <tbody>\n",
       "    <tr>\n",
       "      <th>0</th>\n",
       "      <td>Hernandez High School</td>\n",
       "      <td>District</td>\n",
       "      <td>4635</td>\n",
       "      <td>3022020</td>\n",
       "      <td>77.289752</td>\n",
       "      <td>80.934412</td>\n",
       "      <td>Pass    0.890831\n",
       "Fail    0.109169\n",
       "Name: math_p...</td>\n",
       "      <td>Pass    1.0\n",
       "Name: reading_passfail, dtype: flo...</td>\n",
       "      <td>PassPass    0.890831\n",
       "FailPass    0.109169\n",
       "Name...</td>\n",
       "    </tr>\n",
       "  </tbody>\n",
       "</table>\n",
       "</div>"
      ],
      "text/plain": [
       "             School Name School Tyoe  Total Students  Total School Budget  \\\n",
       "0  Hernandez High School    District            4635              3022020   \n",
       "\n",
       "   Average Math Score  Average Reading Score  \\\n",
       "0           77.289752              80.934412   \n",
       "\n",
       "                                      % Passing Math  \\\n",
       "0  Pass    0.890831\n",
       "Fail    0.109169\n",
       "Name: math_p...   \n",
       "\n",
       "                                   % Passing Reading  \\\n",
       "0  Pass    1.0\n",
       "Name: reading_passfail, dtype: flo...   \n",
       "\n",
       "                                   % Overall Passing  \n",
       "0  PassPass    0.890831\n",
       "FailPass    0.109169\n",
       "Name...  "
      ]
     },
     "execution_count": 70,
     "metadata": {},
     "output_type": "execute_result"
    }
   ],
   "source": [
    "# Print table with Huang Summary information:\n",
    "hernandez_summary_df = pd.DataFrame(\n",
    "    {\"School Name\": hernandez_name, \n",
    "     \"School Tyoe\": hernandez_type,\n",
    "     \"Total Students\": hernandez_size,\n",
    "     \"Total School Budget\": hernandez_budget,\n",
    "     \"Average Math Score\": [average_math_hernandez],\n",
    "     \"Average Reading Score\": [average_reading_hernandez],\n",
    "     \"% Passing Math\": [math_pass_hernandez],\n",
    "     \"% Passing Reading\": [reading_pass_hernandez],\n",
    "     \"% Overall Passing\": [overall_pass_hernandez]\n",
    "                       })\n",
    "hernandez_summary_df"
   ]
  },
  {
   "cell_type": "code",
   "execution_count": 74,
   "metadata": {},
   "outputs": [
    {
     "data": {
      "text/html": [
       "<div>\n",
       "<style scoped>\n",
       "    .dataframe tbody tr th:only-of-type {\n",
       "        vertical-align: middle;\n",
       "    }\n",
       "\n",
       "    .dataframe tbody tr th {\n",
       "        vertical-align: top;\n",
       "    }\n",
       "\n",
       "    .dataframe thead th {\n",
       "        text-align: right;\n",
       "    }\n",
       "</style>\n",
       "<table border=\"1\" class=\"dataframe\">\n",
       "  <thead>\n",
       "    <tr style=\"text-align: right;\">\n",
       "      <th></th>\n",
       "      <th>school_name</th>\n",
       "      <th>type</th>\n",
       "      <th>size</th>\n",
       "      <th>budget</th>\n",
       "      <th>math_score</th>\n",
       "      <th>reading_score</th>\n",
       "      <th>math_passfail</th>\n",
       "      <th>reading_passfail</th>\n",
       "      <th>overall_passfail</th>\n",
       "      <th>Per_Student_Budget</th>\n",
       "    </tr>\n",
       "  </thead>\n",
       "  <tbody>\n",
       "    <tr>\n",
       "      <th>12262</th>\n",
       "      <td>Griffin High School</td>\n",
       "      <td>Charter</td>\n",
       "      <td>1468</td>\n",
       "      <td>917500</td>\n",
       "      <td>68</td>\n",
       "      <td>79</td>\n",
       "      <td>Pass</td>\n",
       "      <td>Pass</td>\n",
       "      <td>PassPass</td>\n",
       "      <td>625.0</td>\n",
       "    </tr>\n",
       "    <tr>\n",
       "      <th>12263</th>\n",
       "      <td>Griffin High School</td>\n",
       "      <td>Charter</td>\n",
       "      <td>1468</td>\n",
       "      <td>917500</td>\n",
       "      <td>81</td>\n",
       "      <td>91</td>\n",
       "      <td>Pass</td>\n",
       "      <td>Pass</td>\n",
       "      <td>PassPass</td>\n",
       "      <td>625.0</td>\n",
       "    </tr>\n",
       "    <tr>\n",
       "      <th>12264</th>\n",
       "      <td>Griffin High School</td>\n",
       "      <td>Charter</td>\n",
       "      <td>1468</td>\n",
       "      <td>917500</td>\n",
       "      <td>89</td>\n",
       "      <td>78</td>\n",
       "      <td>Pass</td>\n",
       "      <td>Pass</td>\n",
       "      <td>PassPass</td>\n",
       "      <td>625.0</td>\n",
       "    </tr>\n",
       "    <tr>\n",
       "      <th>12265</th>\n",
       "      <td>Griffin High School</td>\n",
       "      <td>Charter</td>\n",
       "      <td>1468</td>\n",
       "      <td>917500</td>\n",
       "      <td>85</td>\n",
       "      <td>91</td>\n",
       "      <td>Pass</td>\n",
       "      <td>Pass</td>\n",
       "      <td>PassPass</td>\n",
       "      <td>625.0</td>\n",
       "    </tr>\n",
       "    <tr>\n",
       "      <th>12266</th>\n",
       "      <td>Griffin High School</td>\n",
       "      <td>Charter</td>\n",
       "      <td>1468</td>\n",
       "      <td>917500</td>\n",
       "      <td>83</td>\n",
       "      <td>76</td>\n",
       "      <td>Pass</td>\n",
       "      <td>Pass</td>\n",
       "      <td>PassPass</td>\n",
       "      <td>625.0</td>\n",
       "    </tr>\n",
       "  </tbody>\n",
       "</table>\n",
       "</div>"
      ],
      "text/plain": [
       "               school_name     type  size  budget  math_score  reading_score  \\\n",
       "12262  Griffin High School  Charter  1468  917500          68             79   \n",
       "12263  Griffin High School  Charter  1468  917500          81             91   \n",
       "12264  Griffin High School  Charter  1468  917500          89             78   \n",
       "12265  Griffin High School  Charter  1468  917500          85             91   \n",
       "12266  Griffin High School  Charter  1468  917500          83             76   \n",
       "\n",
       "      math_passfail reading_passfail overall_passfail  Per_Student_Budget  \n",
       "12262          Pass             Pass         PassPass               625.0  \n",
       "12263          Pass             Pass         PassPass               625.0  \n",
       "12264          Pass             Pass         PassPass               625.0  \n",
       "12265          Pass             Pass         PassPass               625.0  \n",
       "12266          Pass             Pass         PassPass               625.0  "
      ]
     },
     "execution_count": 74,
     "metadata": {},
     "output_type": "execute_result"
    }
   ],
   "source": [
    "griffin_df = merge_df.loc[merge_df[\"school_name\"] == \"Griffin High School\", [\"school_name\", \"type\", \"size\", \"budget\", \"math_score\", \"reading_score\", \"math_passfail\", \"reading_passfail\", \"overall_passfail\", \"Per_Student_Budget\"]]\n",
    "griffin_df.head()"
   ]
  },
  {
   "cell_type": "code",
   "execution_count": 75,
   "metadata": {},
   "outputs": [
    {
     "data": {
      "text/plain": [
       "array(['Griffin High School'], dtype=object)"
      ]
     },
     "execution_count": 75,
     "metadata": {},
     "output_type": "execute_result"
    }
   ],
   "source": [
    "# Gather data from huang_df for the Huang High School Summary Table\n",
    "griffin_name = griffin_df[\"school_name\"].unique()\n",
    "griffin_name"
   ]
  },
  {
   "cell_type": "code",
   "execution_count": 76,
   "metadata": {},
   "outputs": [
    {
     "data": {
      "text/plain": [
       "array(['Charter'], dtype=object)"
      ]
     },
     "execution_count": 76,
     "metadata": {},
     "output_type": "execute_result"
    }
   ],
   "source": [
    "griffin_type = griffin_df[\"type\"].unique()\n",
    "griffin_type"
   ]
  },
  {
   "cell_type": "code",
   "execution_count": 77,
   "metadata": {},
   "outputs": [
    {
     "data": {
      "text/plain": [
       "array([1468], dtype=int64)"
      ]
     },
     "execution_count": 77,
     "metadata": {},
     "output_type": "execute_result"
    }
   ],
   "source": [
    "griffin_size = griffin_df[\"size\"].unique()\n",
    "griffin_size"
   ]
  },
  {
   "cell_type": "code",
   "execution_count": 78,
   "metadata": {},
   "outputs": [
    {
     "data": {
      "text/plain": [
       "array([917500], dtype=int64)"
      ]
     },
     "execution_count": 78,
     "metadata": {},
     "output_type": "execute_result"
    }
   ],
   "source": [
    "griffin_budget = griffin_df[\"budget\"].unique()\n",
    "griffin_budget"
   ]
  },
  {
   "cell_type": "code",
   "execution_count": 79,
   "metadata": {},
   "outputs": [
    {
     "data": {
      "text/plain": [
       "83.35149863760218"
      ]
     },
     "execution_count": 79,
     "metadata": {},
     "output_type": "execute_result"
    }
   ],
   "source": [
    "average_math_griffin = griffin_df[\"math_score\"].mean()\n",
    "average_math_griffin"
   ]
  },
  {
   "cell_type": "code",
   "execution_count": 80,
   "metadata": {},
   "outputs": [
    {
     "data": {
      "text/plain": [
       "83.816757493188"
      ]
     },
     "execution_count": 80,
     "metadata": {},
     "output_type": "execute_result"
    }
   ],
   "source": [
    "average_reading_griffin = griffin_df[\"reading_score\"].mean()\n",
    "average_reading_griffin"
   ]
  },
  {
   "cell_type": "code",
   "execution_count": 81,
   "metadata": {},
   "outputs": [
    {
     "data": {
      "text/plain": [
       "Pass    1.0\n",
       "Name: math_passfail, dtype: float64"
      ]
     },
     "execution_count": 81,
     "metadata": {},
     "output_type": "execute_result"
    }
   ],
   "source": [
    "# Find percent of Huang students with passing math scores\n",
    "math_pass_griffin = griffin_df['math_passfail'].value_counts('Pass')\n",
    "math_pass_griffin"
   ]
  },
  {
   "cell_type": "code",
   "execution_count": 82,
   "metadata": {},
   "outputs": [
    {
     "data": {
      "text/plain": [
       "Pass    1.0\n",
       "Name: reading_passfail, dtype: float64"
      ]
     },
     "execution_count": 82,
     "metadata": {},
     "output_type": "execute_result"
    }
   ],
   "source": [
    "# Find percent of Huang students with passing reading scores\n",
    "reading_pass_griffin = griffin_df['reading_passfail'].value_counts('Pass')\n",
    "reading_pass_griffin"
   ]
  },
  {
   "cell_type": "code",
   "execution_count": 83,
   "metadata": {},
   "outputs": [
    {
     "data": {
      "text/plain": [
       "PassPass    1.0\n",
       "Name: overall_passfail, dtype: float64"
      ]
     },
     "execution_count": 83,
     "metadata": {},
     "output_type": "execute_result"
    }
   ],
   "source": [
    "overall_pass_griffin = griffin_df['overall_passfail'].value_counts('PassPass')\n",
    "overall_pass_griffin"
   ]
  },
  {
   "cell_type": "code",
   "execution_count": 84,
   "metadata": {},
   "outputs": [
    {
     "data": {
      "text/html": [
       "<div>\n",
       "<style scoped>\n",
       "    .dataframe tbody tr th:only-of-type {\n",
       "        vertical-align: middle;\n",
       "    }\n",
       "\n",
       "    .dataframe tbody tr th {\n",
       "        vertical-align: top;\n",
       "    }\n",
       "\n",
       "    .dataframe thead th {\n",
       "        text-align: right;\n",
       "    }\n",
       "</style>\n",
       "<table border=\"1\" class=\"dataframe\">\n",
       "  <thead>\n",
       "    <tr style=\"text-align: right;\">\n",
       "      <th></th>\n",
       "      <th>School Name</th>\n",
       "      <th>School Tyoe</th>\n",
       "      <th>Total Students</th>\n",
       "      <th>Total School Budget</th>\n",
       "      <th>Average Math Score</th>\n",
       "      <th>Average Reading Score</th>\n",
       "      <th>% Passing Math</th>\n",
       "      <th>% Passing Reading</th>\n",
       "      <th>% Overall Passing</th>\n",
       "    </tr>\n",
       "  </thead>\n",
       "  <tbody>\n",
       "    <tr>\n",
       "      <th>0</th>\n",
       "      <td>Griffin High School</td>\n",
       "      <td>Charter</td>\n",
       "      <td>1468</td>\n",
       "      <td>917500</td>\n",
       "      <td>83.351499</td>\n",
       "      <td>83.816757</td>\n",
       "      <td>Pass    1.0\n",
       "Name: math_passfail, dtype: float64</td>\n",
       "      <td>Pass    1.0\n",
       "Name: reading_passfail, dtype: flo...</td>\n",
       "      <td>PassPass    1.0\n",
       "Name: overall_passfail, dtype:...</td>\n",
       "    </tr>\n",
       "  </tbody>\n",
       "</table>\n",
       "</div>"
      ],
      "text/plain": [
       "           School Name School Tyoe  Total Students  Total School Budget  \\\n",
       "0  Griffin High School     Charter            1468               917500   \n",
       "\n",
       "   Average Math Score  Average Reading Score  \\\n",
       "0           83.351499              83.816757   \n",
       "\n",
       "                                    % Passing Math  \\\n",
       "0  Pass    1.0\n",
       "Name: math_passfail, dtype: float64   \n",
       "\n",
       "                                   % Passing Reading  \\\n",
       "0  Pass    1.0\n",
       "Name: reading_passfail, dtype: flo...   \n",
       "\n",
       "                                   % Overall Passing  \n",
       "0  PassPass    1.0\n",
       "Name: overall_passfail, dtype:...  "
      ]
     },
     "execution_count": 84,
     "metadata": {},
     "output_type": "execute_result"
    }
   ],
   "source": [
    "# Print table with Huang Summary information:\n",
    "griffin_summary_df = pd.DataFrame(\n",
    "    {\"School Name\": griffin_name, \n",
    "     \"School Tyoe\": griffin_type,\n",
    "     \"Total Students\": griffin_size,\n",
    "     \"Total School Budget\": griffin_budget,\n",
    "     \"Average Math Score\": [average_math_griffin],\n",
    "     \"Average Reading Score\": [average_reading_griffin],\n",
    "     \"% Passing Math\": [math_pass_griffin],\n",
    "     \"% Passing Reading\": [reading_pass_griffin],\n",
    "     \"% Overall Passing\": [overall_pass_griffin]\n",
    "                       })\n",
    "griffin_summary_df"
   ]
  },
  {
   "cell_type": "code",
   "execution_count": 85,
   "metadata": {},
   "outputs": [
    {
     "data": {
      "text/html": [
       "<div>\n",
       "<style scoped>\n",
       "    .dataframe tbody tr th:only-of-type {\n",
       "        vertical-align: middle;\n",
       "    }\n",
       "\n",
       "    .dataframe tbody tr th {\n",
       "        vertical-align: top;\n",
       "    }\n",
       "\n",
       "    .dataframe thead th {\n",
       "        text-align: right;\n",
       "    }\n",
       "</style>\n",
       "<table border=\"1\" class=\"dataframe\">\n",
       "  <thead>\n",
       "    <tr style=\"text-align: right;\">\n",
       "      <th></th>\n",
       "      <th>school_name</th>\n",
       "      <th>type</th>\n",
       "      <th>size</th>\n",
       "      <th>budget</th>\n",
       "      <th>math_score</th>\n",
       "      <th>reading_score</th>\n",
       "      <th>math_passfail</th>\n",
       "      <th>reading_passfail</th>\n",
       "      <th>overall_passfail</th>\n",
       "      <th>Per_Student_Budget</th>\n",
       "    </tr>\n",
       "  </thead>\n",
       "  <tbody>\n",
       "    <tr>\n",
       "      <th>13730</th>\n",
       "      <td>Wilson High School</td>\n",
       "      <td>Charter</td>\n",
       "      <td>2283</td>\n",
       "      <td>1319574</td>\n",
       "      <td>71</td>\n",
       "      <td>84</td>\n",
       "      <td>Pass</td>\n",
       "      <td>Pass</td>\n",
       "      <td>PassPass</td>\n",
       "      <td>578.0</td>\n",
       "    </tr>\n",
       "    <tr>\n",
       "      <th>13731</th>\n",
       "      <td>Wilson High School</td>\n",
       "      <td>Charter</td>\n",
       "      <td>2283</td>\n",
       "      <td>1319574</td>\n",
       "      <td>87</td>\n",
       "      <td>72</td>\n",
       "      <td>Pass</td>\n",
       "      <td>Pass</td>\n",
       "      <td>PassPass</td>\n",
       "      <td>578.0</td>\n",
       "    </tr>\n",
       "    <tr>\n",
       "      <th>13732</th>\n",
       "      <td>Wilson High School</td>\n",
       "      <td>Charter</td>\n",
       "      <td>2283</td>\n",
       "      <td>1319574</td>\n",
       "      <td>82</td>\n",
       "      <td>97</td>\n",
       "      <td>Pass</td>\n",
       "      <td>Pass</td>\n",
       "      <td>PassPass</td>\n",
       "      <td>578.0</td>\n",
       "    </tr>\n",
       "    <tr>\n",
       "      <th>13733</th>\n",
       "      <td>Wilson High School</td>\n",
       "      <td>Charter</td>\n",
       "      <td>2283</td>\n",
       "      <td>1319574</td>\n",
       "      <td>68</td>\n",
       "      <td>93</td>\n",
       "      <td>Pass</td>\n",
       "      <td>Pass</td>\n",
       "      <td>PassPass</td>\n",
       "      <td>578.0</td>\n",
       "    </tr>\n",
       "    <tr>\n",
       "      <th>13734</th>\n",
       "      <td>Wilson High School</td>\n",
       "      <td>Charter</td>\n",
       "      <td>2283</td>\n",
       "      <td>1319574</td>\n",
       "      <td>72</td>\n",
       "      <td>79</td>\n",
       "      <td>Pass</td>\n",
       "      <td>Pass</td>\n",
       "      <td>PassPass</td>\n",
       "      <td>578.0</td>\n",
       "    </tr>\n",
       "  </tbody>\n",
       "</table>\n",
       "</div>"
      ],
      "text/plain": [
       "              school_name     type  size   budget  math_score  reading_score  \\\n",
       "13730  Wilson High School  Charter  2283  1319574          71             84   \n",
       "13731  Wilson High School  Charter  2283  1319574          87             72   \n",
       "13732  Wilson High School  Charter  2283  1319574          82             97   \n",
       "13733  Wilson High School  Charter  2283  1319574          68             93   \n",
       "13734  Wilson High School  Charter  2283  1319574          72             79   \n",
       "\n",
       "      math_passfail reading_passfail overall_passfail  Per_Student_Budget  \n",
       "13730          Pass             Pass         PassPass               578.0  \n",
       "13731          Pass             Pass         PassPass               578.0  \n",
       "13732          Pass             Pass         PassPass               578.0  \n",
       "13733          Pass             Pass         PassPass               578.0  \n",
       "13734          Pass             Pass         PassPass               578.0  "
      ]
     },
     "execution_count": 85,
     "metadata": {},
     "output_type": "execute_result"
    }
   ],
   "source": [
    "wilson_df = merge_df.loc[merge_df[\"school_name\"] == \"Wilson High School\", [\"school_name\", \"type\", \"size\", \"budget\", \"math_score\", \"reading_score\", \"math_passfail\", \"reading_passfail\", \"overall_passfail\", \"Per_Student_Budget\"]]\n",
    "wilson_df.head()"
   ]
  },
  {
   "cell_type": "code",
   "execution_count": 86,
   "metadata": {},
   "outputs": [
    {
     "data": {
      "text/plain": [
       "array(['Wilson High School'], dtype=object)"
      ]
     },
     "execution_count": 86,
     "metadata": {},
     "output_type": "execute_result"
    }
   ],
   "source": [
    "# Gather data from huang_df for the Huang High School Summary Table\n",
    "wilson_name = wilson_df[\"school_name\"].unique()\n",
    "wilson_name"
   ]
  },
  {
   "cell_type": "code",
   "execution_count": 87,
   "metadata": {},
   "outputs": [
    {
     "data": {
      "text/plain": [
       "array(['Charter'], dtype=object)"
      ]
     },
     "execution_count": 87,
     "metadata": {},
     "output_type": "execute_result"
    }
   ],
   "source": [
    "wilson_type = wilson_df[\"type\"].unique()\n",
    "wilson_type"
   ]
  },
  {
   "cell_type": "code",
   "execution_count": 88,
   "metadata": {},
   "outputs": [
    {
     "data": {
      "text/plain": [
       "array([2283], dtype=int64)"
      ]
     },
     "execution_count": 88,
     "metadata": {},
     "output_type": "execute_result"
    }
   ],
   "source": [
    "wilson_size = wilson_df[\"size\"].unique()\n",
    "wilson_size"
   ]
  },
  {
   "cell_type": "code",
   "execution_count": 89,
   "metadata": {},
   "outputs": [
    {
     "data": {
      "text/plain": [
       "array([1319574], dtype=int64)"
      ]
     },
     "execution_count": 89,
     "metadata": {},
     "output_type": "execute_result"
    }
   ],
   "source": [
    "wilson_budget = wilson_df[\"budget\"].unique()\n",
    "wilson_budget"
   ]
  },
  {
   "cell_type": "code",
   "execution_count": 90,
   "metadata": {},
   "outputs": [
    {
     "data": {
      "text/plain": [
       "83.2742006132282"
      ]
     },
     "execution_count": 90,
     "metadata": {},
     "output_type": "execute_result"
    }
   ],
   "source": [
    "average_math_wilson = wilson_df[\"math_score\"].mean()\n",
    "average_math_wilson"
   ]
  },
  {
   "cell_type": "code",
   "execution_count": 91,
   "metadata": {},
   "outputs": [
    {
     "data": {
      "text/plain": [
       "83.98948751642575"
      ]
     },
     "execution_count": 91,
     "metadata": {},
     "output_type": "execute_result"
    }
   ],
   "source": [
    "average_reading_wilson = wilson_df[\"reading_score\"].mean()\n",
    "average_reading_wilson"
   ]
  },
  {
   "cell_type": "code",
   "execution_count": 92,
   "metadata": {},
   "outputs": [
    {
     "data": {
      "text/plain": [
       "Pass    1.0\n",
       "Name: math_passfail, dtype: float64"
      ]
     },
     "execution_count": 92,
     "metadata": {},
     "output_type": "execute_result"
    }
   ],
   "source": [
    "# Find percent of Huang students with passing math scores\n",
    "math_pass_wilson = wilson_df['math_passfail'].value_counts('Pass')\n",
    "math_pass_wilson"
   ]
  },
  {
   "cell_type": "code",
   "execution_count": 93,
   "metadata": {},
   "outputs": [
    {
     "data": {
      "text/plain": [
       "Pass    1.0\n",
       "Name: reading_passfail, dtype: float64"
      ]
     },
     "execution_count": 93,
     "metadata": {},
     "output_type": "execute_result"
    }
   ],
   "source": [
    "# Find percent of Huang students with passing reading scores\n",
    "reading_pass_wilson = wilson_df['reading_passfail'].value_counts('Pass')\n",
    "reading_pass_wilson"
   ]
  },
  {
   "cell_type": "code",
   "execution_count": 94,
   "metadata": {},
   "outputs": [
    {
     "data": {
      "text/plain": [
       "PassPass    1.0\n",
       "Name: overall_passfail, dtype: float64"
      ]
     },
     "execution_count": 94,
     "metadata": {},
     "output_type": "execute_result"
    }
   ],
   "source": [
    "overall_pass_wilson = wilson_df['overall_passfail'].value_counts('PassPass')\n",
    "overall_pass_wilson"
   ]
  },
  {
   "cell_type": "code",
   "execution_count": 95,
   "metadata": {},
   "outputs": [
    {
     "data": {
      "text/html": [
       "<div>\n",
       "<style scoped>\n",
       "    .dataframe tbody tr th:only-of-type {\n",
       "        vertical-align: middle;\n",
       "    }\n",
       "\n",
       "    .dataframe tbody tr th {\n",
       "        vertical-align: top;\n",
       "    }\n",
       "\n",
       "    .dataframe thead th {\n",
       "        text-align: right;\n",
       "    }\n",
       "</style>\n",
       "<table border=\"1\" class=\"dataframe\">\n",
       "  <thead>\n",
       "    <tr style=\"text-align: right;\">\n",
       "      <th></th>\n",
       "      <th>School Name</th>\n",
       "      <th>School Tyoe</th>\n",
       "      <th>Total Students</th>\n",
       "      <th>Total School Budget</th>\n",
       "      <th>Average Math Score</th>\n",
       "      <th>Average Reading Score</th>\n",
       "      <th>% Passing Math</th>\n",
       "      <th>% Passing Reading</th>\n",
       "      <th>% Overall Passing</th>\n",
       "    </tr>\n",
       "  </thead>\n",
       "  <tbody>\n",
       "    <tr>\n",
       "      <th>0</th>\n",
       "      <td>Wilson High School</td>\n",
       "      <td>Charter</td>\n",
       "      <td>2283</td>\n",
       "      <td>1319574</td>\n",
       "      <td>83.274201</td>\n",
       "      <td>83.989488</td>\n",
       "      <td>Pass    1.0\n",
       "Name: math_passfail, dtype: float64</td>\n",
       "      <td>Pass    1.0\n",
       "Name: reading_passfail, dtype: flo...</td>\n",
       "      <td>PassPass    1.0\n",
       "Name: overall_passfail, dtype:...</td>\n",
       "    </tr>\n",
       "  </tbody>\n",
       "</table>\n",
       "</div>"
      ],
      "text/plain": [
       "          School Name School Tyoe  Total Students  Total School Budget  \\\n",
       "0  Wilson High School     Charter            2283              1319574   \n",
       "\n",
       "   Average Math Score  Average Reading Score  \\\n",
       "0           83.274201              83.989488   \n",
       "\n",
       "                                    % Passing Math  \\\n",
       "0  Pass    1.0\n",
       "Name: math_passfail, dtype: float64   \n",
       "\n",
       "                                   % Passing Reading  \\\n",
       "0  Pass    1.0\n",
       "Name: reading_passfail, dtype: flo...   \n",
       "\n",
       "                                   % Overall Passing  \n",
       "0  PassPass    1.0\n",
       "Name: overall_passfail, dtype:...  "
      ]
     },
     "execution_count": 95,
     "metadata": {},
     "output_type": "execute_result"
    }
   ],
   "source": [
    "# Print table with Huang Summary information:\n",
    "wilson_summary_df = pd.DataFrame(\n",
    "    {\"School Name\": wilson_name, \n",
    "     \"School Tyoe\": wilson_type,\n",
    "     \"Total Students\": wilson_size,\n",
    "     \"Total School Budget\": wilson_budget,\n",
    "     \"Average Math Score\": [average_math_wilson],\n",
    "     \"Average Reading Score\": [average_reading_wilson],\n",
    "     \"% Passing Math\": [math_pass_wilson],\n",
    "     \"% Passing Reading\": [reading_pass_wilson],\n",
    "     \"% Overall Passing\": [overall_pass_wilson]\n",
    "                       })\n",
    "wilson_summary_df"
   ]
  },
  {
   "cell_type": "code",
   "execution_count": 96,
   "metadata": {},
   "outputs": [
    {
     "data": {
      "text/html": [
       "<div>\n",
       "<style scoped>\n",
       "    .dataframe tbody tr th:only-of-type {\n",
       "        vertical-align: middle;\n",
       "    }\n",
       "\n",
       "    .dataframe tbody tr th {\n",
       "        vertical-align: top;\n",
       "    }\n",
       "\n",
       "    .dataframe thead th {\n",
       "        text-align: right;\n",
       "    }\n",
       "</style>\n",
       "<table border=\"1\" class=\"dataframe\">\n",
       "  <thead>\n",
       "    <tr style=\"text-align: right;\">\n",
       "      <th></th>\n",
       "      <th>school_name</th>\n",
       "      <th>type</th>\n",
       "      <th>size</th>\n",
       "      <th>budget</th>\n",
       "      <th>math_score</th>\n",
       "      <th>reading_score</th>\n",
       "      <th>math_passfail</th>\n",
       "      <th>reading_passfail</th>\n",
       "      <th>overall_passfail</th>\n",
       "      <th>Per_Student_Budget</th>\n",
       "    </tr>\n",
       "  </thead>\n",
       "  <tbody>\n",
       "    <tr>\n",
       "      <th>16013</th>\n",
       "      <td>Cabrera High School</td>\n",
       "      <td>Charter</td>\n",
       "      <td>1858</td>\n",
       "      <td>1081356</td>\n",
       "      <td>94</td>\n",
       "      <td>94</td>\n",
       "      <td>Pass</td>\n",
       "      <td>Pass</td>\n",
       "      <td>PassPass</td>\n",
       "      <td>582.0</td>\n",
       "    </tr>\n",
       "    <tr>\n",
       "      <th>16014</th>\n",
       "      <td>Cabrera High School</td>\n",
       "      <td>Charter</td>\n",
       "      <td>1858</td>\n",
       "      <td>1081356</td>\n",
       "      <td>97</td>\n",
       "      <td>98</td>\n",
       "      <td>Pass</td>\n",
       "      <td>Pass</td>\n",
       "      <td>PassPass</td>\n",
       "      <td>582.0</td>\n",
       "    </tr>\n",
       "    <tr>\n",
       "      <th>16015</th>\n",
       "      <td>Cabrera High School</td>\n",
       "      <td>Charter</td>\n",
       "      <td>1858</td>\n",
       "      <td>1081356</td>\n",
       "      <td>83</td>\n",
       "      <td>78</td>\n",
       "      <td>Pass</td>\n",
       "      <td>Pass</td>\n",
       "      <td>PassPass</td>\n",
       "      <td>582.0</td>\n",
       "    </tr>\n",
       "    <tr>\n",
       "      <th>16016</th>\n",
       "      <td>Cabrera High School</td>\n",
       "      <td>Charter</td>\n",
       "      <td>1858</td>\n",
       "      <td>1081356</td>\n",
       "      <td>92</td>\n",
       "      <td>89</td>\n",
       "      <td>Pass</td>\n",
       "      <td>Pass</td>\n",
       "      <td>PassPass</td>\n",
       "      <td>582.0</td>\n",
       "    </tr>\n",
       "    <tr>\n",
       "      <th>16017</th>\n",
       "      <td>Cabrera High School</td>\n",
       "      <td>Charter</td>\n",
       "      <td>1858</td>\n",
       "      <td>1081356</td>\n",
       "      <td>71</td>\n",
       "      <td>96</td>\n",
       "      <td>Pass</td>\n",
       "      <td>Pass</td>\n",
       "      <td>PassPass</td>\n",
       "      <td>582.0</td>\n",
       "    </tr>\n",
       "  </tbody>\n",
       "</table>\n",
       "</div>"
      ],
      "text/plain": [
       "               school_name     type  size   budget  math_score  reading_score  \\\n",
       "16013  Cabrera High School  Charter  1858  1081356          94             94   \n",
       "16014  Cabrera High School  Charter  1858  1081356          97             98   \n",
       "16015  Cabrera High School  Charter  1858  1081356          83             78   \n",
       "16016  Cabrera High School  Charter  1858  1081356          92             89   \n",
       "16017  Cabrera High School  Charter  1858  1081356          71             96   \n",
       "\n",
       "      math_passfail reading_passfail overall_passfail  Per_Student_Budget  \n",
       "16013          Pass             Pass         PassPass               582.0  \n",
       "16014          Pass             Pass         PassPass               582.0  \n",
       "16015          Pass             Pass         PassPass               582.0  \n",
       "16016          Pass             Pass         PassPass               582.0  \n",
       "16017          Pass             Pass         PassPass               582.0  "
      ]
     },
     "execution_count": 96,
     "metadata": {},
     "output_type": "execute_result"
    }
   ],
   "source": [
    "cabrera_df = merge_df.loc[merge_df[\"school_name\"] == \"Cabrera High School\", [\"school_name\", \"type\", \"size\", \"budget\", \"math_score\", \"reading_score\", \"math_passfail\", \"reading_passfail\", \"overall_passfail\", \"Per_Student_Budget\"]]\n",
    "cabrera_df.head()"
   ]
  },
  {
   "cell_type": "code",
   "execution_count": 97,
   "metadata": {},
   "outputs": [
    {
     "data": {
      "text/plain": [
       "array(['Cabrera High School'], dtype=object)"
      ]
     },
     "execution_count": 97,
     "metadata": {},
     "output_type": "execute_result"
    }
   ],
   "source": [
    "# Gather data from huang_df for the Huang High School Summary Table\n",
    "cabrera_name = cabrera_df[\"school_name\"].unique()\n",
    "cabrera_name"
   ]
  },
  {
   "cell_type": "code",
   "execution_count": 98,
   "metadata": {},
   "outputs": [
    {
     "data": {
      "text/plain": [
       "array(['Charter'], dtype=object)"
      ]
     },
     "execution_count": 98,
     "metadata": {},
     "output_type": "execute_result"
    }
   ],
   "source": [
    "cabrera_type = cabrera_df[\"type\"].unique()\n",
    "cabrera_type"
   ]
  },
  {
   "cell_type": "code",
   "execution_count": 99,
   "metadata": {},
   "outputs": [
    {
     "data": {
      "text/plain": [
       "array([1858], dtype=int64)"
      ]
     },
     "execution_count": 99,
     "metadata": {},
     "output_type": "execute_result"
    }
   ],
   "source": [
    "cabrera_size = cabrera_df[\"size\"].unique()\n",
    "cabrera_size"
   ]
  },
  {
   "cell_type": "code",
   "execution_count": 100,
   "metadata": {},
   "outputs": [
    {
     "data": {
      "text/plain": [
       "array([1081356], dtype=int64)"
      ]
     },
     "execution_count": 100,
     "metadata": {},
     "output_type": "execute_result"
    }
   ],
   "source": [
    "cabrera_budget = cabrera_df[\"budget\"].unique()\n",
    "cabrera_budget"
   ]
  },
  {
   "cell_type": "code",
   "execution_count": 101,
   "metadata": {},
   "outputs": [
    {
     "data": {
      "text/plain": [
       "83.06189451022605"
      ]
     },
     "execution_count": 101,
     "metadata": {},
     "output_type": "execute_result"
    }
   ],
   "source": [
    "average_math_cabrera = cabrera_df[\"math_score\"].mean()\n",
    "average_math_cabrera"
   ]
  },
  {
   "cell_type": "code",
   "execution_count": 102,
   "metadata": {},
   "outputs": [
    {
     "data": {
      "text/plain": [
       "83.97578040904197"
      ]
     },
     "execution_count": 102,
     "metadata": {},
     "output_type": "execute_result"
    }
   ],
   "source": [
    "average_reading_cabrera = cabrera_df[\"reading_score\"].mean()\n",
    "average_reading_cabrera"
   ]
  },
  {
   "cell_type": "code",
   "execution_count": 103,
   "metadata": {},
   "outputs": [
    {
     "data": {
      "text/plain": [
       "Pass    1.0\n",
       "Name: math_passfail, dtype: float64"
      ]
     },
     "execution_count": 103,
     "metadata": {},
     "output_type": "execute_result"
    }
   ],
   "source": [
    "# Find percent of Huang students with passing math scores\n",
    "math_pass_cabrera = cabrera_df['math_passfail'].value_counts('Pass')\n",
    "math_pass_cabrera"
   ]
  },
  {
   "cell_type": "code",
   "execution_count": 104,
   "metadata": {},
   "outputs": [
    {
     "data": {
      "text/plain": [
       "Pass    1.0\n",
       "Name: reading_passfail, dtype: float64"
      ]
     },
     "execution_count": 104,
     "metadata": {},
     "output_type": "execute_result"
    }
   ],
   "source": [
    "# Find percent of Huang students with passing reading scores\n",
    "reading_pass_cabrera = cabrera_df['reading_passfail'].value_counts('Pass')\n",
    "reading_pass_cabrera"
   ]
  },
  {
   "cell_type": "code",
   "execution_count": 105,
   "metadata": {},
   "outputs": [
    {
     "data": {
      "text/plain": [
       "PassPass    1.0\n",
       "Name: overall_passfail, dtype: float64"
      ]
     },
     "execution_count": 105,
     "metadata": {},
     "output_type": "execute_result"
    }
   ],
   "source": [
    "overall_pass_cabrera = cabrera_df['overall_passfail'].value_counts('PassPass')\n",
    "overall_pass_cabrera"
   ]
  },
  {
   "cell_type": "code",
   "execution_count": 106,
   "metadata": {},
   "outputs": [
    {
     "data": {
      "text/html": [
       "<div>\n",
       "<style scoped>\n",
       "    .dataframe tbody tr th:only-of-type {\n",
       "        vertical-align: middle;\n",
       "    }\n",
       "\n",
       "    .dataframe tbody tr th {\n",
       "        vertical-align: top;\n",
       "    }\n",
       "\n",
       "    .dataframe thead th {\n",
       "        text-align: right;\n",
       "    }\n",
       "</style>\n",
       "<table border=\"1\" class=\"dataframe\">\n",
       "  <thead>\n",
       "    <tr style=\"text-align: right;\">\n",
       "      <th></th>\n",
       "      <th>School Name</th>\n",
       "      <th>School Tyoe</th>\n",
       "      <th>Total Students</th>\n",
       "      <th>Total School Budget</th>\n",
       "      <th>Average Math Score</th>\n",
       "      <th>Average Reading Score</th>\n",
       "      <th>% Passing Math</th>\n",
       "      <th>% Passing Reading</th>\n",
       "      <th>% Overall Passing</th>\n",
       "    </tr>\n",
       "  </thead>\n",
       "  <tbody>\n",
       "    <tr>\n",
       "      <th>0</th>\n",
       "      <td>Cabrera High School</td>\n",
       "      <td>Charter</td>\n",
       "      <td>1858</td>\n",
       "      <td>1081356</td>\n",
       "      <td>83.061895</td>\n",
       "      <td>83.97578</td>\n",
       "      <td>Pass    1.0\n",
       "Name: math_passfail, dtype: float64</td>\n",
       "      <td>Pass    1.0\n",
       "Name: reading_passfail, dtype: flo...</td>\n",
       "      <td>PassPass    1.0\n",
       "Name: overall_passfail, dtype:...</td>\n",
       "    </tr>\n",
       "  </tbody>\n",
       "</table>\n",
       "</div>"
      ],
      "text/plain": [
       "           School Name School Tyoe  Total Students  Total School Budget  \\\n",
       "0  Cabrera High School     Charter            1858              1081356   \n",
       "\n",
       "   Average Math Score  Average Reading Score  \\\n",
       "0           83.061895               83.97578   \n",
       "\n",
       "                                    % Passing Math  \\\n",
       "0  Pass    1.0\n",
       "Name: math_passfail, dtype: float64   \n",
       "\n",
       "                                   % Passing Reading  \\\n",
       "0  Pass    1.0\n",
       "Name: reading_passfail, dtype: flo...   \n",
       "\n",
       "                                   % Overall Passing  \n",
       "0  PassPass    1.0\n",
       "Name: overall_passfail, dtype:...  "
      ]
     },
     "execution_count": 106,
     "metadata": {},
     "output_type": "execute_result"
    }
   ],
   "source": [
    "# Print table with Huang Summary information:\n",
    "cabrera_summary_df = pd.DataFrame(\n",
    "    {\"School Name\": cabrera_name, \n",
    "     \"School Tyoe\": cabrera_type,\n",
    "     \"Total Students\": cabrera_size,\n",
    "     \"Total School Budget\": cabrera_budget,\n",
    "     \"Average Math Score\": [average_math_cabrera],\n",
    "     \"Average Reading Score\": [average_reading_cabrera],\n",
    "     \"% Passing Math\": [math_pass_cabrera],\n",
    "     \"% Passing Reading\": [reading_pass_cabrera],\n",
    "     \"% Overall Passing\": [overall_pass_cabrera]\n",
    "                       })\n",
    "cabrera_summary_df"
   ]
  },
  {
   "cell_type": "code",
   "execution_count": 107,
   "metadata": {
    "scrolled": false
   },
   "outputs": [
    {
     "data": {
      "text/html": [
       "<div>\n",
       "<style scoped>\n",
       "    .dataframe tbody tr th:only-of-type {\n",
       "        vertical-align: middle;\n",
       "    }\n",
       "\n",
       "    .dataframe tbody tr th {\n",
       "        vertical-align: top;\n",
       "    }\n",
       "\n",
       "    .dataframe thead th {\n",
       "        text-align: right;\n",
       "    }\n",
       "</style>\n",
       "<table border=\"1\" class=\"dataframe\">\n",
       "  <thead>\n",
       "    <tr style=\"text-align: right;\">\n",
       "      <th></th>\n",
       "      <th>school_name</th>\n",
       "      <th>type</th>\n",
       "      <th>size</th>\n",
       "      <th>budget</th>\n",
       "      <th>math_score</th>\n",
       "      <th>reading_score</th>\n",
       "      <th>math_passfail</th>\n",
       "      <th>reading_passfail</th>\n",
       "      <th>overall_passfail</th>\n",
       "      <th>Per_Student_Budget</th>\n",
       "    </tr>\n",
       "  </thead>\n",
       "  <tbody>\n",
       "    <tr>\n",
       "      <th>17871</th>\n",
       "      <td>Bailey High School</td>\n",
       "      <td>District</td>\n",
       "      <td>4976</td>\n",
       "      <td>3124928</td>\n",
       "      <td>59</td>\n",
       "      <td>75</td>\n",
       "      <td>Fail</td>\n",
       "      <td>Pass</td>\n",
       "      <td>FailPass</td>\n",
       "      <td>628.0</td>\n",
       "    </tr>\n",
       "    <tr>\n",
       "      <th>17872</th>\n",
       "      <td>Bailey High School</td>\n",
       "      <td>District</td>\n",
       "      <td>4976</td>\n",
       "      <td>3124928</td>\n",
       "      <td>58</td>\n",
       "      <td>84</td>\n",
       "      <td>Fail</td>\n",
       "      <td>Pass</td>\n",
       "      <td>FailPass</td>\n",
       "      <td>628.0</td>\n",
       "    </tr>\n",
       "    <tr>\n",
       "      <th>17873</th>\n",
       "      <td>Bailey High School</td>\n",
       "      <td>District</td>\n",
       "      <td>4976</td>\n",
       "      <td>3124928</td>\n",
       "      <td>86</td>\n",
       "      <td>79</td>\n",
       "      <td>Pass</td>\n",
       "      <td>Pass</td>\n",
       "      <td>PassPass</td>\n",
       "      <td>628.0</td>\n",
       "    </tr>\n",
       "    <tr>\n",
       "      <th>17874</th>\n",
       "      <td>Bailey High School</td>\n",
       "      <td>District</td>\n",
       "      <td>4976</td>\n",
       "      <td>3124928</td>\n",
       "      <td>89</td>\n",
       "      <td>71</td>\n",
       "      <td>Pass</td>\n",
       "      <td>Pass</td>\n",
       "      <td>PassPass</td>\n",
       "      <td>628.0</td>\n",
       "    </tr>\n",
       "    <tr>\n",
       "      <th>17875</th>\n",
       "      <td>Bailey High School</td>\n",
       "      <td>District</td>\n",
       "      <td>4976</td>\n",
       "      <td>3124928</td>\n",
       "      <td>61</td>\n",
       "      <td>90</td>\n",
       "      <td>Pass</td>\n",
       "      <td>Pass</td>\n",
       "      <td>PassPass</td>\n",
       "      <td>628.0</td>\n",
       "    </tr>\n",
       "  </tbody>\n",
       "</table>\n",
       "</div>"
      ],
      "text/plain": [
       "              school_name      type  size   budget  math_score  reading_score  \\\n",
       "17871  Bailey High School  District  4976  3124928          59             75   \n",
       "17872  Bailey High School  District  4976  3124928          58             84   \n",
       "17873  Bailey High School  District  4976  3124928          86             79   \n",
       "17874  Bailey High School  District  4976  3124928          89             71   \n",
       "17875  Bailey High School  District  4976  3124928          61             90   \n",
       "\n",
       "      math_passfail reading_passfail overall_passfail  Per_Student_Budget  \n",
       "17871          Fail             Pass         FailPass               628.0  \n",
       "17872          Fail             Pass         FailPass               628.0  \n",
       "17873          Pass             Pass         PassPass               628.0  \n",
       "17874          Pass             Pass         PassPass               628.0  \n",
       "17875          Pass             Pass         PassPass               628.0  "
      ]
     },
     "execution_count": 107,
     "metadata": {},
     "output_type": "execute_result"
    }
   ],
   "source": [
    "bailey_df = merge_df.loc[merge_df[\"school_name\"] == \"Bailey High School\", [\"school_name\", \"type\", \"size\", \"budget\", \"math_score\", \"reading_score\", \"math_passfail\", \"reading_passfail\", \"overall_passfail\", \"Per_Student_Budget\"]]\n",
    "bailey_df.head()"
   ]
  },
  {
   "cell_type": "code",
   "execution_count": 108,
   "metadata": {},
   "outputs": [
    {
     "data": {
      "text/plain": [
       "array(['Bailey High School'], dtype=object)"
      ]
     },
     "execution_count": 108,
     "metadata": {},
     "output_type": "execute_result"
    }
   ],
   "source": [
    "# Gather data from huang_df for the Huang High School Summary Table\n",
    "bailey_name = bailey_df[\"school_name\"].unique()\n",
    "bailey_name"
   ]
  },
  {
   "cell_type": "code",
   "execution_count": 109,
   "metadata": {},
   "outputs": [
    {
     "data": {
      "text/plain": [
       "array(['District'], dtype=object)"
      ]
     },
     "execution_count": 109,
     "metadata": {},
     "output_type": "execute_result"
    }
   ],
   "source": [
    "bailey_type = bailey_df[\"type\"].unique()\n",
    "bailey_type"
   ]
  },
  {
   "cell_type": "code",
   "execution_count": 110,
   "metadata": {},
   "outputs": [
    {
     "data": {
      "text/plain": [
       "array([4976], dtype=int64)"
      ]
     },
     "execution_count": 110,
     "metadata": {},
     "output_type": "execute_result"
    }
   ],
   "source": [
    "bailey_size = bailey_df[\"size\"].unique()\n",
    "bailey_size"
   ]
  },
  {
   "cell_type": "code",
   "execution_count": 111,
   "metadata": {},
   "outputs": [
    {
     "data": {
      "text/plain": [
       "array([3124928], dtype=int64)"
      ]
     },
     "execution_count": 111,
     "metadata": {},
     "output_type": "execute_result"
    }
   ],
   "source": [
    "bailey_budget = bailey_df[\"budget\"].unique()\n",
    "bailey_budget"
   ]
  },
  {
   "cell_type": "code",
   "execution_count": 112,
   "metadata": {},
   "outputs": [
    {
     "data": {
      "text/plain": [
       "77.04843247588424"
      ]
     },
     "execution_count": 112,
     "metadata": {},
     "output_type": "execute_result"
    }
   ],
   "source": [
    "average_math_bailey = bailey_df[\"math_score\"].mean()\n",
    "average_math_bailey"
   ]
  },
  {
   "cell_type": "code",
   "execution_count": 113,
   "metadata": {},
   "outputs": [
    {
     "data": {
      "text/plain": [
       "81.03396302250803"
      ]
     },
     "execution_count": 113,
     "metadata": {},
     "output_type": "execute_result"
    }
   ],
   "source": [
    "average_reading_bailey = bailey_df[\"reading_score\"].mean()\n",
    "average_reading_bailey"
   ]
  },
  {
   "cell_type": "code",
   "execution_count": 114,
   "metadata": {},
   "outputs": [
    {
     "data": {
      "text/plain": [
       "Pass    0.895297\n",
       "Fail    0.104703\n",
       "Name: math_passfail, dtype: float64"
      ]
     },
     "execution_count": 114,
     "metadata": {},
     "output_type": "execute_result"
    }
   ],
   "source": [
    "# Find percent of Huang students with passing math scores\n",
    "math_pass_bailey = bailey_df['math_passfail'].value_counts('Pass')\n",
    "math_pass_bailey"
   ]
  },
  {
   "cell_type": "code",
   "execution_count": 115,
   "metadata": {},
   "outputs": [
    {
     "data": {
      "text/plain": [
       "Pass    1.0\n",
       "Name: reading_passfail, dtype: float64"
      ]
     },
     "execution_count": 115,
     "metadata": {},
     "output_type": "execute_result"
    }
   ],
   "source": [
    "# Find percent of Huang students with passing reading scores\n",
    "reading_pass_bailey = bailey_df['reading_passfail'].value_counts('Pass')\n",
    "reading_pass_bailey"
   ]
  },
  {
   "cell_type": "code",
   "execution_count": 116,
   "metadata": {},
   "outputs": [
    {
     "data": {
      "text/plain": [
       "PassPass    0.895297\n",
       "FailPass    0.104703\n",
       "Name: overall_passfail, dtype: float64"
      ]
     },
     "execution_count": 116,
     "metadata": {},
     "output_type": "execute_result"
    }
   ],
   "source": [
    "overall_pass_bailey = bailey_df['overall_passfail'].value_counts('PassPass')\n",
    "overall_pass_bailey"
   ]
  },
  {
   "cell_type": "code",
   "execution_count": 117,
   "metadata": {},
   "outputs": [
    {
     "data": {
      "text/html": [
       "<div>\n",
       "<style scoped>\n",
       "    .dataframe tbody tr th:only-of-type {\n",
       "        vertical-align: middle;\n",
       "    }\n",
       "\n",
       "    .dataframe tbody tr th {\n",
       "        vertical-align: top;\n",
       "    }\n",
       "\n",
       "    .dataframe thead th {\n",
       "        text-align: right;\n",
       "    }\n",
       "</style>\n",
       "<table border=\"1\" class=\"dataframe\">\n",
       "  <thead>\n",
       "    <tr style=\"text-align: right;\">\n",
       "      <th></th>\n",
       "      <th>School Name</th>\n",
       "      <th>School Tyoe</th>\n",
       "      <th>Total Students</th>\n",
       "      <th>Total School Budget</th>\n",
       "      <th>Average Math Score</th>\n",
       "      <th>Average Reading Score</th>\n",
       "      <th>% Passing Math</th>\n",
       "      <th>% Passing Reading</th>\n",
       "      <th>% Overall Passing</th>\n",
       "    </tr>\n",
       "  </thead>\n",
       "  <tbody>\n",
       "    <tr>\n",
       "      <th>0</th>\n",
       "      <td>Bailey High School</td>\n",
       "      <td>District</td>\n",
       "      <td>4976</td>\n",
       "      <td>3124928</td>\n",
       "      <td>77.048432</td>\n",
       "      <td>81.033963</td>\n",
       "      <td>Pass    0.895297\n",
       "Fail    0.104703\n",
       "Name: math_p...</td>\n",
       "      <td>Pass    1.0\n",
       "Name: reading_passfail, dtype: flo...</td>\n",
       "      <td>PassPass    0.895297\n",
       "FailPass    0.104703\n",
       "Name...</td>\n",
       "    </tr>\n",
       "  </tbody>\n",
       "</table>\n",
       "</div>"
      ],
      "text/plain": [
       "          School Name School Tyoe  Total Students  Total School Budget  \\\n",
       "0  Bailey High School    District            4976              3124928   \n",
       "\n",
       "   Average Math Score  Average Reading Score  \\\n",
       "0           77.048432              81.033963   \n",
       "\n",
       "                                      % Passing Math  \\\n",
       "0  Pass    0.895297\n",
       "Fail    0.104703\n",
       "Name: math_p...   \n",
       "\n",
       "                                   % Passing Reading  \\\n",
       "0  Pass    1.0\n",
       "Name: reading_passfail, dtype: flo...   \n",
       "\n",
       "                                   % Overall Passing  \n",
       "0  PassPass    0.895297\n",
       "FailPass    0.104703\n",
       "Name...  "
      ]
     },
     "execution_count": 117,
     "metadata": {},
     "output_type": "execute_result"
    }
   ],
   "source": [
    "# Print table with Huang Summary information:\n",
    "bailey_summary_df = pd.DataFrame(\n",
    "    {\"School Name\": bailey_name, \n",
    "     \"School Tyoe\": bailey_type,\n",
    "     \"Total Students\": bailey_size,\n",
    "     \"Total School Budget\": bailey_budget,\n",
    "     \"Average Math Score\": [average_math_bailey],\n",
    "     \"Average Reading Score\": [average_reading_bailey],\n",
    "     \"% Passing Math\": [math_pass_bailey],\n",
    "     \"% Passing Reading\": [reading_pass_bailey],\n",
    "     \"% Overall Passing\": [overall_pass_bailey]\n",
    "                       })\n",
    "bailey_summary_df"
   ]
  },
  {
   "cell_type": "code",
   "execution_count": 118,
   "metadata": {
    "scrolled": true
   },
   "outputs": [
    {
     "data": {
      "text/html": [
       "<div>\n",
       "<style scoped>\n",
       "    .dataframe tbody tr th:only-of-type {\n",
       "        vertical-align: middle;\n",
       "    }\n",
       "\n",
       "    .dataframe tbody tr th {\n",
       "        vertical-align: top;\n",
       "    }\n",
       "\n",
       "    .dataframe thead th {\n",
       "        text-align: right;\n",
       "    }\n",
       "</style>\n",
       "<table border=\"1\" class=\"dataframe\">\n",
       "  <thead>\n",
       "    <tr style=\"text-align: right;\">\n",
       "      <th></th>\n",
       "      <th>school_name</th>\n",
       "      <th>type</th>\n",
       "      <th>size</th>\n",
       "      <th>budget</th>\n",
       "      <th>math_score</th>\n",
       "      <th>reading_score</th>\n",
       "      <th>math_passfail</th>\n",
       "      <th>reading_passfail</th>\n",
       "      <th>overall_passfail</th>\n",
       "      <th>Per_Student_Budget</th>\n",
       "    </tr>\n",
       "  </thead>\n",
       "  <tbody>\n",
       "    <tr>\n",
       "      <th>22847</th>\n",
       "      <td>Holden High School</td>\n",
       "      <td>Charter</td>\n",
       "      <td>427</td>\n",
       "      <td>248087</td>\n",
       "      <td>92</td>\n",
       "      <td>86</td>\n",
       "      <td>Pass</td>\n",
       "      <td>Pass</td>\n",
       "      <td>PassPass</td>\n",
       "      <td>581.0</td>\n",
       "    </tr>\n",
       "    <tr>\n",
       "      <th>22848</th>\n",
       "      <td>Holden High School</td>\n",
       "      <td>Charter</td>\n",
       "      <td>427</td>\n",
       "      <td>248087</td>\n",
       "      <td>81</td>\n",
       "      <td>91</td>\n",
       "      <td>Pass</td>\n",
       "      <td>Pass</td>\n",
       "      <td>PassPass</td>\n",
       "      <td>581.0</td>\n",
       "    </tr>\n",
       "    <tr>\n",
       "      <th>22849</th>\n",
       "      <td>Holden High School</td>\n",
       "      <td>Charter</td>\n",
       "      <td>427</td>\n",
       "      <td>248087</td>\n",
       "      <td>93</td>\n",
       "      <td>98</td>\n",
       "      <td>Pass</td>\n",
       "      <td>Pass</td>\n",
       "      <td>PassPass</td>\n",
       "      <td>581.0</td>\n",
       "    </tr>\n",
       "    <tr>\n",
       "      <th>22850</th>\n",
       "      <td>Holden High School</td>\n",
       "      <td>Charter</td>\n",
       "      <td>427</td>\n",
       "      <td>248087</td>\n",
       "      <td>90</td>\n",
       "      <td>80</td>\n",
       "      <td>Pass</td>\n",
       "      <td>Pass</td>\n",
       "      <td>PassPass</td>\n",
       "      <td>581.0</td>\n",
       "    </tr>\n",
       "    <tr>\n",
       "      <th>22851</th>\n",
       "      <td>Holden High School</td>\n",
       "      <td>Charter</td>\n",
       "      <td>427</td>\n",
       "      <td>248087</td>\n",
       "      <td>85</td>\n",
       "      <td>76</td>\n",
       "      <td>Pass</td>\n",
       "      <td>Pass</td>\n",
       "      <td>PassPass</td>\n",
       "      <td>581.0</td>\n",
       "    </tr>\n",
       "  </tbody>\n",
       "</table>\n",
       "</div>"
      ],
      "text/plain": [
       "              school_name     type  size  budget  math_score  reading_score  \\\n",
       "22847  Holden High School  Charter   427  248087          92             86   \n",
       "22848  Holden High School  Charter   427  248087          81             91   \n",
       "22849  Holden High School  Charter   427  248087          93             98   \n",
       "22850  Holden High School  Charter   427  248087          90             80   \n",
       "22851  Holden High School  Charter   427  248087          85             76   \n",
       "\n",
       "      math_passfail reading_passfail overall_passfail  Per_Student_Budget  \n",
       "22847          Pass             Pass         PassPass               581.0  \n",
       "22848          Pass             Pass         PassPass               581.0  \n",
       "22849          Pass             Pass         PassPass               581.0  \n",
       "22850          Pass             Pass         PassPass               581.0  \n",
       "22851          Pass             Pass         PassPass               581.0  "
      ]
     },
     "execution_count": 118,
     "metadata": {},
     "output_type": "execute_result"
    }
   ],
   "source": [
    "holden_df = merge_df.loc[merge_df[\"school_name\"] == \"Holden High School\", [\"school_name\", \"type\", \"size\", \"budget\", \"math_score\", \"reading_score\", \"math_passfail\", \"reading_passfail\", \"overall_passfail\", \"Per_Student_Budget\"]]\n",
    "holden_df.head()"
   ]
  },
  {
   "cell_type": "code",
   "execution_count": 119,
   "metadata": {},
   "outputs": [
    {
     "data": {
      "text/plain": [
       "array(['Holden High School'], dtype=object)"
      ]
     },
     "execution_count": 119,
     "metadata": {},
     "output_type": "execute_result"
    }
   ],
   "source": [
    "# Gather data from huang_df for the Huang High School Summary Table\n",
    "holden_name = holden_df[\"school_name\"].unique()\n",
    "holden_name"
   ]
  },
  {
   "cell_type": "code",
   "execution_count": 120,
   "metadata": {},
   "outputs": [
    {
     "data": {
      "text/plain": [
       "array(['Charter'], dtype=object)"
      ]
     },
     "execution_count": 120,
     "metadata": {},
     "output_type": "execute_result"
    }
   ],
   "source": [
    "holden_type = holden_df[\"type\"].unique()\n",
    "holden_type"
   ]
  },
  {
   "cell_type": "code",
   "execution_count": 121,
   "metadata": {},
   "outputs": [
    {
     "data": {
      "text/plain": [
       "array([427], dtype=int64)"
      ]
     },
     "execution_count": 121,
     "metadata": {},
     "output_type": "execute_result"
    }
   ],
   "source": [
    "holden_size = holden_df[\"size\"].unique()\n",
    "holden_size"
   ]
  },
  {
   "cell_type": "code",
   "execution_count": 122,
   "metadata": {},
   "outputs": [
    {
     "data": {
      "text/plain": [
       "array([248087], dtype=int64)"
      ]
     },
     "execution_count": 122,
     "metadata": {},
     "output_type": "execute_result"
    }
   ],
   "source": [
    "holden_budget = holden_df[\"budget\"].unique()\n",
    "holden_budget"
   ]
  },
  {
   "cell_type": "code",
   "execution_count": 123,
   "metadata": {},
   "outputs": [
    {
     "data": {
      "text/plain": [
       "83.80327868852459"
      ]
     },
     "execution_count": 123,
     "metadata": {},
     "output_type": "execute_result"
    }
   ],
   "source": [
    "average_math_holden = holden_df[\"math_score\"].mean()\n",
    "average_math_holden"
   ]
  },
  {
   "cell_type": "code",
   "execution_count": 124,
   "metadata": {},
   "outputs": [
    {
     "data": {
      "text/plain": [
       "83.81498829039812"
      ]
     },
     "execution_count": 124,
     "metadata": {},
     "output_type": "execute_result"
    }
   ],
   "source": [
    "average_reading_holden = holden_df[\"reading_score\"].mean()\n",
    "average_reading_holden"
   ]
  },
  {
   "cell_type": "code",
   "execution_count": 125,
   "metadata": {},
   "outputs": [
    {
     "data": {
      "text/plain": [
       "Pass    1.0\n",
       "Name: math_passfail, dtype: float64"
      ]
     },
     "execution_count": 125,
     "metadata": {},
     "output_type": "execute_result"
    }
   ],
   "source": [
    "# Find percent of Huang students with passing math scores\n",
    "math_pass_holden = holden_df['math_passfail'].value_counts('Pass')\n",
    "math_pass_holden"
   ]
  },
  {
   "cell_type": "code",
   "execution_count": 126,
   "metadata": {},
   "outputs": [
    {
     "data": {
      "text/plain": [
       "Pass    1.0\n",
       "Name: reading_passfail, dtype: float64"
      ]
     },
     "execution_count": 126,
     "metadata": {},
     "output_type": "execute_result"
    }
   ],
   "source": [
    "# Find percent of Huang students with passing reading scores\n",
    "reading_pass_holden = holden_df['reading_passfail'].value_counts('Pass')\n",
    "reading_pass_holden"
   ]
  },
  {
   "cell_type": "code",
   "execution_count": 127,
   "metadata": {},
   "outputs": [
    {
     "data": {
      "text/plain": [
       "PassPass    1.0\n",
       "Name: overall_passfail, dtype: float64"
      ]
     },
     "execution_count": 127,
     "metadata": {},
     "output_type": "execute_result"
    }
   ],
   "source": [
    "overall_pass_holden = holden_df['overall_passfail'].value_counts('PassPass')\n",
    "overall_pass_holden"
   ]
  },
  {
   "cell_type": "code",
   "execution_count": 128,
   "metadata": {},
   "outputs": [
    {
     "data": {
      "text/html": [
       "<div>\n",
       "<style scoped>\n",
       "    .dataframe tbody tr th:only-of-type {\n",
       "        vertical-align: middle;\n",
       "    }\n",
       "\n",
       "    .dataframe tbody tr th {\n",
       "        vertical-align: top;\n",
       "    }\n",
       "\n",
       "    .dataframe thead th {\n",
       "        text-align: right;\n",
       "    }\n",
       "</style>\n",
       "<table border=\"1\" class=\"dataframe\">\n",
       "  <thead>\n",
       "    <tr style=\"text-align: right;\">\n",
       "      <th></th>\n",
       "      <th>School Name</th>\n",
       "      <th>School Tyoe</th>\n",
       "      <th>Total Students</th>\n",
       "      <th>Total School Budget</th>\n",
       "      <th>Average Math Score</th>\n",
       "      <th>Average Reading Score</th>\n",
       "      <th>% Passing Math</th>\n",
       "      <th>% Passing Reading</th>\n",
       "      <th>% Overall Passing</th>\n",
       "    </tr>\n",
       "  </thead>\n",
       "  <tbody>\n",
       "    <tr>\n",
       "      <th>0</th>\n",
       "      <td>Holden High School</td>\n",
       "      <td>Charter</td>\n",
       "      <td>427</td>\n",
       "      <td>248087</td>\n",
       "      <td>83.803279</td>\n",
       "      <td>83.814988</td>\n",
       "      <td>Pass    1.0\n",
       "Name: math_passfail, dtype: float64</td>\n",
       "      <td>Pass    1.0\n",
       "Name: reading_passfail, dtype: flo...</td>\n",
       "      <td>PassPass    1.0\n",
       "Name: overall_passfail, dtype:...</td>\n",
       "    </tr>\n",
       "  </tbody>\n",
       "</table>\n",
       "</div>"
      ],
      "text/plain": [
       "          School Name School Tyoe  Total Students  Total School Budget  \\\n",
       "0  Holden High School     Charter             427               248087   \n",
       "\n",
       "   Average Math Score  Average Reading Score  \\\n",
       "0           83.803279              83.814988   \n",
       "\n",
       "                                    % Passing Math  \\\n",
       "0  Pass    1.0\n",
       "Name: math_passfail, dtype: float64   \n",
       "\n",
       "                                   % Passing Reading  \\\n",
       "0  Pass    1.0\n",
       "Name: reading_passfail, dtype: flo...   \n",
       "\n",
       "                                   % Overall Passing  \n",
       "0  PassPass    1.0\n",
       "Name: overall_passfail, dtype:...  "
      ]
     },
     "execution_count": 128,
     "metadata": {},
     "output_type": "execute_result"
    }
   ],
   "source": [
    "# Print table with Huang Summary information:\n",
    "holden_summary_df = pd.DataFrame(\n",
    "    {\"School Name\": holden_name, \n",
    "     \"School Tyoe\": holden_type,\n",
    "     \"Total Students\": holden_size,\n",
    "     \"Total School Budget\": holden_budget,\n",
    "     \"Average Math Score\": [average_math_holden],\n",
    "     \"Average Reading Score\": [average_reading_holden],\n",
    "     \"% Passing Math\": [math_pass_holden],\n",
    "     \"% Passing Reading\": [reading_pass_holden],\n",
    "     \"% Overall Passing\": [overall_pass_holden]\n",
    "                       })\n",
    "holden_summary_df"
   ]
  },
  {
   "cell_type": "code",
   "execution_count": 129,
   "metadata": {
    "scrolled": true
   },
   "outputs": [
    {
     "data": {
      "text/html": [
       "<div>\n",
       "<style scoped>\n",
       "    .dataframe tbody tr th:only-of-type {\n",
       "        vertical-align: middle;\n",
       "    }\n",
       "\n",
       "    .dataframe tbody tr th {\n",
       "        vertical-align: top;\n",
       "    }\n",
       "\n",
       "    .dataframe thead th {\n",
       "        text-align: right;\n",
       "    }\n",
       "</style>\n",
       "<table border=\"1\" class=\"dataframe\">\n",
       "  <thead>\n",
       "    <tr style=\"text-align: right;\">\n",
       "      <th></th>\n",
       "      <th>school_name</th>\n",
       "      <th>type</th>\n",
       "      <th>size</th>\n",
       "      <th>budget</th>\n",
       "      <th>math_score</th>\n",
       "      <th>reading_score</th>\n",
       "      <th>math_passfail</th>\n",
       "      <th>reading_passfail</th>\n",
       "      <th>overall_passfail</th>\n",
       "      <th>Per_Student_Budget</th>\n",
       "    </tr>\n",
       "  </thead>\n",
       "  <tbody>\n",
       "    <tr>\n",
       "      <th>23274</th>\n",
       "      <td>Pena High School</td>\n",
       "      <td>Charter</td>\n",
       "      <td>962</td>\n",
       "      <td>585858</td>\n",
       "      <td>75</td>\n",
       "      <td>91</td>\n",
       "      <td>Pass</td>\n",
       "      <td>Pass</td>\n",
       "      <td>PassPass</td>\n",
       "      <td>609.0</td>\n",
       "    </tr>\n",
       "    <tr>\n",
       "      <th>23275</th>\n",
       "      <td>Pena High School</td>\n",
       "      <td>Charter</td>\n",
       "      <td>962</td>\n",
       "      <td>585858</td>\n",
       "      <td>76</td>\n",
       "      <td>94</td>\n",
       "      <td>Pass</td>\n",
       "      <td>Pass</td>\n",
       "      <td>PassPass</td>\n",
       "      <td>609.0</td>\n",
       "    </tr>\n",
       "    <tr>\n",
       "      <th>23276</th>\n",
       "      <td>Pena High School</td>\n",
       "      <td>Charter</td>\n",
       "      <td>962</td>\n",
       "      <td>585858</td>\n",
       "      <td>91</td>\n",
       "      <td>98</td>\n",
       "      <td>Pass</td>\n",
       "      <td>Pass</td>\n",
       "      <td>PassPass</td>\n",
       "      <td>609.0</td>\n",
       "    </tr>\n",
       "    <tr>\n",
       "      <th>23277</th>\n",
       "      <td>Pena High School</td>\n",
       "      <td>Charter</td>\n",
       "      <td>962</td>\n",
       "      <td>585858</td>\n",
       "      <td>71</td>\n",
       "      <td>78</td>\n",
       "      <td>Pass</td>\n",
       "      <td>Pass</td>\n",
       "      <td>PassPass</td>\n",
       "      <td>609.0</td>\n",
       "    </tr>\n",
       "    <tr>\n",
       "      <th>23278</th>\n",
       "      <td>Pena High School</td>\n",
       "      <td>Charter</td>\n",
       "      <td>962</td>\n",
       "      <td>585858</td>\n",
       "      <td>92</td>\n",
       "      <td>87</td>\n",
       "      <td>Pass</td>\n",
       "      <td>Pass</td>\n",
       "      <td>PassPass</td>\n",
       "      <td>609.0</td>\n",
       "    </tr>\n",
       "  </tbody>\n",
       "</table>\n",
       "</div>"
      ],
      "text/plain": [
       "            school_name     type  size  budget  math_score  reading_score  \\\n",
       "23274  Pena High School  Charter   962  585858          75             91   \n",
       "23275  Pena High School  Charter   962  585858          76             94   \n",
       "23276  Pena High School  Charter   962  585858          91             98   \n",
       "23277  Pena High School  Charter   962  585858          71             78   \n",
       "23278  Pena High School  Charter   962  585858          92             87   \n",
       "\n",
       "      math_passfail reading_passfail overall_passfail  Per_Student_Budget  \n",
       "23274          Pass             Pass         PassPass               609.0  \n",
       "23275          Pass             Pass         PassPass               609.0  \n",
       "23276          Pass             Pass         PassPass               609.0  \n",
       "23277          Pass             Pass         PassPass               609.0  \n",
       "23278          Pass             Pass         PassPass               609.0  "
      ]
     },
     "execution_count": 129,
     "metadata": {},
     "output_type": "execute_result"
    }
   ],
   "source": [
    "pena_df = merge_df.loc[merge_df[\"school_name\"] == \"Pena High School\", [\"school_name\", \"type\", \"size\", \"budget\", \"math_score\", \"reading_score\", \"math_passfail\", \"reading_passfail\", \"overall_passfail\", \"Per_Student_Budget\"]]\n",
    "pena_df.head()"
   ]
  },
  {
   "cell_type": "code",
   "execution_count": 130,
   "metadata": {},
   "outputs": [
    {
     "data": {
      "text/plain": [
       "array(['Pena High School'], dtype=object)"
      ]
     },
     "execution_count": 130,
     "metadata": {},
     "output_type": "execute_result"
    }
   ],
   "source": [
    "# Gather data from huang_df for the Huang High School Summary Table\n",
    "pena_name = pena_df[\"school_name\"].unique()\n",
    "pena_name"
   ]
  },
  {
   "cell_type": "code",
   "execution_count": 131,
   "metadata": {},
   "outputs": [
    {
     "data": {
      "text/plain": [
       "array(['Charter'], dtype=object)"
      ]
     },
     "execution_count": 131,
     "metadata": {},
     "output_type": "execute_result"
    }
   ],
   "source": [
    "pena_type = pena_df[\"type\"].unique()\n",
    "pena_type"
   ]
  },
  {
   "cell_type": "code",
   "execution_count": 132,
   "metadata": {},
   "outputs": [
    {
     "data": {
      "text/plain": [
       "array([962], dtype=int64)"
      ]
     },
     "execution_count": 132,
     "metadata": {},
     "output_type": "execute_result"
    }
   ],
   "source": [
    "pena_size = pena_df[\"size\"].unique()\n",
    "pena_size"
   ]
  },
  {
   "cell_type": "code",
   "execution_count": 133,
   "metadata": {},
   "outputs": [
    {
     "data": {
      "text/plain": [
       "array([585858], dtype=int64)"
      ]
     },
     "execution_count": 133,
     "metadata": {},
     "output_type": "execute_result"
    }
   ],
   "source": [
    "pena_budget = pena_df[\"budget\"].unique()\n",
    "pena_budget"
   ]
  },
  {
   "cell_type": "code",
   "execution_count": 134,
   "metadata": {},
   "outputs": [
    {
     "data": {
      "text/plain": [
       "83.83991683991684"
      ]
     },
     "execution_count": 134,
     "metadata": {},
     "output_type": "execute_result"
    }
   ],
   "source": [
    "average_math_pena = pena_df[\"math_score\"].mean()\n",
    "average_math_pena"
   ]
  },
  {
   "cell_type": "code",
   "execution_count": 135,
   "metadata": {},
   "outputs": [
    {
     "data": {
      "text/plain": [
       "84.04469854469855"
      ]
     },
     "execution_count": 135,
     "metadata": {},
     "output_type": "execute_result"
    }
   ],
   "source": [
    "average_reading_pena = pena_df[\"reading_score\"].mean()\n",
    "average_reading_pena"
   ]
  },
  {
   "cell_type": "code",
   "execution_count": 136,
   "metadata": {},
   "outputs": [
    {
     "data": {
      "text/plain": [
       "Pass    1.0\n",
       "Name: math_passfail, dtype: float64"
      ]
     },
     "execution_count": 136,
     "metadata": {},
     "output_type": "execute_result"
    }
   ],
   "source": [
    "# Find percent of Huang students with passing math scores\n",
    "math_pass_pena = pena_df['math_passfail'].value_counts('Pass')\n",
    "math_pass_pena"
   ]
  },
  {
   "cell_type": "code",
   "execution_count": 137,
   "metadata": {},
   "outputs": [
    {
     "data": {
      "text/plain": [
       "Pass    1.0\n",
       "Name: reading_passfail, dtype: float64"
      ]
     },
     "execution_count": 137,
     "metadata": {},
     "output_type": "execute_result"
    }
   ],
   "source": [
    "# Find percent of Huang students with passing reading scores\n",
    "reading_pass_pena = pena_df['reading_passfail'].value_counts('Pass')\n",
    "reading_pass_pena"
   ]
  },
  {
   "cell_type": "code",
   "execution_count": 138,
   "metadata": {},
   "outputs": [
    {
     "data": {
      "text/plain": [
       "PassPass    1.0\n",
       "Name: overall_passfail, dtype: float64"
      ]
     },
     "execution_count": 138,
     "metadata": {},
     "output_type": "execute_result"
    }
   ],
   "source": [
    "overall_pass_pena = pena_df['overall_passfail'].value_counts('PassPass')\n",
    "overall_pass_pena"
   ]
  },
  {
   "cell_type": "code",
   "execution_count": 139,
   "metadata": {},
   "outputs": [
    {
     "data": {
      "text/html": [
       "<div>\n",
       "<style scoped>\n",
       "    .dataframe tbody tr th:only-of-type {\n",
       "        vertical-align: middle;\n",
       "    }\n",
       "\n",
       "    .dataframe tbody tr th {\n",
       "        vertical-align: top;\n",
       "    }\n",
       "\n",
       "    .dataframe thead th {\n",
       "        text-align: right;\n",
       "    }\n",
       "</style>\n",
       "<table border=\"1\" class=\"dataframe\">\n",
       "  <thead>\n",
       "    <tr style=\"text-align: right;\">\n",
       "      <th></th>\n",
       "      <th>School Name</th>\n",
       "      <th>School Tyoe</th>\n",
       "      <th>Total Students</th>\n",
       "      <th>Total School Budget</th>\n",
       "      <th>Average Math Score</th>\n",
       "      <th>Average Reading Score</th>\n",
       "      <th>% Passing Math</th>\n",
       "      <th>% Passing Reading</th>\n",
       "      <th>% Overall Passing</th>\n",
       "    </tr>\n",
       "  </thead>\n",
       "  <tbody>\n",
       "    <tr>\n",
       "      <th>0</th>\n",
       "      <td>Pena High School</td>\n",
       "      <td>Charter</td>\n",
       "      <td>962</td>\n",
       "      <td>585858</td>\n",
       "      <td>83.839917</td>\n",
       "      <td>84.044699</td>\n",
       "      <td>Pass    1.0\n",
       "Name: math_passfail, dtype: float64</td>\n",
       "      <td>Pass    1.0\n",
       "Name: reading_passfail, dtype: flo...</td>\n",
       "      <td>PassPass    1.0\n",
       "Name: overall_passfail, dtype:...</td>\n",
       "    </tr>\n",
       "  </tbody>\n",
       "</table>\n",
       "</div>"
      ],
      "text/plain": [
       "        School Name School Tyoe  Total Students  Total School Budget  \\\n",
       "0  Pena High School     Charter             962               585858   \n",
       "\n",
       "   Average Math Score  Average Reading Score  \\\n",
       "0           83.839917              84.044699   \n",
       "\n",
       "                                    % Passing Math  \\\n",
       "0  Pass    1.0\n",
       "Name: math_passfail, dtype: float64   \n",
       "\n",
       "                                   % Passing Reading  \\\n",
       "0  Pass    1.0\n",
       "Name: reading_passfail, dtype: flo...   \n",
       "\n",
       "                                   % Overall Passing  \n",
       "0  PassPass    1.0\n",
       "Name: overall_passfail, dtype:...  "
      ]
     },
     "execution_count": 139,
     "metadata": {},
     "output_type": "execute_result"
    }
   ],
   "source": [
    "# Print table with Huang Summary information:\n",
    "pena_summary_df = pd.DataFrame(\n",
    "    {\"School Name\": pena_name, \n",
    "     \"School Tyoe\": pena_type,\n",
    "     \"Total Students\": pena_size,\n",
    "     \"Total School Budget\": pena_budget,\n",
    "     \"Average Math Score\": [average_math_pena],\n",
    "     \"Average Reading Score\": [average_reading_pena],\n",
    "     \"% Passing Math\": [math_pass_pena],\n",
    "     \"% Passing Reading\": [reading_pass_pena],\n",
    "     \"% Overall Passing\": [overall_pass_pena]\n",
    "                       })\n",
    "pena_summary_df"
   ]
  },
  {
   "cell_type": "code",
   "execution_count": 140,
   "metadata": {
    "scrolled": true
   },
   "outputs": [
    {
     "data": {
      "text/html": [
       "<div>\n",
       "<style scoped>\n",
       "    .dataframe tbody tr th:only-of-type {\n",
       "        vertical-align: middle;\n",
       "    }\n",
       "\n",
       "    .dataframe tbody tr th {\n",
       "        vertical-align: top;\n",
       "    }\n",
       "\n",
       "    .dataframe thead th {\n",
       "        text-align: right;\n",
       "    }\n",
       "</style>\n",
       "<table border=\"1\" class=\"dataframe\">\n",
       "  <thead>\n",
       "    <tr style=\"text-align: right;\">\n",
       "      <th></th>\n",
       "      <th>school_name</th>\n",
       "      <th>type</th>\n",
       "      <th>size</th>\n",
       "      <th>budget</th>\n",
       "      <th>math_score</th>\n",
       "      <th>reading_score</th>\n",
       "      <th>math_passfail</th>\n",
       "      <th>reading_passfail</th>\n",
       "      <th>overall_passfail</th>\n",
       "      <th>Per_Student_Budget</th>\n",
       "    </tr>\n",
       "  </thead>\n",
       "  <tbody>\n",
       "    <tr>\n",
       "      <th>24236</th>\n",
       "      <td>Wright High School</td>\n",
       "      <td>Charter</td>\n",
       "      <td>1800</td>\n",
       "      <td>1049400</td>\n",
       "      <td>72</td>\n",
       "      <td>89</td>\n",
       "      <td>Pass</td>\n",
       "      <td>Pass</td>\n",
       "      <td>PassPass</td>\n",
       "      <td>583.0</td>\n",
       "    </tr>\n",
       "    <tr>\n",
       "      <th>24237</th>\n",
       "      <td>Wright High School</td>\n",
       "      <td>Charter</td>\n",
       "      <td>1800</td>\n",
       "      <td>1049400</td>\n",
       "      <td>93</td>\n",
       "      <td>84</td>\n",
       "      <td>Pass</td>\n",
       "      <td>Pass</td>\n",
       "      <td>PassPass</td>\n",
       "      <td>583.0</td>\n",
       "    </tr>\n",
       "    <tr>\n",
       "      <th>24238</th>\n",
       "      <td>Wright High School</td>\n",
       "      <td>Charter</td>\n",
       "      <td>1800</td>\n",
       "      <td>1049400</td>\n",
       "      <td>88</td>\n",
       "      <td>88</td>\n",
       "      <td>Pass</td>\n",
       "      <td>Pass</td>\n",
       "      <td>PassPass</td>\n",
       "      <td>583.0</td>\n",
       "    </tr>\n",
       "    <tr>\n",
       "      <th>24239</th>\n",
       "      <td>Wright High School</td>\n",
       "      <td>Charter</td>\n",
       "      <td>1800</td>\n",
       "      <td>1049400</td>\n",
       "      <td>84</td>\n",
       "      <td>75</td>\n",
       "      <td>Pass</td>\n",
       "      <td>Pass</td>\n",
       "      <td>PassPass</td>\n",
       "      <td>583.0</td>\n",
       "    </tr>\n",
       "    <tr>\n",
       "      <th>24240</th>\n",
       "      <td>Wright High School</td>\n",
       "      <td>Charter</td>\n",
       "      <td>1800</td>\n",
       "      <td>1049400</td>\n",
       "      <td>82</td>\n",
       "      <td>93</td>\n",
       "      <td>Pass</td>\n",
       "      <td>Pass</td>\n",
       "      <td>PassPass</td>\n",
       "      <td>583.0</td>\n",
       "    </tr>\n",
       "  </tbody>\n",
       "</table>\n",
       "</div>"
      ],
      "text/plain": [
       "              school_name     type  size   budget  math_score  reading_score  \\\n",
       "24236  Wright High School  Charter  1800  1049400          72             89   \n",
       "24237  Wright High School  Charter  1800  1049400          93             84   \n",
       "24238  Wright High School  Charter  1800  1049400          88             88   \n",
       "24239  Wright High School  Charter  1800  1049400          84             75   \n",
       "24240  Wright High School  Charter  1800  1049400          82             93   \n",
       "\n",
       "      math_passfail reading_passfail overall_passfail  Per_Student_Budget  \n",
       "24236          Pass             Pass         PassPass               583.0  \n",
       "24237          Pass             Pass         PassPass               583.0  \n",
       "24238          Pass             Pass         PassPass               583.0  \n",
       "24239          Pass             Pass         PassPass               583.0  \n",
       "24240          Pass             Pass         PassPass               583.0  "
      ]
     },
     "execution_count": 140,
     "metadata": {},
     "output_type": "execute_result"
    }
   ],
   "source": [
    "wright_df = merge_df.loc[merge_df[\"school_name\"] == \"Wright High School\", [\"school_name\", \"type\", \"size\", \"budget\", \"math_score\", \"reading_score\", \"math_passfail\", \"reading_passfail\", \"overall_passfail\", \"Per_Student_Budget\"]]\n",
    "wright_df.head()"
   ]
  },
  {
   "cell_type": "code",
   "execution_count": 141,
   "metadata": {},
   "outputs": [
    {
     "data": {
      "text/plain": [
       "array(['Wright High School'], dtype=object)"
      ]
     },
     "execution_count": 141,
     "metadata": {},
     "output_type": "execute_result"
    }
   ],
   "source": [
    "# Gather data from huang_df for the Huang High School Summary Table\n",
    "wright_name = wright_df[\"school_name\"].unique()\n",
    "wright_name"
   ]
  },
  {
   "cell_type": "code",
   "execution_count": 142,
   "metadata": {},
   "outputs": [
    {
     "data": {
      "text/plain": [
       "array(['Charter'], dtype=object)"
      ]
     },
     "execution_count": 142,
     "metadata": {},
     "output_type": "execute_result"
    }
   ],
   "source": [
    "wright_type = wright_df[\"type\"].unique()\n",
    "wright_type"
   ]
  },
  {
   "cell_type": "code",
   "execution_count": 143,
   "metadata": {},
   "outputs": [
    {
     "data": {
      "text/plain": [
       "array([1800], dtype=int64)"
      ]
     },
     "execution_count": 143,
     "metadata": {},
     "output_type": "execute_result"
    }
   ],
   "source": [
    "wright_size = wright_df[\"size\"].unique()\n",
    "wright_size"
   ]
  },
  {
   "cell_type": "code",
   "execution_count": 144,
   "metadata": {},
   "outputs": [
    {
     "data": {
      "text/plain": [
       "array([1049400], dtype=int64)"
      ]
     },
     "execution_count": 144,
     "metadata": {},
     "output_type": "execute_result"
    }
   ],
   "source": [
    "wright_budget = wright_df[\"budget\"].unique()\n",
    "wright_budget"
   ]
  },
  {
   "cell_type": "code",
   "execution_count": 145,
   "metadata": {},
   "outputs": [
    {
     "data": {
      "text/plain": [
       "83.68222222222222"
      ]
     },
     "execution_count": 145,
     "metadata": {},
     "output_type": "execute_result"
    }
   ],
   "source": [
    "average_math_wright = wright_df[\"math_score\"].mean()\n",
    "average_math_wright"
   ]
  },
  {
   "cell_type": "code",
   "execution_count": 146,
   "metadata": {},
   "outputs": [
    {
     "data": {
      "text/plain": [
       "83.955"
      ]
     },
     "execution_count": 146,
     "metadata": {},
     "output_type": "execute_result"
    }
   ],
   "source": [
    "average_reading_wright = wright_df[\"reading_score\"].mean()\n",
    "average_reading_wright"
   ]
  },
  {
   "cell_type": "code",
   "execution_count": 147,
   "metadata": {},
   "outputs": [
    {
     "data": {
      "text/plain": [
       "Pass    1.0\n",
       "Name: math_passfail, dtype: float64"
      ]
     },
     "execution_count": 147,
     "metadata": {},
     "output_type": "execute_result"
    }
   ],
   "source": [
    "# Find percent of Huang students with passing math scores\n",
    "math_pass_wright = wright_df['math_passfail'].value_counts('Pass')\n",
    "math_pass_wright"
   ]
  },
  {
   "cell_type": "code",
   "execution_count": 148,
   "metadata": {},
   "outputs": [
    {
     "data": {
      "text/plain": [
       "Pass    1.0\n",
       "Name: reading_passfail, dtype: float64"
      ]
     },
     "execution_count": 148,
     "metadata": {},
     "output_type": "execute_result"
    }
   ],
   "source": [
    "# Find percent of Huang students with passing reading scores\n",
    "reading_pass_wright = wright_df['reading_passfail'].value_counts('Pass')\n",
    "reading_pass_wright"
   ]
  },
  {
   "cell_type": "code",
   "execution_count": 149,
   "metadata": {},
   "outputs": [
    {
     "data": {
      "text/plain": [
       "PassPass    1.0\n",
       "Name: overall_passfail, dtype: float64"
      ]
     },
     "execution_count": 149,
     "metadata": {},
     "output_type": "execute_result"
    }
   ],
   "source": [
    "overall_pass_wright = wright_df['overall_passfail'].value_counts('PassPass')\n",
    "overall_pass_wright"
   ]
  },
  {
   "cell_type": "code",
   "execution_count": 150,
   "metadata": {},
   "outputs": [
    {
     "data": {
      "text/html": [
       "<div>\n",
       "<style scoped>\n",
       "    .dataframe tbody tr th:only-of-type {\n",
       "        vertical-align: middle;\n",
       "    }\n",
       "\n",
       "    .dataframe tbody tr th {\n",
       "        vertical-align: top;\n",
       "    }\n",
       "\n",
       "    .dataframe thead th {\n",
       "        text-align: right;\n",
       "    }\n",
       "</style>\n",
       "<table border=\"1\" class=\"dataframe\">\n",
       "  <thead>\n",
       "    <tr style=\"text-align: right;\">\n",
       "      <th></th>\n",
       "      <th>School Name</th>\n",
       "      <th>School Tyoe</th>\n",
       "      <th>Total Students</th>\n",
       "      <th>Total School Budget</th>\n",
       "      <th>Average Math Score</th>\n",
       "      <th>Average Reading Score</th>\n",
       "      <th>% Passing Math</th>\n",
       "      <th>% Passing Reading</th>\n",
       "      <th>% Overall Passing</th>\n",
       "    </tr>\n",
       "  </thead>\n",
       "  <tbody>\n",
       "    <tr>\n",
       "      <th>0</th>\n",
       "      <td>Wright High School</td>\n",
       "      <td>Charter</td>\n",
       "      <td>1800</td>\n",
       "      <td>1049400</td>\n",
       "      <td>83.682222</td>\n",
       "      <td>83.955</td>\n",
       "      <td>Pass    1.0\n",
       "Name: math_passfail, dtype: float64</td>\n",
       "      <td>Pass    1.0\n",
       "Name: reading_passfail, dtype: flo...</td>\n",
       "      <td>PassPass    1.0\n",
       "Name: overall_passfail, dtype:...</td>\n",
       "    </tr>\n",
       "  </tbody>\n",
       "</table>\n",
       "</div>"
      ],
      "text/plain": [
       "          School Name School Tyoe  Total Students  Total School Budget  \\\n",
       "0  Wright High School     Charter            1800              1049400   \n",
       "\n",
       "   Average Math Score  Average Reading Score  \\\n",
       "0           83.682222                 83.955   \n",
       "\n",
       "                                    % Passing Math  \\\n",
       "0  Pass    1.0\n",
       "Name: math_passfail, dtype: float64   \n",
       "\n",
       "                                   % Passing Reading  \\\n",
       "0  Pass    1.0\n",
       "Name: reading_passfail, dtype: flo...   \n",
       "\n",
       "                                   % Overall Passing  \n",
       "0  PassPass    1.0\n",
       "Name: overall_passfail, dtype:...  "
      ]
     },
     "execution_count": 150,
     "metadata": {},
     "output_type": "execute_result"
    }
   ],
   "source": [
    "# Print table with Huang Summary information:\n",
    "wright_summary_df = pd.DataFrame(\n",
    "    {\"School Name\": wright_name, \n",
    "     \"School Tyoe\": wright_type,\n",
    "     \"Total Students\": wright_size,\n",
    "     \"Total School Budget\": wright_budget,\n",
    "     \"Average Math Score\": [average_math_wright],\n",
    "     \"Average Reading Score\": [average_reading_wright],\n",
    "     \"% Passing Math\": [math_pass_wright],\n",
    "     \"% Passing Reading\": [reading_pass_wright],\n",
    "     \"% Overall Passing\": [overall_pass_wright]\n",
    "                       })\n",
    "wright_summary_df"
   ]
  },
  {
   "cell_type": "code",
   "execution_count": 151,
   "metadata": {
    "scrolled": true
   },
   "outputs": [
    {
     "data": {
      "text/html": [
       "<div>\n",
       "<style scoped>\n",
       "    .dataframe tbody tr th:only-of-type {\n",
       "        vertical-align: middle;\n",
       "    }\n",
       "\n",
       "    .dataframe tbody tr th {\n",
       "        vertical-align: top;\n",
       "    }\n",
       "\n",
       "    .dataframe thead th {\n",
       "        text-align: right;\n",
       "    }\n",
       "</style>\n",
       "<table border=\"1\" class=\"dataframe\">\n",
       "  <thead>\n",
       "    <tr style=\"text-align: right;\">\n",
       "      <th></th>\n",
       "      <th>school_name</th>\n",
       "      <th>type</th>\n",
       "      <th>size</th>\n",
       "      <th>budget</th>\n",
       "      <th>math_score</th>\n",
       "      <th>reading_score</th>\n",
       "      <th>math_passfail</th>\n",
       "      <th>reading_passfail</th>\n",
       "      <th>overall_passfail</th>\n",
       "      <th>Per_Student_Budget</th>\n",
       "    </tr>\n",
       "  </thead>\n",
       "  <tbody>\n",
       "    <tr>\n",
       "      <th>26036</th>\n",
       "      <td>Rodriguez High School</td>\n",
       "      <td>District</td>\n",
       "      <td>3999</td>\n",
       "      <td>2547363</td>\n",
       "      <td>81</td>\n",
       "      <td>74</td>\n",
       "      <td>Pass</td>\n",
       "      <td>Pass</td>\n",
       "      <td>PassPass</td>\n",
       "      <td>637.0</td>\n",
       "    </tr>\n",
       "    <tr>\n",
       "      <th>26037</th>\n",
       "      <td>Rodriguez High School</td>\n",
       "      <td>District</td>\n",
       "      <td>3999</td>\n",
       "      <td>2547363</td>\n",
       "      <td>86</td>\n",
       "      <td>80</td>\n",
       "      <td>Pass</td>\n",
       "      <td>Pass</td>\n",
       "      <td>PassPass</td>\n",
       "      <td>637.0</td>\n",
       "    </tr>\n",
       "    <tr>\n",
       "      <th>26038</th>\n",
       "      <td>Rodriguez High School</td>\n",
       "      <td>District</td>\n",
       "      <td>3999</td>\n",
       "      <td>2547363</td>\n",
       "      <td>62</td>\n",
       "      <td>97</td>\n",
       "      <td>Pass</td>\n",
       "      <td>Pass</td>\n",
       "      <td>PassPass</td>\n",
       "      <td>637.0</td>\n",
       "    </tr>\n",
       "    <tr>\n",
       "      <th>26039</th>\n",
       "      <td>Rodriguez High School</td>\n",
       "      <td>District</td>\n",
       "      <td>3999</td>\n",
       "      <td>2547363</td>\n",
       "      <td>73</td>\n",
       "      <td>79</td>\n",
       "      <td>Pass</td>\n",
       "      <td>Pass</td>\n",
       "      <td>PassPass</td>\n",
       "      <td>637.0</td>\n",
       "    </tr>\n",
       "    <tr>\n",
       "      <th>26040</th>\n",
       "      <td>Rodriguez High School</td>\n",
       "      <td>District</td>\n",
       "      <td>3999</td>\n",
       "      <td>2547363</td>\n",
       "      <td>92</td>\n",
       "      <td>96</td>\n",
       "      <td>Pass</td>\n",
       "      <td>Pass</td>\n",
       "      <td>PassPass</td>\n",
       "      <td>637.0</td>\n",
       "    </tr>\n",
       "  </tbody>\n",
       "</table>\n",
       "</div>"
      ],
      "text/plain": [
       "                 school_name      type  size   budget  math_score  \\\n",
       "26036  Rodriguez High School  District  3999  2547363          81   \n",
       "26037  Rodriguez High School  District  3999  2547363          86   \n",
       "26038  Rodriguez High School  District  3999  2547363          62   \n",
       "26039  Rodriguez High School  District  3999  2547363          73   \n",
       "26040  Rodriguez High School  District  3999  2547363          92   \n",
       "\n",
       "       reading_score math_passfail reading_passfail overall_passfail  \\\n",
       "26036             74          Pass             Pass         PassPass   \n",
       "26037             80          Pass             Pass         PassPass   \n",
       "26038             97          Pass             Pass         PassPass   \n",
       "26039             79          Pass             Pass         PassPass   \n",
       "26040             96          Pass             Pass         PassPass   \n",
       "\n",
       "       Per_Student_Budget  \n",
       "26036               637.0  \n",
       "26037               637.0  \n",
       "26038               637.0  \n",
       "26039               637.0  \n",
       "26040               637.0  "
      ]
     },
     "execution_count": 151,
     "metadata": {},
     "output_type": "execute_result"
    }
   ],
   "source": [
    "rodriguez_df = merge_df.loc[merge_df[\"school_name\"] == \"Rodriguez High School\", [\"school_name\", \"type\", \"size\", \"budget\", \"math_score\", \"reading_score\", \"math_passfail\", \"reading_passfail\", \"overall_passfail\", \"Per_Student_Budget\"]]\n",
    "rodriguez_df.head()"
   ]
  },
  {
   "cell_type": "code",
   "execution_count": 152,
   "metadata": {},
   "outputs": [
    {
     "data": {
      "text/plain": [
       "array(['Rodriguez High School'], dtype=object)"
      ]
     },
     "execution_count": 152,
     "metadata": {},
     "output_type": "execute_result"
    }
   ],
   "source": [
    "# Gather data from huang_df for the Huang High School Summary Table\n",
    "rodriguez_name = rodriguez_df[\"school_name\"].unique()\n",
    "rodriguez_name"
   ]
  },
  {
   "cell_type": "code",
   "execution_count": 153,
   "metadata": {},
   "outputs": [
    {
     "data": {
      "text/plain": [
       "array(['District'], dtype=object)"
      ]
     },
     "execution_count": 153,
     "metadata": {},
     "output_type": "execute_result"
    }
   ],
   "source": [
    "rodriguez_type = rodriguez_df[\"type\"].unique()\n",
    "rodriguez_type"
   ]
  },
  {
   "cell_type": "code",
   "execution_count": 154,
   "metadata": {},
   "outputs": [
    {
     "data": {
      "text/plain": [
       "array([3999], dtype=int64)"
      ]
     },
     "execution_count": 154,
     "metadata": {},
     "output_type": "execute_result"
    }
   ],
   "source": [
    "rodriguez_size = rodriguez_df[\"size\"].unique()\n",
    "rodriguez_size"
   ]
  },
  {
   "cell_type": "code",
   "execution_count": 155,
   "metadata": {},
   "outputs": [
    {
     "data": {
      "text/plain": [
       "array([2547363], dtype=int64)"
      ]
     },
     "execution_count": 155,
     "metadata": {},
     "output_type": "execute_result"
    }
   ],
   "source": [
    "rodriguez_budget = rodriguez_df[\"budget\"].unique()\n",
    "rodriguez_budget"
   ]
  },
  {
   "cell_type": "code",
   "execution_count": 156,
   "metadata": {},
   "outputs": [
    {
     "data": {
      "text/plain": [
       "76.84271067766942"
      ]
     },
     "execution_count": 156,
     "metadata": {},
     "output_type": "execute_result"
    }
   ],
   "source": [
    "average_math_rodriguez = rodriguez_df[\"math_score\"].mean()\n",
    "average_math_rodriguez"
   ]
  },
  {
   "cell_type": "code",
   "execution_count": 157,
   "metadata": {},
   "outputs": [
    {
     "data": {
      "text/plain": [
       "80.74468617154288"
      ]
     },
     "execution_count": 157,
     "metadata": {},
     "output_type": "execute_result"
    }
   ],
   "source": [
    "average_reading_rodriguez = rodriguez_df[\"reading_score\"].mean()\n",
    "average_reading_rodriguez"
   ]
  },
  {
   "cell_type": "code",
   "execution_count": 158,
   "metadata": {},
   "outputs": [
    {
     "data": {
      "text/plain": [
       "Pass    0.885471\n",
       "Fail    0.114529\n",
       "Name: math_passfail, dtype: float64"
      ]
     },
     "execution_count": 158,
     "metadata": {},
     "output_type": "execute_result"
    }
   ],
   "source": [
    "# Find percent of Huang students with passing math scores\n",
    "math_pass_rodriguez = rodriguez_df['math_passfail'].value_counts('Pass')\n",
    "math_pass_rodriguez"
   ]
  },
  {
   "cell_type": "code",
   "execution_count": 159,
   "metadata": {},
   "outputs": [
    {
     "data": {
      "text/plain": [
       "Pass    1.0\n",
       "Name: reading_passfail, dtype: float64"
      ]
     },
     "execution_count": 159,
     "metadata": {},
     "output_type": "execute_result"
    }
   ],
   "source": [
    "# Find percent of Huang students with passing reading scores\n",
    "reading_pass_rodriguez = rodriguez_df['reading_passfail'].value_counts('Pass')\n",
    "reading_pass_rodriguez"
   ]
  },
  {
   "cell_type": "code",
   "execution_count": 160,
   "metadata": {},
   "outputs": [
    {
     "data": {
      "text/plain": [
       "PassPass    0.885471\n",
       "FailPass    0.114529\n",
       "Name: overall_passfail, dtype: float64"
      ]
     },
     "execution_count": 160,
     "metadata": {},
     "output_type": "execute_result"
    }
   ],
   "source": [
    "overall_pass_rodriguez = rodriguez_df['overall_passfail'].value_counts('PassPass')\n",
    "overall_pass_rodriguez"
   ]
  },
  {
   "cell_type": "code",
   "execution_count": 161,
   "metadata": {},
   "outputs": [
    {
     "data": {
      "text/html": [
       "<div>\n",
       "<style scoped>\n",
       "    .dataframe tbody tr th:only-of-type {\n",
       "        vertical-align: middle;\n",
       "    }\n",
       "\n",
       "    .dataframe tbody tr th {\n",
       "        vertical-align: top;\n",
       "    }\n",
       "\n",
       "    .dataframe thead th {\n",
       "        text-align: right;\n",
       "    }\n",
       "</style>\n",
       "<table border=\"1\" class=\"dataframe\">\n",
       "  <thead>\n",
       "    <tr style=\"text-align: right;\">\n",
       "      <th></th>\n",
       "      <th>School Name</th>\n",
       "      <th>School Tyoe</th>\n",
       "      <th>Total Students</th>\n",
       "      <th>Total School Budget</th>\n",
       "      <th>Average Math Score</th>\n",
       "      <th>Average Reading Score</th>\n",
       "      <th>% Passing Math</th>\n",
       "      <th>% Passing Reading</th>\n",
       "      <th>% Overall Passing</th>\n",
       "    </tr>\n",
       "  </thead>\n",
       "  <tbody>\n",
       "    <tr>\n",
       "      <th>0</th>\n",
       "      <td>Rodriguez High School</td>\n",
       "      <td>District</td>\n",
       "      <td>3999</td>\n",
       "      <td>2547363</td>\n",
       "      <td>76.842711</td>\n",
       "      <td>80.744686</td>\n",
       "      <td>Pass    0.885471\n",
       "Fail    0.114529\n",
       "Name: math_p...</td>\n",
       "      <td>Pass    1.0\n",
       "Name: reading_passfail, dtype: flo...</td>\n",
       "      <td>PassPass    0.885471\n",
       "FailPass    0.114529\n",
       "Name...</td>\n",
       "    </tr>\n",
       "  </tbody>\n",
       "</table>\n",
       "</div>"
      ],
      "text/plain": [
       "             School Name School Tyoe  Total Students  Total School Budget  \\\n",
       "0  Rodriguez High School    District            3999              2547363   \n",
       "\n",
       "   Average Math Score  Average Reading Score  \\\n",
       "0           76.842711              80.744686   \n",
       "\n",
       "                                      % Passing Math  \\\n",
       "0  Pass    0.885471\n",
       "Fail    0.114529\n",
       "Name: math_p...   \n",
       "\n",
       "                                   % Passing Reading  \\\n",
       "0  Pass    1.0\n",
       "Name: reading_passfail, dtype: flo...   \n",
       "\n",
       "                                   % Overall Passing  \n",
       "0  PassPass    0.885471\n",
       "FailPass    0.114529\n",
       "Name...  "
      ]
     },
     "execution_count": 161,
     "metadata": {},
     "output_type": "execute_result"
    }
   ],
   "source": [
    "# Print table with Huang Summary information:\n",
    "rodriguez_summary_df = pd.DataFrame(\n",
    "    {\"School Name\": rodriguez_name, \n",
    "     \"School Tyoe\": rodriguez_type,\n",
    "     \"Total Students\": rodriguez_size,\n",
    "     \"Total School Budget\": rodriguez_budget,\n",
    "     \"Average Math Score\": [average_math_rodriguez],\n",
    "     \"Average Reading Score\": [average_reading_rodriguez],\n",
    "     \"% Passing Math\": [math_pass_rodriguez],\n",
    "     \"% Passing Reading\": [reading_pass_rodriguez],\n",
    "     \"% Overall Passing\": [overall_pass_rodriguez]\n",
    "                       })\n",
    "rodriguez_summary_df"
   ]
  },
  {
   "cell_type": "code",
   "execution_count": 162,
   "metadata": {
    "scrolled": true
   },
   "outputs": [
    {
     "data": {
      "text/html": [
       "<div>\n",
       "<style scoped>\n",
       "    .dataframe tbody tr th:only-of-type {\n",
       "        vertical-align: middle;\n",
       "    }\n",
       "\n",
       "    .dataframe tbody tr th {\n",
       "        vertical-align: top;\n",
       "    }\n",
       "\n",
       "    .dataframe thead th {\n",
       "        text-align: right;\n",
       "    }\n",
       "</style>\n",
       "<table border=\"1\" class=\"dataframe\">\n",
       "  <thead>\n",
       "    <tr style=\"text-align: right;\">\n",
       "      <th></th>\n",
       "      <th>school_name</th>\n",
       "      <th>type</th>\n",
       "      <th>size</th>\n",
       "      <th>budget</th>\n",
       "      <th>math_score</th>\n",
       "      <th>reading_score</th>\n",
       "      <th>math_passfail</th>\n",
       "      <th>reading_passfail</th>\n",
       "      <th>overall_passfail</th>\n",
       "      <th>Per_Student_Budget</th>\n",
       "    </tr>\n",
       "  </thead>\n",
       "  <tbody>\n",
       "    <tr>\n",
       "      <th>30035</th>\n",
       "      <td>Johnson High School</td>\n",
       "      <td>District</td>\n",
       "      <td>4761</td>\n",
       "      <td>3094650</td>\n",
       "      <td>87</td>\n",
       "      <td>87</td>\n",
       "      <td>Pass</td>\n",
       "      <td>Pass</td>\n",
       "      <td>PassPass</td>\n",
       "      <td>650.0</td>\n",
       "    </tr>\n",
       "    <tr>\n",
       "      <th>30036</th>\n",
       "      <td>Johnson High School</td>\n",
       "      <td>District</td>\n",
       "      <td>4761</td>\n",
       "      <td>3094650</td>\n",
       "      <td>62</td>\n",
       "      <td>98</td>\n",
       "      <td>Pass</td>\n",
       "      <td>Pass</td>\n",
       "      <td>PassPass</td>\n",
       "      <td>650.0</td>\n",
       "    </tr>\n",
       "    <tr>\n",
       "      <th>30037</th>\n",
       "      <td>Johnson High School</td>\n",
       "      <td>District</td>\n",
       "      <td>4761</td>\n",
       "      <td>3094650</td>\n",
       "      <td>77</td>\n",
       "      <td>89</td>\n",
       "      <td>Pass</td>\n",
       "      <td>Pass</td>\n",
       "      <td>PassPass</td>\n",
       "      <td>650.0</td>\n",
       "    </tr>\n",
       "    <tr>\n",
       "      <th>30038</th>\n",
       "      <td>Johnson High School</td>\n",
       "      <td>District</td>\n",
       "      <td>4761</td>\n",
       "      <td>3094650</td>\n",
       "      <td>85</td>\n",
       "      <td>66</td>\n",
       "      <td>Pass</td>\n",
       "      <td>Pass</td>\n",
       "      <td>PassPass</td>\n",
       "      <td>650.0</td>\n",
       "    </tr>\n",
       "    <tr>\n",
       "      <th>30039</th>\n",
       "      <td>Johnson High School</td>\n",
       "      <td>District</td>\n",
       "      <td>4761</td>\n",
       "      <td>3094650</td>\n",
       "      <td>85</td>\n",
       "      <td>63</td>\n",
       "      <td>Pass</td>\n",
       "      <td>Pass</td>\n",
       "      <td>PassPass</td>\n",
       "      <td>650.0</td>\n",
       "    </tr>\n",
       "  </tbody>\n",
       "</table>\n",
       "</div>"
      ],
      "text/plain": [
       "               school_name      type  size   budget  math_score  \\\n",
       "30035  Johnson High School  District  4761  3094650          87   \n",
       "30036  Johnson High School  District  4761  3094650          62   \n",
       "30037  Johnson High School  District  4761  3094650          77   \n",
       "30038  Johnson High School  District  4761  3094650          85   \n",
       "30039  Johnson High School  District  4761  3094650          85   \n",
       "\n",
       "       reading_score math_passfail reading_passfail overall_passfail  \\\n",
       "30035             87          Pass             Pass         PassPass   \n",
       "30036             98          Pass             Pass         PassPass   \n",
       "30037             89          Pass             Pass         PassPass   \n",
       "30038             66          Pass             Pass         PassPass   \n",
       "30039             63          Pass             Pass         PassPass   \n",
       "\n",
       "       Per_Student_Budget  \n",
       "30035               650.0  \n",
       "30036               650.0  \n",
       "30037               650.0  \n",
       "30038               650.0  \n",
       "30039               650.0  "
      ]
     },
     "execution_count": 162,
     "metadata": {},
     "output_type": "execute_result"
    }
   ],
   "source": [
    "johnson_df = merge_df.loc[merge_df[\"school_name\"] == \"Johnson High School\", [\"school_name\", \"type\", \"size\", \"budget\", \"math_score\", \"reading_score\", \"math_passfail\", \"reading_passfail\", \"overall_passfail\", \"Per_Student_Budget\"]]\n",
    "johnson_df.head()"
   ]
  },
  {
   "cell_type": "code",
   "execution_count": 163,
   "metadata": {},
   "outputs": [
    {
     "data": {
      "text/plain": [
       "array(['Johnson High School'], dtype=object)"
      ]
     },
     "execution_count": 163,
     "metadata": {},
     "output_type": "execute_result"
    }
   ],
   "source": [
    "# Gather data from huang_df for the Huang High School Summary Table\n",
    "johnson_name = johnson_df[\"school_name\"].unique()\n",
    "johnson_name"
   ]
  },
  {
   "cell_type": "code",
   "execution_count": 164,
   "metadata": {},
   "outputs": [
    {
     "data": {
      "text/plain": [
       "array(['District'], dtype=object)"
      ]
     },
     "execution_count": 164,
     "metadata": {},
     "output_type": "execute_result"
    }
   ],
   "source": [
    "johnson_type = johnson_df[\"type\"].unique()\n",
    "johnson_type"
   ]
  },
  {
   "cell_type": "code",
   "execution_count": 165,
   "metadata": {},
   "outputs": [
    {
     "data": {
      "text/plain": [
       "array([4761], dtype=int64)"
      ]
     },
     "execution_count": 165,
     "metadata": {},
     "output_type": "execute_result"
    }
   ],
   "source": [
    "johnson_size = johnson_df[\"size\"].unique()\n",
    "johnson_size"
   ]
  },
  {
   "cell_type": "code",
   "execution_count": 166,
   "metadata": {},
   "outputs": [
    {
     "data": {
      "text/plain": [
       "array([3094650], dtype=int64)"
      ]
     },
     "execution_count": 166,
     "metadata": {},
     "output_type": "execute_result"
    }
   ],
   "source": [
    "johnson_budget = johnson_df[\"budget\"].unique()\n",
    "johnson_budget"
   ]
  },
  {
   "cell_type": "code",
   "execution_count": 167,
   "metadata": {},
   "outputs": [
    {
     "data": {
      "text/plain": [
       "77.07246376811594"
      ]
     },
     "execution_count": 167,
     "metadata": {},
     "output_type": "execute_result"
    }
   ],
   "source": [
    "average_math_johnson = johnson_df[\"math_score\"].mean()\n",
    "average_math_johnson"
   ]
  },
  {
   "cell_type": "code",
   "execution_count": 168,
   "metadata": {},
   "outputs": [
    {
     "data": {
      "text/plain": [
       "80.96639361478681"
      ]
     },
     "execution_count": 168,
     "metadata": {},
     "output_type": "execute_result"
    }
   ],
   "source": [
    "average_reading_johnson = johnson_df[\"reading_score\"].mean()\n",
    "average_reading_johnson"
   ]
  },
  {
   "cell_type": "code",
   "execution_count": 169,
   "metadata": {},
   "outputs": [
    {
     "data": {
      "text/plain": [
       "Pass    0.891829\n",
       "Fail    0.108171\n",
       "Name: math_passfail, dtype: float64"
      ]
     },
     "execution_count": 169,
     "metadata": {},
     "output_type": "execute_result"
    }
   ],
   "source": [
    "# Find percent of Huang students with passing math scores\n",
    "math_pass_johnson = johnson_df['math_passfail'].value_counts('Pass')\n",
    "math_pass_johnson"
   ]
  },
  {
   "cell_type": "code",
   "execution_count": 170,
   "metadata": {},
   "outputs": [
    {
     "data": {
      "text/plain": [
       "Pass    1.0\n",
       "Name: reading_passfail, dtype: float64"
      ]
     },
     "execution_count": 170,
     "metadata": {},
     "output_type": "execute_result"
    }
   ],
   "source": [
    "# Find percent of Huang students with passing reading scores\n",
    "reading_pass_johnson = johnson_df['reading_passfail'].value_counts('Pass')\n",
    "reading_pass_johnson"
   ]
  },
  {
   "cell_type": "code",
   "execution_count": 171,
   "metadata": {},
   "outputs": [
    {
     "data": {
      "text/plain": [
       "PassPass    0.891829\n",
       "FailPass    0.108171\n",
       "Name: overall_passfail, dtype: float64"
      ]
     },
     "execution_count": 171,
     "metadata": {},
     "output_type": "execute_result"
    }
   ],
   "source": [
    "overall_pass_johnson = johnson_df['overall_passfail'].value_counts('PassPass')\n",
    "overall_pass_johnson"
   ]
  },
  {
   "cell_type": "code",
   "execution_count": 172,
   "metadata": {},
   "outputs": [
    {
     "data": {
      "text/html": [
       "<div>\n",
       "<style scoped>\n",
       "    .dataframe tbody tr th:only-of-type {\n",
       "        vertical-align: middle;\n",
       "    }\n",
       "\n",
       "    .dataframe tbody tr th {\n",
       "        vertical-align: top;\n",
       "    }\n",
       "\n",
       "    .dataframe thead th {\n",
       "        text-align: right;\n",
       "    }\n",
       "</style>\n",
       "<table border=\"1\" class=\"dataframe\">\n",
       "  <thead>\n",
       "    <tr style=\"text-align: right;\">\n",
       "      <th></th>\n",
       "      <th>School Name</th>\n",
       "      <th>School Tyoe</th>\n",
       "      <th>Total Students</th>\n",
       "      <th>Total School Budget</th>\n",
       "      <th>Average Math Score</th>\n",
       "      <th>Average Reading Score</th>\n",
       "      <th>% Passing Math</th>\n",
       "      <th>% Passing Reading</th>\n",
       "      <th>% Overall Passing</th>\n",
       "    </tr>\n",
       "  </thead>\n",
       "  <tbody>\n",
       "    <tr>\n",
       "      <th>0</th>\n",
       "      <td>Johnson High School</td>\n",
       "      <td>District</td>\n",
       "      <td>4761</td>\n",
       "      <td>3094650</td>\n",
       "      <td>77.072464</td>\n",
       "      <td>80.966394</td>\n",
       "      <td>Pass    0.891829\n",
       "Fail    0.108171\n",
       "Name: math_p...</td>\n",
       "      <td>Pass    1.0\n",
       "Name: reading_passfail, dtype: flo...</td>\n",
       "      <td>PassPass    0.891829\n",
       "FailPass    0.108171\n",
       "Name...</td>\n",
       "    </tr>\n",
       "  </tbody>\n",
       "</table>\n",
       "</div>"
      ],
      "text/plain": [
       "           School Name School Tyoe  Total Students  Total School Budget  \\\n",
       "0  Johnson High School    District            4761              3094650   \n",
       "\n",
       "   Average Math Score  Average Reading Score  \\\n",
       "0           77.072464              80.966394   \n",
       "\n",
       "                                      % Passing Math  \\\n",
       "0  Pass    0.891829\n",
       "Fail    0.108171\n",
       "Name: math_p...   \n",
       "\n",
       "                                   % Passing Reading  \\\n",
       "0  Pass    1.0\n",
       "Name: reading_passfail, dtype: flo...   \n",
       "\n",
       "                                   % Overall Passing  \n",
       "0  PassPass    0.891829\n",
       "FailPass    0.108171\n",
       "Name...  "
      ]
     },
     "execution_count": 172,
     "metadata": {},
     "output_type": "execute_result"
    }
   ],
   "source": [
    "# Print table with Huang Summary information:\n",
    "johnson_summary_df = pd.DataFrame(\n",
    "    {\"School Name\": johnson_name, \n",
    "     \"School Tyoe\": johnson_type,\n",
    "     \"Total Students\": johnson_size,\n",
    "     \"Total School Budget\": johnson_budget,\n",
    "     \"Average Math Score\": [average_math_johnson],\n",
    "     \"Average Reading Score\": [average_reading_johnson],\n",
    "     \"% Passing Math\": [math_pass_johnson],\n",
    "     \"% Passing Reading\": [reading_pass_johnson],\n",
    "     \"% Overall Passing\": [overall_pass_johnson]\n",
    "                       })\n",
    "johnson_summary_df"
   ]
  },
  {
   "cell_type": "code",
   "execution_count": 173,
   "metadata": {
    "scrolled": true
   },
   "outputs": [
    {
     "data": {
      "text/html": [
       "<div>\n",
       "<style scoped>\n",
       "    .dataframe tbody tr th:only-of-type {\n",
       "        vertical-align: middle;\n",
       "    }\n",
       "\n",
       "    .dataframe tbody tr th {\n",
       "        vertical-align: top;\n",
       "    }\n",
       "\n",
       "    .dataframe thead th {\n",
       "        text-align: right;\n",
       "    }\n",
       "</style>\n",
       "<table border=\"1\" class=\"dataframe\">\n",
       "  <thead>\n",
       "    <tr style=\"text-align: right;\">\n",
       "      <th></th>\n",
       "      <th>school_name</th>\n",
       "      <th>type</th>\n",
       "      <th>size</th>\n",
       "      <th>budget</th>\n",
       "      <th>math_score</th>\n",
       "      <th>reading_score</th>\n",
       "      <th>math_passfail</th>\n",
       "      <th>reading_passfail</th>\n",
       "      <th>overall_passfail</th>\n",
       "      <th>Per_Student_Budget</th>\n",
       "    </tr>\n",
       "  </thead>\n",
       "  <tbody>\n",
       "    <tr>\n",
       "      <th>34796</th>\n",
       "      <td>Ford High School</td>\n",
       "      <td>District</td>\n",
       "      <td>2739</td>\n",
       "      <td>1763916</td>\n",
       "      <td>94</td>\n",
       "      <td>66</td>\n",
       "      <td>Pass</td>\n",
       "      <td>Pass</td>\n",
       "      <td>PassPass</td>\n",
       "      <td>644.0</td>\n",
       "    </tr>\n",
       "    <tr>\n",
       "      <th>34797</th>\n",
       "      <td>Ford High School</td>\n",
       "      <td>District</td>\n",
       "      <td>2739</td>\n",
       "      <td>1763916</td>\n",
       "      <td>63</td>\n",
       "      <td>68</td>\n",
       "      <td>Pass</td>\n",
       "      <td>Pass</td>\n",
       "      <td>PassPass</td>\n",
       "      <td>644.0</td>\n",
       "    </tr>\n",
       "    <tr>\n",
       "      <th>34798</th>\n",
       "      <td>Ford High School</td>\n",
       "      <td>District</td>\n",
       "      <td>2739</td>\n",
       "      <td>1763916</td>\n",
       "      <td>59</td>\n",
       "      <td>73</td>\n",
       "      <td>Fail</td>\n",
       "      <td>Pass</td>\n",
       "      <td>FailPass</td>\n",
       "      <td>644.0</td>\n",
       "    </tr>\n",
       "    <tr>\n",
       "      <th>34799</th>\n",
       "      <td>Ford High School</td>\n",
       "      <td>District</td>\n",
       "      <td>2739</td>\n",
       "      <td>1763916</td>\n",
       "      <td>58</td>\n",
       "      <td>88</td>\n",
       "      <td>Fail</td>\n",
       "      <td>Pass</td>\n",
       "      <td>FailPass</td>\n",
       "      <td>644.0</td>\n",
       "    </tr>\n",
       "    <tr>\n",
       "      <th>34800</th>\n",
       "      <td>Ford High School</td>\n",
       "      <td>District</td>\n",
       "      <td>2739</td>\n",
       "      <td>1763916</td>\n",
       "      <td>55</td>\n",
       "      <td>96</td>\n",
       "      <td>Fail</td>\n",
       "      <td>Pass</td>\n",
       "      <td>FailPass</td>\n",
       "      <td>644.0</td>\n",
       "    </tr>\n",
       "  </tbody>\n",
       "</table>\n",
       "</div>"
      ],
      "text/plain": [
       "            school_name      type  size   budget  math_score  reading_score  \\\n",
       "34796  Ford High School  District  2739  1763916          94             66   \n",
       "34797  Ford High School  District  2739  1763916          63             68   \n",
       "34798  Ford High School  District  2739  1763916          59             73   \n",
       "34799  Ford High School  District  2739  1763916          58             88   \n",
       "34800  Ford High School  District  2739  1763916          55             96   \n",
       "\n",
       "      math_passfail reading_passfail overall_passfail  Per_Student_Budget  \n",
       "34796          Pass             Pass         PassPass               644.0  \n",
       "34797          Pass             Pass         PassPass               644.0  \n",
       "34798          Fail             Pass         FailPass               644.0  \n",
       "34799          Fail             Pass         FailPass               644.0  \n",
       "34800          Fail             Pass         FailPass               644.0  "
      ]
     },
     "execution_count": 173,
     "metadata": {},
     "output_type": "execute_result"
    }
   ],
   "source": [
    "ford_df = merge_df.loc[merge_df[\"school_name\"] == \"Ford High School\", [\"school_name\", \"type\", \"size\", \"budget\", \"math_score\", \"reading_score\", \"math_passfail\", \"reading_passfail\", \"overall_passfail\", \"Per_Student_Budget\"]]\n",
    "ford_df.head()"
   ]
  },
  {
   "cell_type": "code",
   "execution_count": 174,
   "metadata": {},
   "outputs": [
    {
     "data": {
      "text/plain": [
       "array(['Ford High School'], dtype=object)"
      ]
     },
     "execution_count": 174,
     "metadata": {},
     "output_type": "execute_result"
    }
   ],
   "source": [
    "# Gather data from huang_df for the Huang High School Summary Table\n",
    "ford_name = ford_df[\"school_name\"].unique()\n",
    "ford_name"
   ]
  },
  {
   "cell_type": "code",
   "execution_count": 175,
   "metadata": {},
   "outputs": [
    {
     "data": {
      "text/plain": [
       "array(['District'], dtype=object)"
      ]
     },
     "execution_count": 175,
     "metadata": {},
     "output_type": "execute_result"
    }
   ],
   "source": [
    "ford_type = ford_df[\"type\"].unique()\n",
    "ford_type"
   ]
  },
  {
   "cell_type": "code",
   "execution_count": 176,
   "metadata": {},
   "outputs": [
    {
     "data": {
      "text/plain": [
       "array([2739], dtype=int64)"
      ]
     },
     "execution_count": 176,
     "metadata": {},
     "output_type": "execute_result"
    }
   ],
   "source": [
    "ford_size = ford_df[\"size\"].unique()\n",
    "ford_size"
   ]
  },
  {
   "cell_type": "code",
   "execution_count": 177,
   "metadata": {},
   "outputs": [
    {
     "data": {
      "text/plain": [
       "array([1763916], dtype=int64)"
      ]
     },
     "execution_count": 177,
     "metadata": {},
     "output_type": "execute_result"
    }
   ],
   "source": [
    "ford_budget = ford_df[\"budget\"].unique()\n",
    "ford_budget"
   ]
  },
  {
   "cell_type": "code",
   "execution_count": 178,
   "metadata": {},
   "outputs": [
    {
     "data": {
      "text/plain": [
       "77.10259218692954"
      ]
     },
     "execution_count": 178,
     "metadata": {},
     "output_type": "execute_result"
    }
   ],
   "source": [
    "average_math_ford = ford_df[\"math_score\"].mean()\n",
    "average_math_ford"
   ]
  },
  {
   "cell_type": "code",
   "execution_count": 179,
   "metadata": {},
   "outputs": [
    {
     "data": {
      "text/plain": [
       "80.74625775830594"
      ]
     },
     "execution_count": 179,
     "metadata": {},
     "output_type": "execute_result"
    }
   ],
   "source": [
    "average_reading_ford = ford_df[\"reading_score\"].mean()\n",
    "average_reading_ford"
   ]
  },
  {
   "cell_type": "code",
   "execution_count": 180,
   "metadata": {},
   "outputs": [
    {
     "data": {
      "text/plain": [
       "Pass    0.893027\n",
       "Fail    0.106973\n",
       "Name: math_passfail, dtype: float64"
      ]
     },
     "execution_count": 180,
     "metadata": {},
     "output_type": "execute_result"
    }
   ],
   "source": [
    "# Find percent of Huang students with passing math scores\n",
    "math_pass_ford = ford_df['math_passfail'].value_counts('Pass')\n",
    "math_pass_ford"
   ]
  },
  {
   "cell_type": "code",
   "execution_count": 181,
   "metadata": {},
   "outputs": [
    {
     "data": {
      "text/plain": [
       "Pass    1.0\n",
       "Name: reading_passfail, dtype: float64"
      ]
     },
     "execution_count": 181,
     "metadata": {},
     "output_type": "execute_result"
    }
   ],
   "source": [
    "# Find percent of Huang students with passing reading scores\n",
    "reading_pass_ford = ford_df['reading_passfail'].value_counts('Pass')\n",
    "reading_pass_ford"
   ]
  },
  {
   "cell_type": "code",
   "execution_count": 182,
   "metadata": {},
   "outputs": [
    {
     "data": {
      "text/plain": [
       "PassPass    0.893027\n",
       "FailPass    0.106973\n",
       "Name: overall_passfail, dtype: float64"
      ]
     },
     "execution_count": 182,
     "metadata": {},
     "output_type": "execute_result"
    }
   ],
   "source": [
    "overall_pass_ford = ford_df['overall_passfail'].value_counts('PassPass')\n",
    "overall_pass_ford"
   ]
  },
  {
   "cell_type": "code",
   "execution_count": 183,
   "metadata": {},
   "outputs": [
    {
     "data": {
      "text/html": [
       "<div>\n",
       "<style scoped>\n",
       "    .dataframe tbody tr th:only-of-type {\n",
       "        vertical-align: middle;\n",
       "    }\n",
       "\n",
       "    .dataframe tbody tr th {\n",
       "        vertical-align: top;\n",
       "    }\n",
       "\n",
       "    .dataframe thead th {\n",
       "        text-align: right;\n",
       "    }\n",
       "</style>\n",
       "<table border=\"1\" class=\"dataframe\">\n",
       "  <thead>\n",
       "    <tr style=\"text-align: right;\">\n",
       "      <th></th>\n",
       "      <th>School Name</th>\n",
       "      <th>School Tyoe</th>\n",
       "      <th>Total Students</th>\n",
       "      <th>Total School Budget</th>\n",
       "      <th>Average Math Score</th>\n",
       "      <th>Average Reading Score</th>\n",
       "      <th>% Passing Math</th>\n",
       "      <th>% Passing Reading</th>\n",
       "      <th>% Overall Passing</th>\n",
       "    </tr>\n",
       "  </thead>\n",
       "  <tbody>\n",
       "    <tr>\n",
       "      <th>0</th>\n",
       "      <td>Ford High School</td>\n",
       "      <td>District</td>\n",
       "      <td>2739</td>\n",
       "      <td>1763916</td>\n",
       "      <td>77.102592</td>\n",
       "      <td>80.746258</td>\n",
       "      <td>Pass    0.893027\n",
       "Fail    0.106973\n",
       "Name: math_p...</td>\n",
       "      <td>Pass    1.0\n",
       "Name: reading_passfail, dtype: flo...</td>\n",
       "      <td>PassPass    0.893027\n",
       "FailPass    0.106973\n",
       "Name...</td>\n",
       "    </tr>\n",
       "  </tbody>\n",
       "</table>\n",
       "</div>"
      ],
      "text/plain": [
       "        School Name School Tyoe  Total Students  Total School Budget  \\\n",
       "0  Ford High School    District            2739              1763916   \n",
       "\n",
       "   Average Math Score  Average Reading Score  \\\n",
       "0           77.102592              80.746258   \n",
       "\n",
       "                                      % Passing Math  \\\n",
       "0  Pass    0.893027\n",
       "Fail    0.106973\n",
       "Name: math_p...   \n",
       "\n",
       "                                   % Passing Reading  \\\n",
       "0  Pass    1.0\n",
       "Name: reading_passfail, dtype: flo...   \n",
       "\n",
       "                                   % Overall Passing  \n",
       "0  PassPass    0.893027\n",
       "FailPass    0.106973\n",
       "Name...  "
      ]
     },
     "execution_count": 183,
     "metadata": {},
     "output_type": "execute_result"
    }
   ],
   "source": [
    "# Print table with Huang Summary information:\n",
    "ford_summary_df = pd.DataFrame(\n",
    "    {\"School Name\": ford_name, \n",
    "     \"School Tyoe\": ford_type,\n",
    "     \"Total Students\": ford_size,\n",
    "     \"Total School Budget\": ford_budget,\n",
    "     \"Average Math Score\": [average_math_ford],\n",
    "     \"Average Reading Score\": [average_reading_ford],\n",
    "     \"% Passing Math\": [math_pass_ford],\n",
    "     \"% Passing Reading\": [reading_pass_ford],\n",
    "     \"% Overall Passing\": [overall_pass_ford]\n",
    "                       })\n",
    "ford_summary_df"
   ]
  },
  {
   "cell_type": "code",
   "execution_count": 184,
   "metadata": {
    "scrolled": true
   },
   "outputs": [
    {
     "data": {
      "text/html": [
       "<div>\n",
       "<style scoped>\n",
       "    .dataframe tbody tr th:only-of-type {\n",
       "        vertical-align: middle;\n",
       "    }\n",
       "\n",
       "    .dataframe tbody tr th {\n",
       "        vertical-align: top;\n",
       "    }\n",
       "\n",
       "    .dataframe thead th {\n",
       "        text-align: right;\n",
       "    }\n",
       "</style>\n",
       "<table border=\"1\" class=\"dataframe\">\n",
       "  <thead>\n",
       "    <tr style=\"text-align: right;\">\n",
       "      <th></th>\n",
       "      <th>school_name</th>\n",
       "      <th>type</th>\n",
       "      <th>size</th>\n",
       "      <th>budget</th>\n",
       "      <th>math_score</th>\n",
       "      <th>reading_score</th>\n",
       "      <th>math_passfail</th>\n",
       "      <th>reading_passfail</th>\n",
       "      <th>overall_passfail</th>\n",
       "      <th>Per_Student_Budget</th>\n",
       "    </tr>\n",
       "  </thead>\n",
       "  <tbody>\n",
       "    <tr>\n",
       "      <th>37535</th>\n",
       "      <td>Thomas High School</td>\n",
       "      <td>Charter</td>\n",
       "      <td>1635</td>\n",
       "      <td>1043130</td>\n",
       "      <td>76</td>\n",
       "      <td>76</td>\n",
       "      <td>Pass</td>\n",
       "      <td>Pass</td>\n",
       "      <td>PassPass</td>\n",
       "      <td>638.0</td>\n",
       "    </tr>\n",
       "    <tr>\n",
       "      <th>37536</th>\n",
       "      <td>Thomas High School</td>\n",
       "      <td>Charter</td>\n",
       "      <td>1635</td>\n",
       "      <td>1043130</td>\n",
       "      <td>82</td>\n",
       "      <td>84</td>\n",
       "      <td>Pass</td>\n",
       "      <td>Pass</td>\n",
       "      <td>PassPass</td>\n",
       "      <td>638.0</td>\n",
       "    </tr>\n",
       "    <tr>\n",
       "      <th>37537</th>\n",
       "      <td>Thomas High School</td>\n",
       "      <td>Charter</td>\n",
       "      <td>1635</td>\n",
       "      <td>1043130</td>\n",
       "      <td>90</td>\n",
       "      <td>80</td>\n",
       "      <td>Pass</td>\n",
       "      <td>Pass</td>\n",
       "      <td>PassPass</td>\n",
       "      <td>638.0</td>\n",
       "    </tr>\n",
       "    <tr>\n",
       "      <th>37538</th>\n",
       "      <td>Thomas High School</td>\n",
       "      <td>Charter</td>\n",
       "      <td>1635</td>\n",
       "      <td>1043130</td>\n",
       "      <td>69</td>\n",
       "      <td>71</td>\n",
       "      <td>Pass</td>\n",
       "      <td>Pass</td>\n",
       "      <td>PassPass</td>\n",
       "      <td>638.0</td>\n",
       "    </tr>\n",
       "    <tr>\n",
       "      <th>37539</th>\n",
       "      <td>Thomas High School</td>\n",
       "      <td>Charter</td>\n",
       "      <td>1635</td>\n",
       "      <td>1043130</td>\n",
       "      <td>76</td>\n",
       "      <td>86</td>\n",
       "      <td>Pass</td>\n",
       "      <td>Pass</td>\n",
       "      <td>PassPass</td>\n",
       "      <td>638.0</td>\n",
       "    </tr>\n",
       "  </tbody>\n",
       "</table>\n",
       "</div>"
      ],
      "text/plain": [
       "              school_name     type  size   budget  math_score  reading_score  \\\n",
       "37535  Thomas High School  Charter  1635  1043130          76             76   \n",
       "37536  Thomas High School  Charter  1635  1043130          82             84   \n",
       "37537  Thomas High School  Charter  1635  1043130          90             80   \n",
       "37538  Thomas High School  Charter  1635  1043130          69             71   \n",
       "37539  Thomas High School  Charter  1635  1043130          76             86   \n",
       "\n",
       "      math_passfail reading_passfail overall_passfail  Per_Student_Budget  \n",
       "37535          Pass             Pass         PassPass               638.0  \n",
       "37536          Pass             Pass         PassPass               638.0  \n",
       "37537          Pass             Pass         PassPass               638.0  \n",
       "37538          Pass             Pass         PassPass               638.0  \n",
       "37539          Pass             Pass         PassPass               638.0  "
      ]
     },
     "execution_count": 184,
     "metadata": {},
     "output_type": "execute_result"
    }
   ],
   "source": [
    "thomas_df = merge_df.loc[merge_df[\"school_name\"] == \"Thomas High School\", [\"school_name\", \"type\", \"size\", \"budget\", \"math_score\", \"reading_score\", \"math_passfail\", \"reading_passfail\", \"overall_passfail\", \"Per_Student_Budget\"]]\n",
    "thomas_df.head()"
   ]
  },
  {
   "cell_type": "code",
   "execution_count": 185,
   "metadata": {},
   "outputs": [
    {
     "data": {
      "text/plain": [
       "array(['Thomas High School'], dtype=object)"
      ]
     },
     "execution_count": 185,
     "metadata": {},
     "output_type": "execute_result"
    }
   ],
   "source": [
    "# Gather data from huang_df for the Huang High School Summary Table\n",
    "thomas_name = thomas_df[\"school_name\"].unique()\n",
    "thomas_name"
   ]
  },
  {
   "cell_type": "code",
   "execution_count": 186,
   "metadata": {},
   "outputs": [
    {
     "data": {
      "text/plain": [
       "array(['Charter'], dtype=object)"
      ]
     },
     "execution_count": 186,
     "metadata": {},
     "output_type": "execute_result"
    }
   ],
   "source": [
    "thomas_type = thomas_df[\"type\"].unique()\n",
    "thomas_type"
   ]
  },
  {
   "cell_type": "code",
   "execution_count": 187,
   "metadata": {},
   "outputs": [
    {
     "data": {
      "text/plain": [
       "array([1635], dtype=int64)"
      ]
     },
     "execution_count": 187,
     "metadata": {},
     "output_type": "execute_result"
    }
   ],
   "source": [
    "thomas_size = thomas_df[\"size\"].unique()\n",
    "thomas_size"
   ]
  },
  {
   "cell_type": "code",
   "execution_count": 188,
   "metadata": {},
   "outputs": [
    {
     "data": {
      "text/plain": [
       "array([1043130], dtype=int64)"
      ]
     },
     "execution_count": 188,
     "metadata": {},
     "output_type": "execute_result"
    }
   ],
   "source": [
    "thomas_budget = thomas_df[\"budget\"].unique()\n",
    "thomas_budget"
   ]
  },
  {
   "cell_type": "code",
   "execution_count": 189,
   "metadata": {},
   "outputs": [
    {
     "data": {
      "text/plain": [
       "83.4183486238532"
      ]
     },
     "execution_count": 189,
     "metadata": {},
     "output_type": "execute_result"
    }
   ],
   "source": [
    "average_math_thomas = thomas_df[\"math_score\"].mean()\n",
    "average_math_thomas"
   ]
  },
  {
   "cell_type": "code",
   "execution_count": 190,
   "metadata": {},
   "outputs": [
    {
     "data": {
      "text/plain": [
       "83.84892966360856"
      ]
     },
     "execution_count": 190,
     "metadata": {},
     "output_type": "execute_result"
    }
   ],
   "source": [
    "average_reading_thomas = thomas_df[\"reading_score\"].mean()\n",
    "average_reading_thomas"
   ]
  },
  {
   "cell_type": "code",
   "execution_count": 191,
   "metadata": {},
   "outputs": [
    {
     "data": {
      "text/plain": [
       "Pass    1.0\n",
       "Name: math_passfail, dtype: float64"
      ]
     },
     "execution_count": 191,
     "metadata": {},
     "output_type": "execute_result"
    }
   ],
   "source": [
    "# Find percent of Huang students with passing math scores\n",
    "math_pass_thomas = thomas_df['math_passfail'].value_counts('Pass')\n",
    "math_pass_thomas"
   ]
  },
  {
   "cell_type": "code",
   "execution_count": 192,
   "metadata": {},
   "outputs": [
    {
     "data": {
      "text/plain": [
       "Pass    1.0\n",
       "Name: reading_passfail, dtype: float64"
      ]
     },
     "execution_count": 192,
     "metadata": {},
     "output_type": "execute_result"
    }
   ],
   "source": [
    "# Find percent of Huang students with passing reading scores\n",
    "reading_pass_thomas = thomas_df['reading_passfail'].value_counts('Pass')\n",
    "reading_pass_thomas"
   ]
  },
  {
   "cell_type": "code",
   "execution_count": 193,
   "metadata": {},
   "outputs": [
    {
     "data": {
      "text/plain": [
       "PassPass    1.0\n",
       "Name: overall_passfail, dtype: float64"
      ]
     },
     "execution_count": 193,
     "metadata": {},
     "output_type": "execute_result"
    }
   ],
   "source": [
    "overall_pass_thomas = thomas_df['overall_passfail'].value_counts('PassPass')\n",
    "overall_pass_thomas"
   ]
  },
  {
   "cell_type": "code",
   "execution_count": 194,
   "metadata": {},
   "outputs": [
    {
     "data": {
      "text/html": [
       "<div>\n",
       "<style scoped>\n",
       "    .dataframe tbody tr th:only-of-type {\n",
       "        vertical-align: middle;\n",
       "    }\n",
       "\n",
       "    .dataframe tbody tr th {\n",
       "        vertical-align: top;\n",
       "    }\n",
       "\n",
       "    .dataframe thead th {\n",
       "        text-align: right;\n",
       "    }\n",
       "</style>\n",
       "<table border=\"1\" class=\"dataframe\">\n",
       "  <thead>\n",
       "    <tr style=\"text-align: right;\">\n",
       "      <th></th>\n",
       "      <th>School Name</th>\n",
       "      <th>School Tyoe</th>\n",
       "      <th>Total Students</th>\n",
       "      <th>Total School Budget</th>\n",
       "      <th>Average Math Score</th>\n",
       "      <th>Average Reading Score</th>\n",
       "      <th>% Passing Math</th>\n",
       "      <th>% Passing Reading</th>\n",
       "      <th>% Overall Passing</th>\n",
       "    </tr>\n",
       "  </thead>\n",
       "  <tbody>\n",
       "    <tr>\n",
       "      <th>0</th>\n",
       "      <td>Thomas High School</td>\n",
       "      <td>Charter</td>\n",
       "      <td>1635</td>\n",
       "      <td>1043130</td>\n",
       "      <td>83.418349</td>\n",
       "      <td>83.84893</td>\n",
       "      <td>Pass    1.0\n",
       "Name: math_passfail, dtype: float64</td>\n",
       "      <td>Pass    1.0\n",
       "Name: reading_passfail, dtype: flo...</td>\n",
       "      <td>PassPass    1.0\n",
       "Name: overall_passfail, dtype:...</td>\n",
       "    </tr>\n",
       "  </tbody>\n",
       "</table>\n",
       "</div>"
      ],
      "text/plain": [
       "          School Name School Tyoe  Total Students  Total School Budget  \\\n",
       "0  Thomas High School     Charter            1635              1043130   \n",
       "\n",
       "   Average Math Score  Average Reading Score  \\\n",
       "0           83.418349               83.84893   \n",
       "\n",
       "                                    % Passing Math  \\\n",
       "0  Pass    1.0\n",
       "Name: math_passfail, dtype: float64   \n",
       "\n",
       "                                   % Passing Reading  \\\n",
       "0  Pass    1.0\n",
       "Name: reading_passfail, dtype: flo...   \n",
       "\n",
       "                                   % Overall Passing  \n",
       "0  PassPass    1.0\n",
       "Name: overall_passfail, dtype:...  "
      ]
     },
     "execution_count": 194,
     "metadata": {},
     "output_type": "execute_result"
    }
   ],
   "source": [
    "# Print table with Huang Summary information:\n",
    "thomas_summary_df = pd.DataFrame(\n",
    "    {\"School Name\": thomas_name, \n",
    "     \"School Tyoe\": thomas_type,\n",
    "     \"Total Students\": thomas_size,\n",
    "     \"Total School Budget\": thomas_budget,\n",
    "     \"Average Math Score\": [average_math_thomas],\n",
    "     \"Average Reading Score\": [average_reading_thomas],\n",
    "     \"% Passing Math\": [math_pass_thomas],\n",
    "     \"% Passing Reading\": [reading_pass_thomas],\n",
    "     \"% Overall Passing\": [overall_pass_thomas]\n",
    "                       })\n",
    "thomas_summary_df"
   ]
  },
  {
   "cell_type": "code",
   "execution_count": null,
   "metadata": {},
   "outputs": [],
   "source": [
    "# I need to put all this informaiton into the same table. I'm afraid I miss understood the \"School Summary table\" \n",
    "# as meaning on for each school. I guess I could put all this back together. It's just not an efficient way to do this. "
   ]
  },
  {
   "cell_type": "code",
   "execution_count": null,
   "metadata": {},
   "outputs": [],
   "source": []
  }
 ],
 "metadata": {
  "kernelspec": {
   "display_name": "Python [conda env:PythonData] *",
   "language": "python",
   "name": "conda-env-PythonData-py"
  },
  "language_info": {
   "codemirror_mode": {
    "name": "ipython",
    "version": 3
   },
   "file_extension": ".py",
   "mimetype": "text/x-python",
   "name": "python",
   "nbconvert_exporter": "python",
   "pygments_lexer": "ipython3",
   "version": "3.6.10"
  }
 },
 "nbformat": 4,
 "nbformat_minor": 4
}
